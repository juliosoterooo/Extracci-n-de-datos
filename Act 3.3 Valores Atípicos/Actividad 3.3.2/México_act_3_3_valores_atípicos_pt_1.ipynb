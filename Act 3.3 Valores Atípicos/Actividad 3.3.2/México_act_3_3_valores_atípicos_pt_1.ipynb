{
  "cells": [
    {
      "cell_type": "markdown",
      "metadata": {
        "id": "view-in-github",
        "colab_type": "text"
      },
      "source": [
        "<a href=\"https://colab.research.google.com/github/juliosoterooo/Extracci-n-de-datos/blob/main/Act%203.3%20Valores%20At%C3%ADpicos/Actividad%203.3.2/M%C3%A9xico_act_3_3_valores_at%C3%ADpicos_pt_1.ipynb\" target=\"_parent\"><img src=\"https://colab.research.google.com/assets/colab-badge.svg\" alt=\"Open In Colab\"/></a>"
      ]
    },
    {
      "cell_type": "code",
      "execution_count": null,
      "metadata": {
        "id": "gcz5zhdXnmJS"
      },
      "outputs": [],
      "source": [
        "#Importamos las libreerias pandas, numpy y matplotlib respectivamente\n",
        "import numpy as np\n",
        "import pandas as pd\n",
        "import matplotlib.pyplot as plt"
      ]
    },
    {
      "cell_type": "code",
      "execution_count": null,
      "metadata": {
        "id": "15ClvHXknuYH"
      },
      "outputs": [],
      "source": [
        "#Cargar archivo csv desde equipo\n",
        "data=pd.read_csv(\"listings_mexico.csv\")"
      ]
    },
    {
      "cell_type": "markdown",
      "metadata": {
        "id": "KY5aKKVnDrTO"
      },
      "source": [
        "# Analisis de columnas"
      ]
    },
    {
      "cell_type": "code",
      "execution_count": null,
      "metadata": {
        "colab": {
          "base_uri": "https://localhost:8080/"
        },
        "collapsed": true,
        "id": "iDmCbblW_1uN",
        "outputId": "e0e88073-bffb-4145-e3a3-30383dbc945f"
      },
      "outputs": [
        {
          "output_type": "stream",
          "name": "stdout",
          "text": [
            "<class 'pandas.core.frame.DataFrame'>\n",
            "RangeIndex: 26536 entries, 0 to 26535\n",
            "Data columns (total 75 columns):\n",
            " #   Column                                        Non-Null Count  Dtype  \n",
            "---  ------                                        --------------  -----  \n",
            " 0   id                                            26536 non-null  int64  \n",
            " 1   listing_url                                   26536 non-null  object \n",
            " 2   scrape_id                                     26536 non-null  int64  \n",
            " 3   last_scraped                                  26536 non-null  object \n",
            " 4   source                                        26536 non-null  object \n",
            " 5   name                                          26536 non-null  object \n",
            " 6   description                                   25585 non-null  object \n",
            " 7   neighborhood_overview                         16246 non-null  object \n",
            " 8   picture_url                                   26536 non-null  object \n",
            " 9   host_id                                       26536 non-null  int64  \n",
            " 10  host_url                                      26536 non-null  object \n",
            " 11  host_name                                     26536 non-null  object \n",
            " 12  host_since                                    26536 non-null  object \n",
            " 13  host_location                                 20930 non-null  object \n",
            " 14  host_about                                    15354 non-null  object \n",
            " 15  host_response_time                            22339 non-null  object \n",
            " 16  host_response_rate                            22339 non-null  object \n",
            " 17  host_acceptance_rate                          23681 non-null  object \n",
            " 18  host_is_superhost                             24993 non-null  object \n",
            " 19  host_thumbnail_url                            26536 non-null  object \n",
            " 20  host_picture_url                              26536 non-null  object \n",
            " 21  host_neighbourhood                            13181 non-null  object \n",
            " 22  host_listings_count                           26536 non-null  int64  \n",
            " 23  host_total_listings_count                     26536 non-null  int64  \n",
            " 24  host_verifications                            26536 non-null  object \n",
            " 25  host_has_profile_pic                          26536 non-null  object \n",
            " 26  host_identity_verified                        26536 non-null  object \n",
            " 27  neighbourhood                                 16246 non-null  object \n",
            " 28  neighbourhood_cleansed                        26536 non-null  object \n",
            " 29  neighbourhood_group_cleansed                  0 non-null      float64\n",
            " 30  latitude                                      26536 non-null  float64\n",
            " 31  longitude                                     26536 non-null  float64\n",
            " 32  property_type                                 26536 non-null  object \n",
            " 33  room_type                                     26536 non-null  object \n",
            " 34  accommodates                                  26536 non-null  int64  \n",
            " 35  bathrooms                                     23407 non-null  float64\n",
            " 36  bathrooms_text                                26511 non-null  object \n",
            " 37  bedrooms                                      25465 non-null  float64\n",
            " 38  beds                                          23372 non-null  float64\n",
            " 39  amenities                                     26536 non-null  object \n",
            " 40  price                                         23338 non-null  object \n",
            " 41  minimum_nights                                26536 non-null  int64  \n",
            " 42  maximum_nights                                26536 non-null  int64  \n",
            " 43  minimum_minimum_nights                        26536 non-null  int64  \n",
            " 44  maximum_minimum_nights                        26536 non-null  int64  \n",
            " 45  minimum_maximum_nights                        26536 non-null  int64  \n",
            " 46  maximum_maximum_nights                        26536 non-null  int64  \n",
            " 47  minimum_nights_avg_ntm                        26536 non-null  float64\n",
            " 48  maximum_nights_avg_ntm                        26536 non-null  float64\n",
            " 49  calendar_updated                              0 non-null      float64\n",
            " 50  has_availability                              25500 non-null  object \n",
            " 51  availability_30                               26536 non-null  int64  \n",
            " 52  availability_60                               26536 non-null  int64  \n",
            " 53  availability_90                               26536 non-null  int64  \n",
            " 54  availability_365                              26536 non-null  int64  \n",
            " 55  calendar_last_scraped                         26536 non-null  object \n",
            " 56  number_of_reviews                             26536 non-null  int64  \n",
            " 57  number_of_reviews_ltm                         26536 non-null  int64  \n",
            " 58  number_of_reviews_l30d                        26536 non-null  int64  \n",
            " 59  first_review                                  22664 non-null  object \n",
            " 60  last_review                                   22664 non-null  object \n",
            " 61  review_scores_rating                          22664 non-null  float64\n",
            " 62  review_scores_accuracy                        22649 non-null  float64\n",
            " 63  review_scores_cleanliness                     22648 non-null  float64\n",
            " 64  review_scores_checkin                         22649 non-null  float64\n",
            " 65  review_scores_communication                   22649 non-null  float64\n",
            " 66  review_scores_location                        22649 non-null  float64\n",
            " 67  review_scores_value                           22649 non-null  float64\n",
            " 68  license                                       0 non-null      float64\n",
            " 69  instant_bookable                              26536 non-null  object \n",
            " 70  calculated_host_listings_count                26536 non-null  int64  \n",
            " 71  calculated_host_listings_count_entire_homes   26536 non-null  int64  \n",
            " 72  calculated_host_listings_count_private_rooms  26536 non-null  int64  \n",
            " 73  calculated_host_listings_count_shared_rooms   26536 non-null  int64  \n",
            " 74  reviews_per_month                             22664 non-null  float64\n",
            "dtypes: float64(18), int64(23), object(34)\n",
            "memory usage: 15.2+ MB\n"
          ]
        }
      ],
      "source": [
        "data.info()"
      ]
    },
    {
      "cell_type": "markdown",
      "metadata": {
        "id": "r4vcXTuwDwgi"
      },
      "source": [
        "## Eliminacion de columnas innecesarias"
      ]
    },
    {
      "cell_type": "code",
      "execution_count": null,
      "metadata": {
        "id": "Oknk8Qy5rZPr"
      },
      "outputs": [],
      "source": [
        "data.drop(['listing_url','scrape_id','last_scraped','source','name','description','bathrooms_text','neighborhood_overview','picture_url','host_url','host_about','host_thumbnail_url','host_picture_url','neighbourhood_group_cleansed','amenities','minimum_minimum_nights','maximum_minimum_nights','minimum_maximum_nights','calendar_updated','calendar_last_scraped','number_of_reviews_l30d','first_review','license','calculated_host_listings_count_entire_homes','last_review','calculated_host_listings_count_private_rooms','calculated_host_listings_count_shared_rooms'],axis=1,inplace=True)"
      ]
    },
    {
      "cell_type": "code",
      "source": [
        "data['price']"
      ],
      "metadata": {
        "id": "5Sw3ZumYTCFZ"
      },
      "execution_count": null,
      "outputs": []
    },
    {
      "cell_type": "code",
      "execution_count": null,
      "metadata": {
        "id": "tERksPsVBBUR"
      },
      "outputs": [],
      "source": [
        "#Corregimos columna\n",
        "data['price'] = data['price'].str.replace('$', '').str.replace(',', '').astype(float)"
      ]
    },
    {
      "cell_type": "code",
      "source": [
        "data['host_response_rate']"
      ],
      "metadata": {
        "id": "oeYhjJFwTFs3"
      },
      "execution_count": null,
      "outputs": []
    },
    {
      "cell_type": "code",
      "source": [
        "data['host_acceptance_rate']"
      ],
      "metadata": {
        "id": "MHpJiy-aVa9o"
      },
      "execution_count": null,
      "outputs": []
    },
    {
      "cell_type": "code",
      "source": [
        "data['host_acceptance_rate']=data['host_acceptance_rate'].str.replace('%', '').astype(float)\n",
        "data['host_response_rate']=data['host_response_rate'].str.replace('%', '').astype(float)"
      ],
      "metadata": {
        "id": "TL0ER0aIcbjp"
      },
      "execution_count": null,
      "outputs": []
    },
    {
      "cell_type": "code",
      "execution_count": null,
      "metadata": {
        "id": "8WwrnFaHFmsy"
      },
      "outputs": [],
      "source": [
        "data['host_acceptance_rate']=data['host_acceptance_rate']/100\n",
        "data['host_response_rate']=data['host_response_rate']/100"
      ]
    },
    {
      "cell_type": "code",
      "source": [
        "data['host_response_rate']"
      ],
      "metadata": {
        "id": "g8O9K4z-Vtc-"
      },
      "execution_count": null,
      "outputs": []
    },
    {
      "cell_type": "markdown",
      "metadata": {
        "id": "yLwBp76MEHWv"
      },
      "source": [
        "# Limpieza de DF"
      ]
    },
    {
      "cell_type": "code",
      "execution_count": null,
      "metadata": {
        "colab": {
          "base_uri": "https://localhost:8080/",
          "height": 1000
        },
        "collapsed": true,
        "id": "qT_zBtpuoei7",
        "outputId": "c15e873d-3a75-46b3-ffbc-446e6e1d39eb"
      },
      "outputs": [
        {
          "output_type": "execute_result",
          "data": {
            "text/plain": [
              "id                                    0\n",
              "host_id                               0\n",
              "host_name                             0\n",
              "host_since                            0\n",
              "host_location                      5606\n",
              "host_response_time                 4197\n",
              "host_response_rate                 4197\n",
              "host_acceptance_rate               2855\n",
              "host_is_superhost                  1543\n",
              "host_neighbourhood                13355\n",
              "host_listings_count                   0\n",
              "host_total_listings_count             0\n",
              "host_verifications                    0\n",
              "host_has_profile_pic                  0\n",
              "host_identity_verified                0\n",
              "neighbourhood                     10290\n",
              "neighbourhood_cleansed                0\n",
              "latitude                              0\n",
              "longitude                             0\n",
              "property_type                         0\n",
              "room_type                             0\n",
              "accommodates                          0\n",
              "bathrooms                          3129\n",
              "bedrooms                           1071\n",
              "beds                               3164\n",
              "price                              3198\n",
              "minimum_nights                        0\n",
              "maximum_nights                        0\n",
              "maximum_maximum_nights                0\n",
              "minimum_nights_avg_ntm                0\n",
              "maximum_nights_avg_ntm                0\n",
              "has_availability                   1036\n",
              "availability_30                       0\n",
              "availability_60                       0\n",
              "availability_90                       0\n",
              "availability_365                      0\n",
              "number_of_reviews                     0\n",
              "number_of_reviews_ltm                 0\n",
              "review_scores_rating               3872\n",
              "review_scores_accuracy             3887\n",
              "review_scores_cleanliness          3888\n",
              "review_scores_checkin              3887\n",
              "review_scores_communication        3887\n",
              "review_scores_location             3887\n",
              "review_scores_value                3887\n",
              "instant_bookable                      0\n",
              "calculated_host_listings_count        0\n",
              "reviews_per_month                  3872\n",
              "dtype: int64"
            ],
            "text/html": [
              "<div>\n",
              "<style scoped>\n",
              "    .dataframe tbody tr th:only-of-type {\n",
              "        vertical-align: middle;\n",
              "    }\n",
              "\n",
              "    .dataframe tbody tr th {\n",
              "        vertical-align: top;\n",
              "    }\n",
              "\n",
              "    .dataframe thead th {\n",
              "        text-align: right;\n",
              "    }\n",
              "</style>\n",
              "<table border=\"1\" class=\"dataframe\">\n",
              "  <thead>\n",
              "    <tr style=\"text-align: right;\">\n",
              "      <th></th>\n",
              "      <th>0</th>\n",
              "    </tr>\n",
              "  </thead>\n",
              "  <tbody>\n",
              "    <tr>\n",
              "      <th>id</th>\n",
              "      <td>0</td>\n",
              "    </tr>\n",
              "    <tr>\n",
              "      <th>host_id</th>\n",
              "      <td>0</td>\n",
              "    </tr>\n",
              "    <tr>\n",
              "      <th>host_name</th>\n",
              "      <td>0</td>\n",
              "    </tr>\n",
              "    <tr>\n",
              "      <th>host_since</th>\n",
              "      <td>0</td>\n",
              "    </tr>\n",
              "    <tr>\n",
              "      <th>host_location</th>\n",
              "      <td>5606</td>\n",
              "    </tr>\n",
              "    <tr>\n",
              "      <th>host_response_time</th>\n",
              "      <td>4197</td>\n",
              "    </tr>\n",
              "    <tr>\n",
              "      <th>host_response_rate</th>\n",
              "      <td>4197</td>\n",
              "    </tr>\n",
              "    <tr>\n",
              "      <th>host_acceptance_rate</th>\n",
              "      <td>2855</td>\n",
              "    </tr>\n",
              "    <tr>\n",
              "      <th>host_is_superhost</th>\n",
              "      <td>1543</td>\n",
              "    </tr>\n",
              "    <tr>\n",
              "      <th>host_neighbourhood</th>\n",
              "      <td>13355</td>\n",
              "    </tr>\n",
              "    <tr>\n",
              "      <th>host_listings_count</th>\n",
              "      <td>0</td>\n",
              "    </tr>\n",
              "    <tr>\n",
              "      <th>host_total_listings_count</th>\n",
              "      <td>0</td>\n",
              "    </tr>\n",
              "    <tr>\n",
              "      <th>host_verifications</th>\n",
              "      <td>0</td>\n",
              "    </tr>\n",
              "    <tr>\n",
              "      <th>host_has_profile_pic</th>\n",
              "      <td>0</td>\n",
              "    </tr>\n",
              "    <tr>\n",
              "      <th>host_identity_verified</th>\n",
              "      <td>0</td>\n",
              "    </tr>\n",
              "    <tr>\n",
              "      <th>neighbourhood</th>\n",
              "      <td>10290</td>\n",
              "    </tr>\n",
              "    <tr>\n",
              "      <th>neighbourhood_cleansed</th>\n",
              "      <td>0</td>\n",
              "    </tr>\n",
              "    <tr>\n",
              "      <th>latitude</th>\n",
              "      <td>0</td>\n",
              "    </tr>\n",
              "    <tr>\n",
              "      <th>longitude</th>\n",
              "      <td>0</td>\n",
              "    </tr>\n",
              "    <tr>\n",
              "      <th>property_type</th>\n",
              "      <td>0</td>\n",
              "    </tr>\n",
              "    <tr>\n",
              "      <th>room_type</th>\n",
              "      <td>0</td>\n",
              "    </tr>\n",
              "    <tr>\n",
              "      <th>accommodates</th>\n",
              "      <td>0</td>\n",
              "    </tr>\n",
              "    <tr>\n",
              "      <th>bathrooms</th>\n",
              "      <td>3129</td>\n",
              "    </tr>\n",
              "    <tr>\n",
              "      <th>bedrooms</th>\n",
              "      <td>1071</td>\n",
              "    </tr>\n",
              "    <tr>\n",
              "      <th>beds</th>\n",
              "      <td>3164</td>\n",
              "    </tr>\n",
              "    <tr>\n",
              "      <th>price</th>\n",
              "      <td>3198</td>\n",
              "    </tr>\n",
              "    <tr>\n",
              "      <th>minimum_nights</th>\n",
              "      <td>0</td>\n",
              "    </tr>\n",
              "    <tr>\n",
              "      <th>maximum_nights</th>\n",
              "      <td>0</td>\n",
              "    </tr>\n",
              "    <tr>\n",
              "      <th>maximum_maximum_nights</th>\n",
              "      <td>0</td>\n",
              "    </tr>\n",
              "    <tr>\n",
              "      <th>minimum_nights_avg_ntm</th>\n",
              "      <td>0</td>\n",
              "    </tr>\n",
              "    <tr>\n",
              "      <th>maximum_nights_avg_ntm</th>\n",
              "      <td>0</td>\n",
              "    </tr>\n",
              "    <tr>\n",
              "      <th>has_availability</th>\n",
              "      <td>1036</td>\n",
              "    </tr>\n",
              "    <tr>\n",
              "      <th>availability_30</th>\n",
              "      <td>0</td>\n",
              "    </tr>\n",
              "    <tr>\n",
              "      <th>availability_60</th>\n",
              "      <td>0</td>\n",
              "    </tr>\n",
              "    <tr>\n",
              "      <th>availability_90</th>\n",
              "      <td>0</td>\n",
              "    </tr>\n",
              "    <tr>\n",
              "      <th>availability_365</th>\n",
              "      <td>0</td>\n",
              "    </tr>\n",
              "    <tr>\n",
              "      <th>number_of_reviews</th>\n",
              "      <td>0</td>\n",
              "    </tr>\n",
              "    <tr>\n",
              "      <th>number_of_reviews_ltm</th>\n",
              "      <td>0</td>\n",
              "    </tr>\n",
              "    <tr>\n",
              "      <th>review_scores_rating</th>\n",
              "      <td>3872</td>\n",
              "    </tr>\n",
              "    <tr>\n",
              "      <th>review_scores_accuracy</th>\n",
              "      <td>3887</td>\n",
              "    </tr>\n",
              "    <tr>\n",
              "      <th>review_scores_cleanliness</th>\n",
              "      <td>3888</td>\n",
              "    </tr>\n",
              "    <tr>\n",
              "      <th>review_scores_checkin</th>\n",
              "      <td>3887</td>\n",
              "    </tr>\n",
              "    <tr>\n",
              "      <th>review_scores_communication</th>\n",
              "      <td>3887</td>\n",
              "    </tr>\n",
              "    <tr>\n",
              "      <th>review_scores_location</th>\n",
              "      <td>3887</td>\n",
              "    </tr>\n",
              "    <tr>\n",
              "      <th>review_scores_value</th>\n",
              "      <td>3887</td>\n",
              "    </tr>\n",
              "    <tr>\n",
              "      <th>instant_bookable</th>\n",
              "      <td>0</td>\n",
              "    </tr>\n",
              "    <tr>\n",
              "      <th>calculated_host_listings_count</th>\n",
              "      <td>0</td>\n",
              "    </tr>\n",
              "    <tr>\n",
              "      <th>reviews_per_month</th>\n",
              "      <td>3872</td>\n",
              "    </tr>\n",
              "  </tbody>\n",
              "</table>\n",
              "</div><br><label><b>dtype:</b> int64</label>"
            ]
          },
          "metadata": {},
          "execution_count": 130
        }
      ],
      "source": [
        "#Corroboramos valores nulos\n",
        "pd.options.display.max_rows= None\n",
        "valores_nulos=data.isnull().sum()\n",
        "valores_nulos"
      ]
    },
    {
      "cell_type": "markdown",
      "metadata": {
        "id": "2F_tlOFHENTI"
      },
      "source": [
        "## Separamos y limpiamos DF"
      ]
    },
    {
      "cell_type": "code",
      "execution_count": null,
      "metadata": {
        "id": "n0BhJBV6owUr"
      },
      "outputs": [],
      "source": [
        "#Creamos 2 DF's para poder procesar los outliers\n",
        "cuantitativas = data.select_dtypes(include=[int, np.float64])\n",
        "cualitativas=data.select_dtypes(include=[object])"
      ]
    },
    {
      "cell_type": "markdown",
      "metadata": {
        "id": "MoiOxa6VEWp5"
      },
      "source": [
        "### Limpieza var. cuantitativas"
      ]
    },
    {
      "cell_type": "code",
      "execution_count": null,
      "metadata": {
        "id": "V1MMBVLHCP5A"
      },
      "outputs": [],
      "source": [
        "cuantitativas[['bedrooms']]=cuantitativas[['bedrooms']].fillna(round(cuantitativas[['bedrooms']].mean(),1))"
      ]
    },
    {
      "cell_type": "code",
      "execution_count": null,
      "metadata": {
        "id": "fk56jTEMCoA1"
      },
      "outputs": [],
      "source": [
        "cuantitativas[['beds']]=cuantitativas[['beds']].fillna(round(cuantitativas[['beds']].mean(),1))"
      ]
    },
    {
      "cell_type": "code",
      "execution_count": null,
      "metadata": {
        "id": "a4hheNNKCtob"
      },
      "outputs": [],
      "source": [
        "cuantitativas[['price']]=cuantitativas[['price']].fillna(round(cuantitativas[['price']].mean(),1))"
      ]
    },
    {
      "cell_type": "code",
      "execution_count": null,
      "metadata": {
        "id": "G4GLxW_zCz2z"
      },
      "outputs": [],
      "source": [
        "cuantitativas[['review_scores_rating']]=cuantitativas[['review_scores_rating']].fillna(round(cuantitativas[['review_scores_rating']].mean(),1))"
      ]
    },
    {
      "cell_type": "code",
      "execution_count": null,
      "metadata": {
        "id": "Fh-FlAa7DTfi"
      },
      "outputs": [],
      "source": [
        "cuantitativas[['review_scores_accuracy']]=cuantitativas[['review_scores_accuracy']].fillna(round(cuantitativas[['review_scores_accuracy']].mean(),1))"
      ]
    },
    {
      "cell_type": "code",
      "execution_count": null,
      "metadata": {
        "id": "YnhxYtFnC2vV"
      },
      "outputs": [],
      "source": [
        "cuantitativas[['review_scores_cleanliness']]=cuantitativas[['review_scores_cleanliness']].fillna(round(cuantitativas[['review_scores_cleanliness']].mean(),1))"
      ]
    },
    {
      "cell_type": "code",
      "execution_count": null,
      "metadata": {
        "id": "InGUId1KDd5r"
      },
      "outputs": [],
      "source": [
        "cuantitativas[['review_scores_checkin']]=cuantitativas[['review_scores_checkin']].fillna(round(cuantitativas[['review_scores_checkin']].mean(),1))"
      ]
    },
    {
      "cell_type": "code",
      "execution_count": null,
      "metadata": {
        "id": "kdmh9mg3C6eu"
      },
      "outputs": [],
      "source": [
        "cuantitativas[['review_scores_communication']]=cuantitativas[['review_scores_communication']].fillna(round(cuantitativas[['review_scores_communication']].mean(),1))"
      ]
    },
    {
      "cell_type": "code",
      "execution_count": null,
      "metadata": {
        "id": "t0M5BabtDBui"
      },
      "outputs": [],
      "source": [
        "cuantitativas[['review_scores_location']]=cuantitativas[['review_scores_location']].fillna(round(cuantitativas[['review_scores_location']].mean(),1))"
      ]
    },
    {
      "cell_type": "code",
      "execution_count": null,
      "metadata": {
        "id": "yzEVES67DHCp"
      },
      "outputs": [],
      "source": [
        "cuantitativas[['review_scores_value']]=cuantitativas[['review_scores_value']].fillna(round(cuantitativas[['review_scores_value']].mean(),1))"
      ]
    },
    {
      "cell_type": "code",
      "source": [
        "cuantitativas[['bathrooms']]=cuantitativas[['bathrooms']].fillna(round(cuantitativas[['bathrooms']].mean(),1))"
      ],
      "metadata": {
        "id": "DNf8yfGyspMN"
      },
      "execution_count": null,
      "outputs": []
    },
    {
      "cell_type": "code",
      "execution_count": null,
      "metadata": {
        "id": "nTgoAPq6DKGn"
      },
      "outputs": [],
      "source": [
        "cuantitativas[['reviews_per_month']]=cuantitativas[['reviews_per_month']].fillna(round(cuantitativas[['reviews_per_month']].mean(),1))"
      ]
    },
    {
      "cell_type": "code",
      "execution_count": null,
      "metadata": {
        "id": "JywK3vZQHjtc"
      },
      "outputs": [],
      "source": [
        "cuantitativas[['host_response_rate']]=cuantitativas[['host_response_rate']].fillna(round(cuantitativas[['host_response_rate']].mean(),1))"
      ]
    },
    {
      "cell_type": "code",
      "execution_count": null,
      "metadata": {
        "id": "GFwx3snkHx6s"
      },
      "outputs": [],
      "source": [
        "cuantitativas[['host_acceptance_rate']]=cuantitativas[['host_acceptance_rate']].fillna(round(cuantitativas[['host_acceptance_rate']].mean(),1))"
      ]
    },
    {
      "cell_type": "code",
      "execution_count": null,
      "metadata": {
        "colab": {
          "base_uri": "https://localhost:8080/",
          "height": 1000
        },
        "id": "nGIlehMuDn3Z",
        "outputId": "c3bb3fce-92c4-43ab-9f7b-b0403dd9590b"
      },
      "outputs": [
        {
          "output_type": "execute_result",
          "data": {
            "text/plain": [
              "id                                0\n",
              "host_id                           0\n",
              "host_response_rate                0\n",
              "host_acceptance_rate              0\n",
              "host_listings_count               0\n",
              "host_total_listings_count         0\n",
              "latitude                          0\n",
              "longitude                         0\n",
              "accommodates                      0\n",
              "bathrooms                         0\n",
              "bedrooms                          0\n",
              "beds                              0\n",
              "price                             0\n",
              "minimum_nights                    0\n",
              "maximum_nights                    0\n",
              "maximum_maximum_nights            0\n",
              "minimum_nights_avg_ntm            0\n",
              "maximum_nights_avg_ntm            0\n",
              "availability_30                   0\n",
              "availability_60                   0\n",
              "availability_90                   0\n",
              "availability_365                  0\n",
              "number_of_reviews                 0\n",
              "number_of_reviews_ltm             0\n",
              "review_scores_rating              0\n",
              "review_scores_accuracy            0\n",
              "review_scores_cleanliness         0\n",
              "review_scores_checkin             0\n",
              "review_scores_communication       0\n",
              "review_scores_location            0\n",
              "review_scores_value               0\n",
              "calculated_host_listings_count    0\n",
              "reviews_per_month                 0\n",
              "dtype: int64"
            ],
            "text/html": [
              "<div>\n",
              "<style scoped>\n",
              "    .dataframe tbody tr th:only-of-type {\n",
              "        vertical-align: middle;\n",
              "    }\n",
              "\n",
              "    .dataframe tbody tr th {\n",
              "        vertical-align: top;\n",
              "    }\n",
              "\n",
              "    .dataframe thead th {\n",
              "        text-align: right;\n",
              "    }\n",
              "</style>\n",
              "<table border=\"1\" class=\"dataframe\">\n",
              "  <thead>\n",
              "    <tr style=\"text-align: right;\">\n",
              "      <th></th>\n",
              "      <th>0</th>\n",
              "    </tr>\n",
              "  </thead>\n",
              "  <tbody>\n",
              "    <tr>\n",
              "      <th>id</th>\n",
              "      <td>0</td>\n",
              "    </tr>\n",
              "    <tr>\n",
              "      <th>host_id</th>\n",
              "      <td>0</td>\n",
              "    </tr>\n",
              "    <tr>\n",
              "      <th>host_response_rate</th>\n",
              "      <td>0</td>\n",
              "    </tr>\n",
              "    <tr>\n",
              "      <th>host_acceptance_rate</th>\n",
              "      <td>0</td>\n",
              "    </tr>\n",
              "    <tr>\n",
              "      <th>host_listings_count</th>\n",
              "      <td>0</td>\n",
              "    </tr>\n",
              "    <tr>\n",
              "      <th>host_total_listings_count</th>\n",
              "      <td>0</td>\n",
              "    </tr>\n",
              "    <tr>\n",
              "      <th>latitude</th>\n",
              "      <td>0</td>\n",
              "    </tr>\n",
              "    <tr>\n",
              "      <th>longitude</th>\n",
              "      <td>0</td>\n",
              "    </tr>\n",
              "    <tr>\n",
              "      <th>accommodates</th>\n",
              "      <td>0</td>\n",
              "    </tr>\n",
              "    <tr>\n",
              "      <th>bathrooms</th>\n",
              "      <td>0</td>\n",
              "    </tr>\n",
              "    <tr>\n",
              "      <th>bedrooms</th>\n",
              "      <td>0</td>\n",
              "    </tr>\n",
              "    <tr>\n",
              "      <th>beds</th>\n",
              "      <td>0</td>\n",
              "    </tr>\n",
              "    <tr>\n",
              "      <th>price</th>\n",
              "      <td>0</td>\n",
              "    </tr>\n",
              "    <tr>\n",
              "      <th>minimum_nights</th>\n",
              "      <td>0</td>\n",
              "    </tr>\n",
              "    <tr>\n",
              "      <th>maximum_nights</th>\n",
              "      <td>0</td>\n",
              "    </tr>\n",
              "    <tr>\n",
              "      <th>maximum_maximum_nights</th>\n",
              "      <td>0</td>\n",
              "    </tr>\n",
              "    <tr>\n",
              "      <th>minimum_nights_avg_ntm</th>\n",
              "      <td>0</td>\n",
              "    </tr>\n",
              "    <tr>\n",
              "      <th>maximum_nights_avg_ntm</th>\n",
              "      <td>0</td>\n",
              "    </tr>\n",
              "    <tr>\n",
              "      <th>availability_30</th>\n",
              "      <td>0</td>\n",
              "    </tr>\n",
              "    <tr>\n",
              "      <th>availability_60</th>\n",
              "      <td>0</td>\n",
              "    </tr>\n",
              "    <tr>\n",
              "      <th>availability_90</th>\n",
              "      <td>0</td>\n",
              "    </tr>\n",
              "    <tr>\n",
              "      <th>availability_365</th>\n",
              "      <td>0</td>\n",
              "    </tr>\n",
              "    <tr>\n",
              "      <th>number_of_reviews</th>\n",
              "      <td>0</td>\n",
              "    </tr>\n",
              "    <tr>\n",
              "      <th>number_of_reviews_ltm</th>\n",
              "      <td>0</td>\n",
              "    </tr>\n",
              "    <tr>\n",
              "      <th>review_scores_rating</th>\n",
              "      <td>0</td>\n",
              "    </tr>\n",
              "    <tr>\n",
              "      <th>review_scores_accuracy</th>\n",
              "      <td>0</td>\n",
              "    </tr>\n",
              "    <tr>\n",
              "      <th>review_scores_cleanliness</th>\n",
              "      <td>0</td>\n",
              "    </tr>\n",
              "    <tr>\n",
              "      <th>review_scores_checkin</th>\n",
              "      <td>0</td>\n",
              "    </tr>\n",
              "    <tr>\n",
              "      <th>review_scores_communication</th>\n",
              "      <td>0</td>\n",
              "    </tr>\n",
              "    <tr>\n",
              "      <th>review_scores_location</th>\n",
              "      <td>0</td>\n",
              "    </tr>\n",
              "    <tr>\n",
              "      <th>review_scores_value</th>\n",
              "      <td>0</td>\n",
              "    </tr>\n",
              "    <tr>\n",
              "      <th>calculated_host_listings_count</th>\n",
              "      <td>0</td>\n",
              "    </tr>\n",
              "    <tr>\n",
              "      <th>reviews_per_month</th>\n",
              "      <td>0</td>\n",
              "    </tr>\n",
              "  </tbody>\n",
              "</table>\n",
              "</div><br><label><b>dtype:</b> int64</label>"
            ]
          },
          "metadata": {},
          "execution_count": 146
        }
      ],
      "source": [
        "valores_nulos=cuantitativas.isnull().sum()\n",
        "valores_nulos"
      ]
    },
    {
      "cell_type": "markdown",
      "metadata": {
        "id": "y_uO5-V0Ect9"
      },
      "source": [
        "### Limpieza var. cualitativas"
      ]
    },
    {
      "cell_type": "code",
      "execution_count": null,
      "metadata": {
        "id": "09h-YHw_EnpZ"
      },
      "outputs": [],
      "source": [
        "cualitativas['host_location']=cualitativas['host_location'].fillna('Unknown location')"
      ]
    },
    {
      "cell_type": "code",
      "execution_count": null,
      "metadata": {
        "id": "Ve3ITn9nE_fQ"
      },
      "outputs": [],
      "source": [
        "cualitativas['host_response_time']=cualitativas['host_response_time'].fillna('Unknown time')"
      ]
    },
    {
      "cell_type": "code",
      "execution_count": null,
      "metadata": {
        "id": "ydkRp_qgGkFj"
      },
      "outputs": [],
      "source": [
        "cualitativas['host_is_superhost']=cualitativas['host_response_time'].fillna('Unknown')"
      ]
    },
    {
      "cell_type": "code",
      "execution_count": null,
      "metadata": {
        "id": "2_G4krcGFGzO"
      },
      "outputs": [],
      "source": [
        "cualitativas['host_neighbourhood']=cualitativas['host_neighbourhood'].fillna('Unknown')"
      ]
    },
    {
      "cell_type": "code",
      "execution_count": null,
      "metadata": {
        "id": "_ooefaUYHAzf"
      },
      "outputs": [],
      "source": [
        "cualitativas['neighbourhood']=cualitativas['neighbourhood'].fillna('Unknown')"
      ]
    },
    {
      "cell_type": "code",
      "execution_count": null,
      "metadata": {
        "id": "UnRHNBdLHHTq"
      },
      "outputs": [],
      "source": [
        "cualitativas['has_availability']=cualitativas['has_availability'].fillna('Unknown')"
      ]
    },
    {
      "cell_type": "code",
      "execution_count": null,
      "metadata": {
        "colab": {
          "base_uri": "https://localhost:8080/",
          "height": 554
        },
        "id": "uIzn6GrSEfqp",
        "outputId": "f6a7e5cc-c27e-4329-8ff7-1bb6849bac66"
      },
      "outputs": [
        {
          "output_type": "execute_result",
          "data": {
            "text/plain": [
              "host_name                 0\n",
              "host_since                0\n",
              "host_location             0\n",
              "host_response_time        0\n",
              "host_is_superhost         0\n",
              "host_neighbourhood        0\n",
              "host_verifications        0\n",
              "host_has_profile_pic      0\n",
              "host_identity_verified    0\n",
              "neighbourhood             0\n",
              "neighbourhood_cleansed    0\n",
              "property_type             0\n",
              "room_type                 0\n",
              "has_availability          0\n",
              "instant_bookable          0\n",
              "dtype: int64"
            ],
            "text/html": [
              "<div>\n",
              "<style scoped>\n",
              "    .dataframe tbody tr th:only-of-type {\n",
              "        vertical-align: middle;\n",
              "    }\n",
              "\n",
              "    .dataframe tbody tr th {\n",
              "        vertical-align: top;\n",
              "    }\n",
              "\n",
              "    .dataframe thead th {\n",
              "        text-align: right;\n",
              "    }\n",
              "</style>\n",
              "<table border=\"1\" class=\"dataframe\">\n",
              "  <thead>\n",
              "    <tr style=\"text-align: right;\">\n",
              "      <th></th>\n",
              "      <th>0</th>\n",
              "    </tr>\n",
              "  </thead>\n",
              "  <tbody>\n",
              "    <tr>\n",
              "      <th>host_name</th>\n",
              "      <td>0</td>\n",
              "    </tr>\n",
              "    <tr>\n",
              "      <th>host_since</th>\n",
              "      <td>0</td>\n",
              "    </tr>\n",
              "    <tr>\n",
              "      <th>host_location</th>\n",
              "      <td>0</td>\n",
              "    </tr>\n",
              "    <tr>\n",
              "      <th>host_response_time</th>\n",
              "      <td>0</td>\n",
              "    </tr>\n",
              "    <tr>\n",
              "      <th>host_is_superhost</th>\n",
              "      <td>0</td>\n",
              "    </tr>\n",
              "    <tr>\n",
              "      <th>host_neighbourhood</th>\n",
              "      <td>0</td>\n",
              "    </tr>\n",
              "    <tr>\n",
              "      <th>host_verifications</th>\n",
              "      <td>0</td>\n",
              "    </tr>\n",
              "    <tr>\n",
              "      <th>host_has_profile_pic</th>\n",
              "      <td>0</td>\n",
              "    </tr>\n",
              "    <tr>\n",
              "      <th>host_identity_verified</th>\n",
              "      <td>0</td>\n",
              "    </tr>\n",
              "    <tr>\n",
              "      <th>neighbourhood</th>\n",
              "      <td>0</td>\n",
              "    </tr>\n",
              "    <tr>\n",
              "      <th>neighbourhood_cleansed</th>\n",
              "      <td>0</td>\n",
              "    </tr>\n",
              "    <tr>\n",
              "      <th>property_type</th>\n",
              "      <td>0</td>\n",
              "    </tr>\n",
              "    <tr>\n",
              "      <th>room_type</th>\n",
              "      <td>0</td>\n",
              "    </tr>\n",
              "    <tr>\n",
              "      <th>has_availability</th>\n",
              "      <td>0</td>\n",
              "    </tr>\n",
              "    <tr>\n",
              "      <th>instant_bookable</th>\n",
              "      <td>0</td>\n",
              "    </tr>\n",
              "  </tbody>\n",
              "</table>\n",
              "</div><br><label><b>dtype:</b> int64</label>"
            ]
          },
          "metadata": {},
          "execution_count": 153
        }
      ],
      "source": [
        "valores_nulos=cualitativas.isnull().sum()\n",
        "valores_nulos"
      ]
    },
    {
      "cell_type": "code",
      "source": [
        "cuantitativas.to_csv('Cuantitativas_Limpio(méxico).csv')"
      ],
      "metadata": {
        "id": "BRd9swTbH_Z0"
      },
      "execution_count": null,
      "outputs": []
    },
    {
      "cell_type": "code",
      "source": [
        "cualitativas.to_csv('Cualitativo_Limpio.csv(méxico)')"
      ],
      "metadata": {
        "id": "nVUcA13sIRGc"
      },
      "execution_count": null,
      "outputs": []
    }
  ],
  "metadata": {
    "colab": {
      "provenance": [],
      "include_colab_link": true
    },
    "kernelspec": {
      "display_name": "Python 3",
      "name": "python3"
    },
    "language_info": {
      "name": "python"
    }
  },
  "nbformat": 4,
  "nbformat_minor": 0
}