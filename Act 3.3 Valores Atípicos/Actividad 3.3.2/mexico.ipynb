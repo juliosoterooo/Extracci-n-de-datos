{
  "cells": [
    {
      "cell_type": "markdown",
      "metadata": {
        "id": "view-in-github",
        "colab_type": "text"
      },
      "source": [
        "<a href=\"https://colab.research.google.com/github/juliosoterooo/Extracci-n-de-datos/blob/main/Act%203.3%20Valores%20At%C3%ADpicos/Actividad%203.3.2/mexico.ipynb\" target=\"_parent\"><img src=\"https://colab.research.google.com/assets/colab-badge.svg\" alt=\"Open In Colab\"/></a>"
      ]
    },
    {
      "cell_type": "code",
      "execution_count": null,
      "metadata": {
        "id": "VqoDYwDRRP-m"
      },
      "outputs": [],
      "source": [
        "import numpy as np\n",
        "import pandas as pd\n",
        "import matplotlib.pyplot as plt"
      ]
    },
    {
      "cell_type": "code",
      "execution_count": null,
      "metadata": {
        "id": "EMN6KH-ORX-a"
      },
      "outputs": [],
      "source": [
        "from google.colab import files\n",
        "files.upload()"
      ]
    },
    {
      "cell_type": "code",
      "execution_count": 54,
      "metadata": {
        "id": "U9HLSZxhSGXX",
        "colab": {
          "base_uri": "https://localhost:8080/",
          "height": 568
        },
        "outputId": "5e1c56b3-83a5-4f26-cd56-8d73372c3ef7"
      },
      "outputs": [
        {
          "output_type": "execute_result",
          "data": {
            "text/plain": [
              "       id                          listing_url       scrape_id last_scraped  \\\n",
              "0  898633  https://www.airbnb.com/rooms/898633  20240627045222   2024-06-28   \n",
              "1   35797   https://www.airbnb.com/rooms/35797  20240627045222   2024-06-27   \n",
              "2   44616   https://www.airbnb.com/rooms/44616  20240627045222   2024-06-28   \n",
              "3  913084  https://www.airbnb.com/rooms/913084  20240627045222   2024-06-28   \n",
              "4   67703   https://www.airbnb.com/rooms/67703  20240627045222   2024-06-28   \n",
              "\n",
              "        source                                          name  \\\n",
              "0  city scrape  City SkyLine View from 1 Bedroom Apt in CDMX   \n",
              "1  city scrape                                   Villa Dante   \n",
              "2  city scrape                             CONDESA HAUS  B&B   \n",
              "3  city scrape            15 blocks from Paseo de la Reforma   \n",
              "4  city scrape             2 bedroom apt. deco bldg, Condesa   \n",
              "\n",
              "                                         description  \\\n",
              "0  The LOCATION is undoubtedly THE BIG advantage ...   \n",
              "1  Dentro de Villa un estudio de arte con futon, ...   \n",
              "2  A new concept of hosting in mexico through a b...   \n",
              "3                                                NaN   \n",
              "4  Comfortably furnished, sunny, 2 bedroom apt., ...   \n",
              "\n",
              "                               neighborhood_overview  \\\n",
              "0  The hipster Roma neighborhood embodies a color...   \n",
              "1  Santa Fe Mall, Interloma Park and the Lion Des...   \n",
              "2                                                NaN   \n",
              "3  It borders the old and traditional San Rafael,...   \n",
              "4                                                NaN   \n",
              "\n",
              "                                         picture_url  host_id  ...  \\\n",
              "0  https://a0.muscache.com/pictures/ba75b1c1-cb02...  4796027  ...   \n",
              "1  https://a0.muscache.com/pictures/f395ab78-1185...   153786  ...   \n",
              "2  https://a0.muscache.com/pictures/251410/ec75fe...   196253  ...   \n",
              "3  https://a0.muscache.com/pictures/16663562/7bed...  4647293  ...   \n",
              "4  https://a0.muscache.com/pictures/3281720/6f078...   334451  ...   \n",
              "\n",
              "  review_scores_communication review_scores_location review_scores_value  \\\n",
              "0                        4.96                   4.93                4.91   \n",
              "1                         NaN                    NaN                 NaN   \n",
              "2                        4.78                   4.98                4.48   \n",
              "3                        4.93                   4.46                4.75   \n",
              "4                        4.92                   4.98                4.91   \n",
              "\n",
              "  license instant_bookable calculated_host_listings_count  \\\n",
              "0     NaN                f                              3   \n",
              "1     NaN                f                              1   \n",
              "2     NaN                f                             13   \n",
              "3     NaN                t                              1   \n",
              "4     NaN                f                              2   \n",
              "\n",
              "  calculated_host_listings_count_entire_homes  \\\n",
              "0                                           2   \n",
              "1                                           1   \n",
              "2                                           4   \n",
              "3                                           1   \n",
              "4                                           2   \n",
              "\n",
              "  calculated_host_listings_count_private_rooms  \\\n",
              "0                                            1   \n",
              "1                                            0   \n",
              "2                                            2   \n",
              "3                                            0   \n",
              "4                                            0   \n",
              "\n",
              "  calculated_host_listings_count_shared_rooms reviews_per_month  \n",
              "0                                           0              0.41  \n",
              "1                                           0               NaN  \n",
              "2                                           0              0.42  \n",
              "3                                           0              1.19  \n",
              "4                                           0              0.32  \n",
              "\n",
              "[5 rows x 75 columns]"
            ],
            "text/html": [
              "\n",
              "  <div id=\"df-03f8c5d9-4a03-4bac-a9b2-ef56a87e3fef\" class=\"colab-df-container\">\n",
              "    <div>\n",
              "<style scoped>\n",
              "    .dataframe tbody tr th:only-of-type {\n",
              "        vertical-align: middle;\n",
              "    }\n",
              "\n",
              "    .dataframe tbody tr th {\n",
              "        vertical-align: top;\n",
              "    }\n",
              "\n",
              "    .dataframe thead th {\n",
              "        text-align: right;\n",
              "    }\n",
              "</style>\n",
              "<table border=\"1\" class=\"dataframe\">\n",
              "  <thead>\n",
              "    <tr style=\"text-align: right;\">\n",
              "      <th></th>\n",
              "      <th>id</th>\n",
              "      <th>listing_url</th>\n",
              "      <th>scrape_id</th>\n",
              "      <th>last_scraped</th>\n",
              "      <th>source</th>\n",
              "      <th>name</th>\n",
              "      <th>description</th>\n",
              "      <th>neighborhood_overview</th>\n",
              "      <th>picture_url</th>\n",
              "      <th>host_id</th>\n",
              "      <th>...</th>\n",
              "      <th>review_scores_communication</th>\n",
              "      <th>review_scores_location</th>\n",
              "      <th>review_scores_value</th>\n",
              "      <th>license</th>\n",
              "      <th>instant_bookable</th>\n",
              "      <th>calculated_host_listings_count</th>\n",
              "      <th>calculated_host_listings_count_entire_homes</th>\n",
              "      <th>calculated_host_listings_count_private_rooms</th>\n",
              "      <th>calculated_host_listings_count_shared_rooms</th>\n",
              "      <th>reviews_per_month</th>\n",
              "    </tr>\n",
              "  </thead>\n",
              "  <tbody>\n",
              "    <tr>\n",
              "      <th>0</th>\n",
              "      <td>898633</td>\n",
              "      <td>https://www.airbnb.com/rooms/898633</td>\n",
              "      <td>20240627045222</td>\n",
              "      <td>2024-06-28</td>\n",
              "      <td>city scrape</td>\n",
              "      <td>City SkyLine View from 1 Bedroom Apt in CDMX</td>\n",
              "      <td>The LOCATION is undoubtedly THE BIG advantage ...</td>\n",
              "      <td>The hipster Roma neighborhood embodies a color...</td>\n",
              "      <td>https://a0.muscache.com/pictures/ba75b1c1-cb02...</td>\n",
              "      <td>4796027</td>\n",
              "      <td>...</td>\n",
              "      <td>4.96</td>\n",
              "      <td>4.93</td>\n",
              "      <td>4.91</td>\n",
              "      <td>NaN</td>\n",
              "      <td>f</td>\n",
              "      <td>3</td>\n",
              "      <td>2</td>\n",
              "      <td>1</td>\n",
              "      <td>0</td>\n",
              "      <td>0.41</td>\n",
              "    </tr>\n",
              "    <tr>\n",
              "      <th>1</th>\n",
              "      <td>35797</td>\n",
              "      <td>https://www.airbnb.com/rooms/35797</td>\n",
              "      <td>20240627045222</td>\n",
              "      <td>2024-06-27</td>\n",
              "      <td>city scrape</td>\n",
              "      <td>Villa Dante</td>\n",
              "      <td>Dentro de Villa un estudio de arte con futon, ...</td>\n",
              "      <td>Santa Fe Mall, Interloma Park and the Lion Des...</td>\n",
              "      <td>https://a0.muscache.com/pictures/f395ab78-1185...</td>\n",
              "      <td>153786</td>\n",
              "      <td>...</td>\n",
              "      <td>NaN</td>\n",
              "      <td>NaN</td>\n",
              "      <td>NaN</td>\n",
              "      <td>NaN</td>\n",
              "      <td>f</td>\n",
              "      <td>1</td>\n",
              "      <td>1</td>\n",
              "      <td>0</td>\n",
              "      <td>0</td>\n",
              "      <td>NaN</td>\n",
              "    </tr>\n",
              "    <tr>\n",
              "      <th>2</th>\n",
              "      <td>44616</td>\n",
              "      <td>https://www.airbnb.com/rooms/44616</td>\n",
              "      <td>20240627045222</td>\n",
              "      <td>2024-06-28</td>\n",
              "      <td>city scrape</td>\n",
              "      <td>CONDESA HAUS  B&amp;B</td>\n",
              "      <td>A new concept of hosting in mexico through a b...</td>\n",
              "      <td>NaN</td>\n",
              "      <td>https://a0.muscache.com/pictures/251410/ec75fe...</td>\n",
              "      <td>196253</td>\n",
              "      <td>...</td>\n",
              "      <td>4.78</td>\n",
              "      <td>4.98</td>\n",
              "      <td>4.48</td>\n",
              "      <td>NaN</td>\n",
              "      <td>f</td>\n",
              "      <td>13</td>\n",
              "      <td>4</td>\n",
              "      <td>2</td>\n",
              "      <td>0</td>\n",
              "      <td>0.42</td>\n",
              "    </tr>\n",
              "    <tr>\n",
              "      <th>3</th>\n",
              "      <td>913084</td>\n",
              "      <td>https://www.airbnb.com/rooms/913084</td>\n",
              "      <td>20240627045222</td>\n",
              "      <td>2024-06-28</td>\n",
              "      <td>city scrape</td>\n",
              "      <td>15 blocks from Paseo de la Reforma</td>\n",
              "      <td>NaN</td>\n",
              "      <td>It borders the old and traditional San Rafael,...</td>\n",
              "      <td>https://a0.muscache.com/pictures/16663562/7bed...</td>\n",
              "      <td>4647293</td>\n",
              "      <td>...</td>\n",
              "      <td>4.93</td>\n",
              "      <td>4.46</td>\n",
              "      <td>4.75</td>\n",
              "      <td>NaN</td>\n",
              "      <td>t</td>\n",
              "      <td>1</td>\n",
              "      <td>1</td>\n",
              "      <td>0</td>\n",
              "      <td>0</td>\n",
              "      <td>1.19</td>\n",
              "    </tr>\n",
              "    <tr>\n",
              "      <th>4</th>\n",
              "      <td>67703</td>\n",
              "      <td>https://www.airbnb.com/rooms/67703</td>\n",
              "      <td>20240627045222</td>\n",
              "      <td>2024-06-28</td>\n",
              "      <td>city scrape</td>\n",
              "      <td>2 bedroom apt. deco bldg, Condesa</td>\n",
              "      <td>Comfortably furnished, sunny, 2 bedroom apt., ...</td>\n",
              "      <td>NaN</td>\n",
              "      <td>https://a0.muscache.com/pictures/3281720/6f078...</td>\n",
              "      <td>334451</td>\n",
              "      <td>...</td>\n",
              "      <td>4.92</td>\n",
              "      <td>4.98</td>\n",
              "      <td>4.91</td>\n",
              "      <td>NaN</td>\n",
              "      <td>f</td>\n",
              "      <td>2</td>\n",
              "      <td>2</td>\n",
              "      <td>0</td>\n",
              "      <td>0</td>\n",
              "      <td>0.32</td>\n",
              "    </tr>\n",
              "  </tbody>\n",
              "</table>\n",
              "<p>5 rows × 75 columns</p>\n",
              "</div>\n",
              "    <div class=\"colab-df-buttons\">\n",
              "\n",
              "  <div class=\"colab-df-container\">\n",
              "    <button class=\"colab-df-convert\" onclick=\"convertToInteractive('df-03f8c5d9-4a03-4bac-a9b2-ef56a87e3fef')\"\n",
              "            title=\"Convert this dataframe to an interactive table.\"\n",
              "            style=\"display:none;\">\n",
              "\n",
              "  <svg xmlns=\"http://www.w3.org/2000/svg\" height=\"24px\" viewBox=\"0 -960 960 960\">\n",
              "    <path d=\"M120-120v-720h720v720H120Zm60-500h600v-160H180v160Zm220 220h160v-160H400v160Zm0 220h160v-160H400v160ZM180-400h160v-160H180v160Zm440 0h160v-160H620v160ZM180-180h160v-160H180v160Zm440 0h160v-160H620v160Z\"/>\n",
              "  </svg>\n",
              "    </button>\n",
              "\n",
              "  <style>\n",
              "    .colab-df-container {\n",
              "      display:flex;\n",
              "      gap: 12px;\n",
              "    }\n",
              "\n",
              "    .colab-df-convert {\n",
              "      background-color: #E8F0FE;\n",
              "      border: none;\n",
              "      border-radius: 50%;\n",
              "      cursor: pointer;\n",
              "      display: none;\n",
              "      fill: #1967D2;\n",
              "      height: 32px;\n",
              "      padding: 0 0 0 0;\n",
              "      width: 32px;\n",
              "    }\n",
              "\n",
              "    .colab-df-convert:hover {\n",
              "      background-color: #E2EBFA;\n",
              "      box-shadow: 0px 1px 2px rgba(60, 64, 67, 0.3), 0px 1px 3px 1px rgba(60, 64, 67, 0.15);\n",
              "      fill: #174EA6;\n",
              "    }\n",
              "\n",
              "    .colab-df-buttons div {\n",
              "      margin-bottom: 4px;\n",
              "    }\n",
              "\n",
              "    [theme=dark] .colab-df-convert {\n",
              "      background-color: #3B4455;\n",
              "      fill: #D2E3FC;\n",
              "    }\n",
              "\n",
              "    [theme=dark] .colab-df-convert:hover {\n",
              "      background-color: #434B5C;\n",
              "      box-shadow: 0px 1px 3px 1px rgba(0, 0, 0, 0.15);\n",
              "      filter: drop-shadow(0px 1px 2px rgba(0, 0, 0, 0.3));\n",
              "      fill: #FFFFFF;\n",
              "    }\n",
              "  </style>\n",
              "\n",
              "    <script>\n",
              "      const buttonEl =\n",
              "        document.querySelector('#df-03f8c5d9-4a03-4bac-a9b2-ef56a87e3fef button.colab-df-convert');\n",
              "      buttonEl.style.display =\n",
              "        google.colab.kernel.accessAllowed ? 'block' : 'none';\n",
              "\n",
              "      async function convertToInteractive(key) {\n",
              "        const element = document.querySelector('#df-03f8c5d9-4a03-4bac-a9b2-ef56a87e3fef');\n",
              "        const dataTable =\n",
              "          await google.colab.kernel.invokeFunction('convertToInteractive',\n",
              "                                                    [key], {});\n",
              "        if (!dataTable) return;\n",
              "\n",
              "        const docLinkHtml = 'Like what you see? Visit the ' +\n",
              "          '<a target=\"_blank\" href=https://colab.research.google.com/notebooks/data_table.ipynb>data table notebook</a>'\n",
              "          + ' to learn more about interactive tables.';\n",
              "        element.innerHTML = '';\n",
              "        dataTable['output_type'] = 'display_data';\n",
              "        await google.colab.output.renderOutput(dataTable, element);\n",
              "        const docLink = document.createElement('div');\n",
              "        docLink.innerHTML = docLinkHtml;\n",
              "        element.appendChild(docLink);\n",
              "      }\n",
              "    </script>\n",
              "  </div>\n",
              "\n",
              "\n",
              "<div id=\"df-60d91fa3-7697-4524-b950-9ea0c1d84463\">\n",
              "  <button class=\"colab-df-quickchart\" onclick=\"quickchart('df-60d91fa3-7697-4524-b950-9ea0c1d84463')\"\n",
              "            title=\"Suggest charts\"\n",
              "            style=\"display:none;\">\n",
              "\n",
              "<svg xmlns=\"http://www.w3.org/2000/svg\" height=\"24px\"viewBox=\"0 0 24 24\"\n",
              "     width=\"24px\">\n",
              "    <g>\n",
              "        <path d=\"M19 3H5c-1.1 0-2 .9-2 2v14c0 1.1.9 2 2 2h14c1.1 0 2-.9 2-2V5c0-1.1-.9-2-2-2zM9 17H7v-7h2v7zm4 0h-2V7h2v10zm4 0h-2v-4h2v4z\"/>\n",
              "    </g>\n",
              "</svg>\n",
              "  </button>\n",
              "\n",
              "<style>\n",
              "  .colab-df-quickchart {\n",
              "      --bg-color: #E8F0FE;\n",
              "      --fill-color: #1967D2;\n",
              "      --hover-bg-color: #E2EBFA;\n",
              "      --hover-fill-color: #174EA6;\n",
              "      --disabled-fill-color: #AAA;\n",
              "      --disabled-bg-color: #DDD;\n",
              "  }\n",
              "\n",
              "  [theme=dark] .colab-df-quickchart {\n",
              "      --bg-color: #3B4455;\n",
              "      --fill-color: #D2E3FC;\n",
              "      --hover-bg-color: #434B5C;\n",
              "      --hover-fill-color: #FFFFFF;\n",
              "      --disabled-bg-color: #3B4455;\n",
              "      --disabled-fill-color: #666;\n",
              "  }\n",
              "\n",
              "  .colab-df-quickchart {\n",
              "    background-color: var(--bg-color);\n",
              "    border: none;\n",
              "    border-radius: 50%;\n",
              "    cursor: pointer;\n",
              "    display: none;\n",
              "    fill: var(--fill-color);\n",
              "    height: 32px;\n",
              "    padding: 0;\n",
              "    width: 32px;\n",
              "  }\n",
              "\n",
              "  .colab-df-quickchart:hover {\n",
              "    background-color: var(--hover-bg-color);\n",
              "    box-shadow: 0 1px 2px rgba(60, 64, 67, 0.3), 0 1px 3px 1px rgba(60, 64, 67, 0.15);\n",
              "    fill: var(--button-hover-fill-color);\n",
              "  }\n",
              "\n",
              "  .colab-df-quickchart-complete:disabled,\n",
              "  .colab-df-quickchart-complete:disabled:hover {\n",
              "    background-color: var(--disabled-bg-color);\n",
              "    fill: var(--disabled-fill-color);\n",
              "    box-shadow: none;\n",
              "  }\n",
              "\n",
              "  .colab-df-spinner {\n",
              "    border: 2px solid var(--fill-color);\n",
              "    border-color: transparent;\n",
              "    border-bottom-color: var(--fill-color);\n",
              "    animation:\n",
              "      spin 1s steps(1) infinite;\n",
              "  }\n",
              "\n",
              "  @keyframes spin {\n",
              "    0% {\n",
              "      border-color: transparent;\n",
              "      border-bottom-color: var(--fill-color);\n",
              "      border-left-color: var(--fill-color);\n",
              "    }\n",
              "    20% {\n",
              "      border-color: transparent;\n",
              "      border-left-color: var(--fill-color);\n",
              "      border-top-color: var(--fill-color);\n",
              "    }\n",
              "    30% {\n",
              "      border-color: transparent;\n",
              "      border-left-color: var(--fill-color);\n",
              "      border-top-color: var(--fill-color);\n",
              "      border-right-color: var(--fill-color);\n",
              "    }\n",
              "    40% {\n",
              "      border-color: transparent;\n",
              "      border-right-color: var(--fill-color);\n",
              "      border-top-color: var(--fill-color);\n",
              "    }\n",
              "    60% {\n",
              "      border-color: transparent;\n",
              "      border-right-color: var(--fill-color);\n",
              "    }\n",
              "    80% {\n",
              "      border-color: transparent;\n",
              "      border-right-color: var(--fill-color);\n",
              "      border-bottom-color: var(--fill-color);\n",
              "    }\n",
              "    90% {\n",
              "      border-color: transparent;\n",
              "      border-bottom-color: var(--fill-color);\n",
              "    }\n",
              "  }\n",
              "</style>\n",
              "\n",
              "  <script>\n",
              "    async function quickchart(key) {\n",
              "      const quickchartButtonEl =\n",
              "        document.querySelector('#' + key + ' button');\n",
              "      quickchartButtonEl.disabled = true;  // To prevent multiple clicks.\n",
              "      quickchartButtonEl.classList.add('colab-df-spinner');\n",
              "      try {\n",
              "        const charts = await google.colab.kernel.invokeFunction(\n",
              "            'suggestCharts', [key], {});\n",
              "      } catch (error) {\n",
              "        console.error('Error during call to suggestCharts:', error);\n",
              "      }\n",
              "      quickchartButtonEl.classList.remove('colab-df-spinner');\n",
              "      quickchartButtonEl.classList.add('colab-df-quickchart-complete');\n",
              "    }\n",
              "    (() => {\n",
              "      let quickchartButtonEl =\n",
              "        document.querySelector('#df-60d91fa3-7697-4524-b950-9ea0c1d84463 button');\n",
              "      quickchartButtonEl.style.display =\n",
              "        google.colab.kernel.accessAllowed ? 'block' : 'none';\n",
              "    })();\n",
              "  </script>\n",
              "</div>\n",
              "\n",
              "    </div>\n",
              "  </div>\n"
            ],
            "application/vnd.google.colaboratory.intrinsic+json": {
              "type": "dataframe",
              "variable_name": "data"
            }
          },
          "metadata": {},
          "execution_count": 54
        }
      ],
      "source": [
        "#Cargar archivo csv desde equipo\n",
        "data=pd.read_csv(\"listings.csv.gz\")\n",
        "data.head(5)"
      ]
    },
    {
      "cell_type": "code",
      "source": [
        "data.info()"
      ],
      "metadata": {
        "id": "wd0HWvsuUQDy"
      },
      "execution_count": null,
      "outputs": []
    },
    {
      "cell_type": "markdown",
      "source": [
        "**eliminación de columnas innecesarias**"
      ],
      "metadata": {
        "id": "jtPnoHSPWF3H"
      }
    },
    {
      "cell_type": "code",
      "source": [
        "data.drop(['listing_url','scrape_id','last_scraped','source','name','description','bathrooms_text','neighborhood_overview','picture_url','host_url','host_about','host_thumbnail_url','host_picture_url','neighbourhood_group_cleansed','bathrooms','amenities','minimum_minimum_nights','maximum_minimum_nights','minimum_maximum_nights','calendar_updated','calendar_last_scraped','number_of_reviews_l30d','first_review','license','calculated_host_listings_count_entire_homes','last_review','calculated_host_listings_count_private_rooms','calculated_host_listings_count_shared_rooms'],axis=1,inplace=True)"
      ],
      "metadata": {
        "id": "Yen66HYYWLLy"
      },
      "execution_count": 56,
      "outputs": []
    },
    {
      "cell_type": "code",
      "source": [
        "#corregir columnas con caracteres\n",
        "data['price'] = data['price'].str.replace('$', '').str.replace(',', '').astype(float)"
      ],
      "metadata": {
        "id": "9Hu3ssxmWO9M"
      },
      "execution_count": 57,
      "outputs": []
    },
    {
      "cell_type": "code",
      "source": [
        "data['host_acceptance_rate']=data['host_acceptance_rate'].str.replace('%', '').astype(float)\n",
        "data['host_response_rate']=data['host_response_rate'].str.replace('%', '').astype(float)"
      ],
      "metadata": {
        "id": "u5Fek8ltWWWV"
      },
      "execution_count": 58,
      "outputs": []
    },
    {
      "cell_type": "code",
      "source": [
        "data['host_acceptance_rate']=data['host_acceptance_rate']/100\n",
        "data['host_response_rate']=data['host_response_rate']/100"
      ],
      "metadata": {
        "id": "cLYIbNiKWYVa"
      },
      "execution_count": 59,
      "outputs": []
    },
    {
      "cell_type": "markdown",
      "source": [
        "**limpiar la base de datos**"
      ],
      "metadata": {
        "id": "j4ZS-EzOWa61"
      }
    },
    {
      "cell_type": "code",
      "source": [
        "pd.options.display.max_rows= None"
      ],
      "metadata": {
        "id": "MgzlcQwuWsAV"
      },
      "execution_count": 60,
      "outputs": []
    },
    {
      "cell_type": "code",
      "source": [
        "#Corroboramos valores nulos\n",
        "valores_nulos=data.isnull().sum()\n",
        "valores_nulos"
      ],
      "metadata": {
        "id": "FG-zRvS1WoZk"
      },
      "execution_count": null,
      "outputs": []
    },
    {
      "cell_type": "code",
      "source": [
        "valores_nulos=data.isnull().sum().sum()\n",
        "valores_nulos"
      ],
      "metadata": {
        "colab": {
          "base_uri": "https://localhost:8080/"
        },
        "id": "o2HqBoZeWv4S",
        "outputId": "bea73455-2435-48c2-fd0d-2a7998948261"
      },
      "execution_count": 62,
      "outputs": [
        {
          "output_type": "execute_result",
          "data": {
            "text/plain": [
              "81579"
            ]
          },
          "metadata": {},
          "execution_count": 62
        }
      ]
    },
    {
      "cell_type": "markdown",
      "source": [
        "**separar los dataframes**"
      ],
      "metadata": {
        "id": "9859Gx3QW23G"
      }
    },
    {
      "cell_type": "code",
      "source": [
        "#creación de 2 dataframes para procesar los outliers\n",
        "cuantitativas = data.select_dtypes(include=[int, np.float64])\n",
        "cualitativas=data.select_dtypes(include=[object])"
      ],
      "metadata": {
        "id": "EsftxBRWW0Gt"
      },
      "execution_count": 63,
      "outputs": []
    },
    {
      "cell_type": "markdown",
      "source": [
        "**limpieza de las variables cuantitativas**\n",
        "\n",
        "decidimos usar el método de media, pues permit\\e mantener la representatividad de las variables, conservando la mayor cantidad de datos y evitando sesgos por eliminación, además de ser un método simple y rápido de implementar"
      ],
      "metadata": {
        "id": "obLCToTJXeDC"
      }
    },
    {
      "cell_type": "code",
      "source": [
        "cuantitativas[['bedrooms']]=cuantitativas[['bedrooms']].fillna(round(cuantitativas[['bedrooms']].mean(),1))"
      ],
      "metadata": {
        "id": "Uh4bwdSJXcU1"
      },
      "execution_count": 64,
      "outputs": []
    },
    {
      "cell_type": "code",
      "source": [
        "cuantitativas[['beds']]=cuantitativas[['beds']].fillna(round(cuantitativas[['beds']].mean(),1))"
      ],
      "metadata": {
        "id": "WOB-Z5uwY2jN"
      },
      "execution_count": 65,
      "outputs": []
    },
    {
      "cell_type": "code",
      "source": [
        "cuantitativas[['price']]=cuantitativas[['price']].fillna(round(cuantitativas[['price']].mean(),1))"
      ],
      "metadata": {
        "id": "_RwnuKJJY6Ty"
      },
      "execution_count": 67,
      "outputs": []
    },
    {
      "cell_type": "code",
      "source": [
        "cuantitativas[['review_scores_rating']]=cuantitativas[['review_scores_rating']].fillna(round(cuantitativas[['review_scores_rating']].mean(),1))"
      ],
      "metadata": {
        "id": "-MJof6QqY8jm"
      },
      "execution_count": 68,
      "outputs": []
    },
    {
      "cell_type": "code",
      "source": [
        "cuantitativas[['review_scores_accuracy']]=cuantitativas[['review_scores_accuracy']].fillna(round(cuantitativas[['review_scores_accuracy']].mean(),1))"
      ],
      "metadata": {
        "id": "35uU48oPZAEc"
      },
      "execution_count": 69,
      "outputs": []
    },
    {
      "cell_type": "code",
      "source": [
        "cuantitativas[['review_scores_cleanliness']]=cuantitativas[['review_scores_cleanliness']].fillna(round(cuantitativas[['review_scores_cleanliness']].mean(),1))"
      ],
      "metadata": {
        "id": "cBDq6d52ZFbQ"
      },
      "execution_count": 70,
      "outputs": []
    },
    {
      "cell_type": "code",
      "source": [
        "cuantitativas[['review_scores_checkin']]=cuantitativas[['review_scores_checkin']].fillna(round(cuantitativas[['review_scores_checkin']].mean(),1))"
      ],
      "metadata": {
        "id": "9fW3msIIZMr6"
      },
      "execution_count": 71,
      "outputs": []
    },
    {
      "cell_type": "code",
      "source": [
        "cuantitativas[['review_scores_communication']]=cuantitativas[['review_scores_communication']].fillna(round(cuantitativas[['review_scores_communication']].mean(),1))"
      ],
      "metadata": {
        "id": "a0reBzYeZQCd"
      },
      "execution_count": 72,
      "outputs": []
    },
    {
      "cell_type": "code",
      "source": [
        "cuantitativas[['review_scores_location']]=cuantitativas[['review_scores_location']].fillna(round(cuantitativas[['review_scores_location']].mean(),1))"
      ],
      "metadata": {
        "id": "M6TYnbb_ZTrQ"
      },
      "execution_count": 73,
      "outputs": []
    },
    {
      "cell_type": "code",
      "source": [
        "cuantitativas[['review_scores_value']]=cuantitativas[['review_scores_value']].fillna(round(cuantitativas[['review_scores_value']].mean(),1))"
      ],
      "metadata": {
        "id": "fI7mCaf9ZYEB"
      },
      "execution_count": 74,
      "outputs": []
    },
    {
      "cell_type": "code",
      "source": [
        "cuantitativas[['reviews_per_month']]=cuantitativas[['reviews_per_month']].fillna(round(cuantitativas[['reviews_per_month']].mean(),1))"
      ],
      "metadata": {
        "id": "FBuDlytiZb-A"
      },
      "execution_count": 75,
      "outputs": []
    },
    {
      "cell_type": "code",
      "source": [
        "cuantitativas[['host_response_rate']]=cuantitativas[['host_response_rate']].fillna(round(cuantitativas[['host_response_rate']].mean(),1))"
      ],
      "metadata": {
        "id": "TeHlQxnWZerL"
      },
      "execution_count": 76,
      "outputs": []
    },
    {
      "cell_type": "code",
      "source": [
        "cuantitativas[['host_acceptance_rate']]=cuantitativas[['host_acceptance_rate']].fillna(round(cuantitativas[['host_acceptance_rate']].mean(),1))"
      ],
      "metadata": {
        "id": "Zc9wtQQVZh0H"
      },
      "execution_count": 77,
      "outputs": []
    },
    {
      "cell_type": "code",
      "source": [
        "valores_nulos=cuantitativas.isnull().sum()\n",
        "valores_nulos"
      ],
      "metadata": {
        "colab": {
          "base_uri": "https://localhost:8080/",
          "height": 1000
        },
        "id": "Zeu1Kgy0Zkl8",
        "outputId": "ad415258-c7a8-4ed1-ba2e-04e8cef66601"
      },
      "execution_count": 78,
      "outputs": [
        {
          "output_type": "execute_result",
          "data": {
            "text/plain": [
              "id                                0\n",
              "host_id                           0\n",
              "host_response_rate                0\n",
              "host_acceptance_rate              0\n",
              "host_listings_count               0\n",
              "host_total_listings_count         0\n",
              "latitude                          0\n",
              "longitude                         0\n",
              "accommodates                      0\n",
              "bedrooms                          0\n",
              "beds                              0\n",
              "price                             0\n",
              "minimum_nights                    0\n",
              "maximum_nights                    0\n",
              "maximum_maximum_nights            0\n",
              "minimum_nights_avg_ntm            0\n",
              "maximum_nights_avg_ntm            0\n",
              "availability_30                   0\n",
              "availability_60                   0\n",
              "availability_90                   0\n",
              "availability_365                  0\n",
              "number_of_reviews                 0\n",
              "number_of_reviews_ltm             0\n",
              "review_scores_rating              0\n",
              "review_scores_accuracy            0\n",
              "review_scores_cleanliness         0\n",
              "review_scores_checkin             0\n",
              "review_scores_communication       0\n",
              "review_scores_location            0\n",
              "review_scores_value               0\n",
              "calculated_host_listings_count    0\n",
              "reviews_per_month                 0\n",
              "dtype: int64"
            ],
            "text/html": [
              "<div>\n",
              "<style scoped>\n",
              "    .dataframe tbody tr th:only-of-type {\n",
              "        vertical-align: middle;\n",
              "    }\n",
              "\n",
              "    .dataframe tbody tr th {\n",
              "        vertical-align: top;\n",
              "    }\n",
              "\n",
              "    .dataframe thead th {\n",
              "        text-align: right;\n",
              "    }\n",
              "</style>\n",
              "<table border=\"1\" class=\"dataframe\">\n",
              "  <thead>\n",
              "    <tr style=\"text-align: right;\">\n",
              "      <th></th>\n",
              "      <th>0</th>\n",
              "    </tr>\n",
              "  </thead>\n",
              "  <tbody>\n",
              "    <tr>\n",
              "      <th>id</th>\n",
              "      <td>0</td>\n",
              "    </tr>\n",
              "    <tr>\n",
              "      <th>host_id</th>\n",
              "      <td>0</td>\n",
              "    </tr>\n",
              "    <tr>\n",
              "      <th>host_response_rate</th>\n",
              "      <td>0</td>\n",
              "    </tr>\n",
              "    <tr>\n",
              "      <th>host_acceptance_rate</th>\n",
              "      <td>0</td>\n",
              "    </tr>\n",
              "    <tr>\n",
              "      <th>host_listings_count</th>\n",
              "      <td>0</td>\n",
              "    </tr>\n",
              "    <tr>\n",
              "      <th>host_total_listings_count</th>\n",
              "      <td>0</td>\n",
              "    </tr>\n",
              "    <tr>\n",
              "      <th>latitude</th>\n",
              "      <td>0</td>\n",
              "    </tr>\n",
              "    <tr>\n",
              "      <th>longitude</th>\n",
              "      <td>0</td>\n",
              "    </tr>\n",
              "    <tr>\n",
              "      <th>accommodates</th>\n",
              "      <td>0</td>\n",
              "    </tr>\n",
              "    <tr>\n",
              "      <th>bedrooms</th>\n",
              "      <td>0</td>\n",
              "    </tr>\n",
              "    <tr>\n",
              "      <th>beds</th>\n",
              "      <td>0</td>\n",
              "    </tr>\n",
              "    <tr>\n",
              "      <th>price</th>\n",
              "      <td>0</td>\n",
              "    </tr>\n",
              "    <tr>\n",
              "      <th>minimum_nights</th>\n",
              "      <td>0</td>\n",
              "    </tr>\n",
              "    <tr>\n",
              "      <th>maximum_nights</th>\n",
              "      <td>0</td>\n",
              "    </tr>\n",
              "    <tr>\n",
              "      <th>maximum_maximum_nights</th>\n",
              "      <td>0</td>\n",
              "    </tr>\n",
              "    <tr>\n",
              "      <th>minimum_nights_avg_ntm</th>\n",
              "      <td>0</td>\n",
              "    </tr>\n",
              "    <tr>\n",
              "      <th>maximum_nights_avg_ntm</th>\n",
              "      <td>0</td>\n",
              "    </tr>\n",
              "    <tr>\n",
              "      <th>availability_30</th>\n",
              "      <td>0</td>\n",
              "    </tr>\n",
              "    <tr>\n",
              "      <th>availability_60</th>\n",
              "      <td>0</td>\n",
              "    </tr>\n",
              "    <tr>\n",
              "      <th>availability_90</th>\n",
              "      <td>0</td>\n",
              "    </tr>\n",
              "    <tr>\n",
              "      <th>availability_365</th>\n",
              "      <td>0</td>\n",
              "    </tr>\n",
              "    <tr>\n",
              "      <th>number_of_reviews</th>\n",
              "      <td>0</td>\n",
              "    </tr>\n",
              "    <tr>\n",
              "      <th>number_of_reviews_ltm</th>\n",
              "      <td>0</td>\n",
              "    </tr>\n",
              "    <tr>\n",
              "      <th>review_scores_rating</th>\n",
              "      <td>0</td>\n",
              "    </tr>\n",
              "    <tr>\n",
              "      <th>review_scores_accuracy</th>\n",
              "      <td>0</td>\n",
              "    </tr>\n",
              "    <tr>\n",
              "      <th>review_scores_cleanliness</th>\n",
              "      <td>0</td>\n",
              "    </tr>\n",
              "    <tr>\n",
              "      <th>review_scores_checkin</th>\n",
              "      <td>0</td>\n",
              "    </tr>\n",
              "    <tr>\n",
              "      <th>review_scores_communication</th>\n",
              "      <td>0</td>\n",
              "    </tr>\n",
              "    <tr>\n",
              "      <th>review_scores_location</th>\n",
              "      <td>0</td>\n",
              "    </tr>\n",
              "    <tr>\n",
              "      <th>review_scores_value</th>\n",
              "      <td>0</td>\n",
              "    </tr>\n",
              "    <tr>\n",
              "      <th>calculated_host_listings_count</th>\n",
              "      <td>0</td>\n",
              "    </tr>\n",
              "    <tr>\n",
              "      <th>reviews_per_month</th>\n",
              "      <td>0</td>\n",
              "    </tr>\n",
              "  </tbody>\n",
              "</table>\n",
              "</div><br><label><b>dtype:</b> int64</label>"
            ]
          },
          "metadata": {},
          "execution_count": 78
        }
      ]
    },
    {
      "cell_type": "markdown",
      "source": [
        "**limpieza de las variables cualitativas**\n",
        "\n",
        " decidí usar la moda, pues facilita el análisis posterior al garantizar que no haya valores faltantes en la variable categórica\n"
      ],
      "metadata": {
        "id": "PVs8CinDZ1ma"
      }
    },
    {
      "cell_type": "code",
      "source": [
        "import statistics as st"
      ],
      "metadata": {
        "id": "_-Th7FvQax19"
      },
      "execution_count": 79,
      "outputs": []
    },
    {
      "cell_type": "code",
      "source": [
        "mode = st.mode(x for x in data['host_location'] if x is not None)\n",
        "mode"
      ],
      "metadata": {
        "colab": {
          "base_uri": "https://localhost:8080/",
          "height": 35
        },
        "id": "9CJdUpyGcVEt",
        "outputId": "9bdb1595-0679-4073-d994-30fe900123a1"
      },
      "execution_count": 80,
      "outputs": [
        {
          "output_type": "execute_result",
          "data": {
            "text/plain": [
              "'Mexico City, Mexico'"
            ],
            "application/vnd.google.colaboratory.intrinsic+json": {
              "type": "string"
            }
          },
          "metadata": {},
          "execution_count": 80
        }
      ]
    },
    {
      "cell_type": "code",
      "source": [
        "mode = st.mode(x for x in data['host_response_time'] if x is not None)\n",
        "mode"
      ],
      "metadata": {
        "colab": {
          "base_uri": "https://localhost:8080/",
          "height": 35
        },
        "id": "-AUUzLCWcYr3",
        "outputId": "63f238c8-a3ef-4d34-d436-8344a6874aaf"
      },
      "execution_count": 81,
      "outputs": [
        {
          "output_type": "execute_result",
          "data": {
            "text/plain": [
              "'within an hour'"
            ],
            "application/vnd.google.colaboratory.intrinsic+json": {
              "type": "string"
            }
          },
          "metadata": {},
          "execution_count": 81
        }
      ]
    },
    {
      "cell_type": "code",
      "source": [
        "mode = st.mode(x for x in data['host_is_superhost'] if x is not None)\n",
        "mode"
      ],
      "metadata": {
        "colab": {
          "base_uri": "https://localhost:8080/",
          "height": 35
        },
        "id": "rWuqYqCUcZG9",
        "outputId": "a24a1109-c7c7-420d-c01b-cd6c892808e0"
      },
      "execution_count": 82,
      "outputs": [
        {
          "output_type": "execute_result",
          "data": {
            "text/plain": [
              "'f'"
            ],
            "application/vnd.google.colaboratory.intrinsic+json": {
              "type": "string"
            }
          },
          "metadata": {},
          "execution_count": 82
        }
      ]
    },
    {
      "cell_type": "code",
      "source": [
        "mode = st.mode(x for x in data['host_neighbourhood'] if x is not None)\n",
        "mode"
      ],
      "metadata": {
        "colab": {
          "base_uri": "https://localhost:8080/"
        },
        "id": "HFJcqcW-cZW1",
        "outputId": "292ff710-c7a0-418e-ad15-b163c38e104a"
      },
      "execution_count": 83,
      "outputs": [
        {
          "output_type": "execute_result",
          "data": {
            "text/plain": [
              "nan"
            ]
          },
          "metadata": {},
          "execution_count": 83
        }
      ]
    },
    {
      "cell_type": "code",
      "source": [
        "mode = st.mode(x for x in data['neighbourhood'] if x is not None)\n",
        "mode"
      ],
      "metadata": {
        "colab": {
          "base_uri": "https://localhost:8080/",
          "height": 35
        },
        "id": "FZM4CqzAccTa",
        "outputId": "4d333cae-b07b-4276-b4a3-467c181f74f4"
      },
      "execution_count": 84,
      "outputs": [
        {
          "output_type": "execute_result",
          "data": {
            "text/plain": [
              "'Mexico City, Ciudad de México, Mexico'"
            ],
            "application/vnd.google.colaboratory.intrinsic+json": {
              "type": "string"
            }
          },
          "metadata": {},
          "execution_count": 84
        }
      ]
    },
    {
      "cell_type": "code",
      "source": [
        "mode = st.mode(x for x in data['has_availability'] if x is not None)\n",
        "mode"
      ],
      "metadata": {
        "colab": {
          "base_uri": "https://localhost:8080/",
          "height": 35
        },
        "id": "d-WCc6eMccs6",
        "outputId": "7472c6d8-4499-47e9-dffe-33df5ba67fe2"
      },
      "execution_count": 85,
      "outputs": [
        {
          "output_type": "execute_result",
          "data": {
            "text/plain": [
              "'t'"
            ],
            "application/vnd.google.colaboratory.intrinsic+json": {
              "type": "string"
            }
          },
          "metadata": {},
          "execution_count": 85
        }
      ]
    },
    {
      "cell_type": "code",
      "source": [
        "cualitativas[\"host_location\"].fillna(mode, inplace=True)\n",
        "cualitativas[\"host_response_time\"].fillna(mode, inplace=True)\n",
        "cualitativas[\"host_is_superhost\"].fillna(mode, inplace=True)\n",
        "cualitativas[\"host_neighbourhood\"].fillna(mode, inplace=True)\n",
        "cualitativas[\"neighbourhood\"].fillna(mode, inplace=True)\n",
        "cualitativas[\"has_availability\"].fillna(mode, inplace=True)"
      ],
      "metadata": {
        "id": "-CC7eUDdc9E4"
      },
      "execution_count": 87,
      "outputs": []
    },
    {
      "cell_type": "code",
      "source": [
        "valores_nulos=cualitativas.isnull().sum()\n",
        "valores_nulos"
      ],
      "metadata": {
        "colab": {
          "base_uri": "https://localhost:8080/",
          "height": 554
        },
        "id": "eT-eJrRjdkpL",
        "outputId": "ff388467-4b1e-43aa-ba88-8ef8f098aadb"
      },
      "execution_count": 88,
      "outputs": [
        {
          "output_type": "execute_result",
          "data": {
            "text/plain": [
              "host_name                 0\n",
              "host_since                0\n",
              "host_location             0\n",
              "host_response_time        0\n",
              "host_is_superhost         0\n",
              "host_neighbourhood        0\n",
              "host_verifications        0\n",
              "host_has_profile_pic      0\n",
              "host_identity_verified    0\n",
              "neighbourhood             0\n",
              "neighbourhood_cleansed    0\n",
              "property_type             0\n",
              "room_type                 0\n",
              "has_availability          0\n",
              "instant_bookable          0\n",
              "dtype: int64"
            ],
            "text/html": [
              "<div>\n",
              "<style scoped>\n",
              "    .dataframe tbody tr th:only-of-type {\n",
              "        vertical-align: middle;\n",
              "    }\n",
              "\n",
              "    .dataframe tbody tr th {\n",
              "        vertical-align: top;\n",
              "    }\n",
              "\n",
              "    .dataframe thead th {\n",
              "        text-align: right;\n",
              "    }\n",
              "</style>\n",
              "<table border=\"1\" class=\"dataframe\">\n",
              "  <thead>\n",
              "    <tr style=\"text-align: right;\">\n",
              "      <th></th>\n",
              "      <th>0</th>\n",
              "    </tr>\n",
              "  </thead>\n",
              "  <tbody>\n",
              "    <tr>\n",
              "      <th>host_name</th>\n",
              "      <td>0</td>\n",
              "    </tr>\n",
              "    <tr>\n",
              "      <th>host_since</th>\n",
              "      <td>0</td>\n",
              "    </tr>\n",
              "    <tr>\n",
              "      <th>host_location</th>\n",
              "      <td>0</td>\n",
              "    </tr>\n",
              "    <tr>\n",
              "      <th>host_response_time</th>\n",
              "      <td>0</td>\n",
              "    </tr>\n",
              "    <tr>\n",
              "      <th>host_is_superhost</th>\n",
              "      <td>0</td>\n",
              "    </tr>\n",
              "    <tr>\n",
              "      <th>host_neighbourhood</th>\n",
              "      <td>0</td>\n",
              "    </tr>\n",
              "    <tr>\n",
              "      <th>host_verifications</th>\n",
              "      <td>0</td>\n",
              "    </tr>\n",
              "    <tr>\n",
              "      <th>host_has_profile_pic</th>\n",
              "      <td>0</td>\n",
              "    </tr>\n",
              "    <tr>\n",
              "      <th>host_identity_verified</th>\n",
              "      <td>0</td>\n",
              "    </tr>\n",
              "    <tr>\n",
              "      <th>neighbourhood</th>\n",
              "      <td>0</td>\n",
              "    </tr>\n",
              "    <tr>\n",
              "      <th>neighbourhood_cleansed</th>\n",
              "      <td>0</td>\n",
              "    </tr>\n",
              "    <tr>\n",
              "      <th>property_type</th>\n",
              "      <td>0</td>\n",
              "    </tr>\n",
              "    <tr>\n",
              "      <th>room_type</th>\n",
              "      <td>0</td>\n",
              "    </tr>\n",
              "    <tr>\n",
              "      <th>has_availability</th>\n",
              "      <td>0</td>\n",
              "    </tr>\n",
              "    <tr>\n",
              "      <th>instant_bookable</th>\n",
              "      <td>0</td>\n",
              "    </tr>\n",
              "  </tbody>\n",
              "</table>\n",
              "</div><br><label><b>dtype:</b> int64</label>"
            ]
          },
          "metadata": {},
          "execution_count": 88
        }
      ]
    },
    {
      "cell_type": "code",
      "source": [
        "valores_nulos=cualitativas.isnull().sum()\n",
        "valores_nulos"
      ],
      "metadata": {
        "colab": {
          "base_uri": "https://localhost:8080/",
          "height": 554
        },
        "id": "TJ7YxUutd-mH",
        "outputId": "fc80fe80-4911-4bbb-98d2-2d15520c275a"
      },
      "execution_count": 53,
      "outputs": [
        {
          "output_type": "execute_result",
          "data": {
            "text/plain": [
              "host_name                     0\n",
              "host_since                    0\n",
              "host_location              5606\n",
              "host_response_time         4197\n",
              "host_is_superhost          1543\n",
              "host_neighbourhood        13355\n",
              "host_verifications            0\n",
              "host_has_profile_pic          0\n",
              "host_identity_verified        0\n",
              "neighbourhood             10290\n",
              "neighbourhood_cleansed        0\n",
              "property_type                 0\n",
              "room_type                     0\n",
              "has_availability           1036\n",
              "instant_bookable              0\n",
              "dtype: int64"
            ],
            "text/html": [
              "<div>\n",
              "<style scoped>\n",
              "    .dataframe tbody tr th:only-of-type {\n",
              "        vertical-align: middle;\n",
              "    }\n",
              "\n",
              "    .dataframe tbody tr th {\n",
              "        vertical-align: top;\n",
              "    }\n",
              "\n",
              "    .dataframe thead th {\n",
              "        text-align: right;\n",
              "    }\n",
              "</style>\n",
              "<table border=\"1\" class=\"dataframe\">\n",
              "  <thead>\n",
              "    <tr style=\"text-align: right;\">\n",
              "      <th></th>\n",
              "      <th>0</th>\n",
              "    </tr>\n",
              "  </thead>\n",
              "  <tbody>\n",
              "    <tr>\n",
              "      <th>host_name</th>\n",
              "      <td>0</td>\n",
              "    </tr>\n",
              "    <tr>\n",
              "      <th>host_since</th>\n",
              "      <td>0</td>\n",
              "    </tr>\n",
              "    <tr>\n",
              "      <th>host_location</th>\n",
              "      <td>5606</td>\n",
              "    </tr>\n",
              "    <tr>\n",
              "      <th>host_response_time</th>\n",
              "      <td>4197</td>\n",
              "    </tr>\n",
              "    <tr>\n",
              "      <th>host_is_superhost</th>\n",
              "      <td>1543</td>\n",
              "    </tr>\n",
              "    <tr>\n",
              "      <th>host_neighbourhood</th>\n",
              "      <td>13355</td>\n",
              "    </tr>\n",
              "    <tr>\n",
              "      <th>host_verifications</th>\n",
              "      <td>0</td>\n",
              "    </tr>\n",
              "    <tr>\n",
              "      <th>host_has_profile_pic</th>\n",
              "      <td>0</td>\n",
              "    </tr>\n",
              "    <tr>\n",
              "      <th>host_identity_verified</th>\n",
              "      <td>0</td>\n",
              "    </tr>\n",
              "    <tr>\n",
              "      <th>neighbourhood</th>\n",
              "      <td>10290</td>\n",
              "    </tr>\n",
              "    <tr>\n",
              "      <th>neighbourhood_cleansed</th>\n",
              "      <td>0</td>\n",
              "    </tr>\n",
              "    <tr>\n",
              "      <th>property_type</th>\n",
              "      <td>0</td>\n",
              "    </tr>\n",
              "    <tr>\n",
              "      <th>room_type</th>\n",
              "      <td>0</td>\n",
              "    </tr>\n",
              "    <tr>\n",
              "      <th>has_availability</th>\n",
              "      <td>1036</td>\n",
              "    </tr>\n",
              "    <tr>\n",
              "      <th>instant_bookable</th>\n",
              "      <td>0</td>\n",
              "    </tr>\n",
              "  </tbody>\n",
              "</table>\n",
              "</div><br><label><b>dtype:</b> int64</label>"
            ]
          },
          "metadata": {},
          "execution_count": 53
        }
      ]
    },
    {
      "cell_type": "code",
      "source": [
        "cuantitativas.to_csv('cuantitativas_limpio.csv')"
      ],
      "metadata": {
        "id": "PTnzNYPIeD2e"
      },
      "execution_count": 89,
      "outputs": []
    },
    {
      "cell_type": "code",
      "source": [
        "cualitativas.to_csv('cualitativas_limpio.csv')"
      ],
      "metadata": {
        "id": "00Qx9Od0fBdY"
      },
      "execution_count": 92,
      "outputs": []
    }
  ],
  "metadata": {
    "colab": {
      "provenance": [],
      "authorship_tag": "ABX9TyMFiioHNU0qbu3GB/wlmJlX",
      "include_colab_link": true
    },
    "kernelspec": {
      "display_name": "Python 3",
      "name": "python3"
    },
    "language_info": {
      "name": "python"
    }
  },
  "nbformat": 4,
  "nbformat_minor": 0
}