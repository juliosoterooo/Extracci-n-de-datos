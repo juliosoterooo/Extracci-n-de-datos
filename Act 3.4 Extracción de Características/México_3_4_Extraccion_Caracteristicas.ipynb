{
  "nbformat": 4,
  "nbformat_minor": 0,
  "metadata": {
    "colab": {
      "provenance": [],
      "include_colab_link": true
    },
    "kernelspec": {
      "name": "python3",
      "display_name": "Python 3"
    },
    "language_info": {
      "name": "python"
    }
  },
  "cells": [
    {
      "cell_type": "markdown",
      "metadata": {
        "id": "view-in-github",
        "colab_type": "text"
      },
      "source": [
        "<a href=\"https://colab.research.google.com/github/juliosoterooo/Extracci-n-de-datos/blob/main/Act%203.4%20Extracci%C3%B3n%20de%20Caracter%C3%ADsticas/M%C3%A9xico_3_4_Extraccion_Caracteristicas.ipynb\" target=\"_parent\"><img src=\"https://colab.research.google.com/assets/colab-badge.svg\" alt=\"Open In Colab\"/></a>"
      ]
    },
    {
      "cell_type": "markdown",
      "source": [
        "# Paso 0 **Cargar info y librerias**"
      ],
      "metadata": {
        "id": "WWUaWmFrbund"
      }
    },
    {
      "cell_type": "code",
      "source": [
        "#Instalamos librebria para analisis de variables categoricas\n",
        "%pip install funpymodeling"
      ],
      "metadata": {
        "id": "iIxz0D0JpAiL",
        "collapsed": true
      },
      "execution_count": null,
      "outputs": []
    },
    {
      "cell_type": "code",
      "execution_count": 2,
      "metadata": {
        "id": "iZECv0J7oOyD"
      },
      "outputs": [],
      "source": [
        "#Importamos las librerias pandas, numpy y matplotlib\n",
        "import pandas as pd\n",
        "import numpy as np\n",
        "import matplotlib.pyplot as plt\n",
        "from funpymodeling.exploratory import freq_tbl"
      ]
    },
    {
      "cell_type": "code",
      "source": [
        "City= pd.read_csv('Datos_Limpios_iqr(méxico).csv')"
      ],
      "metadata": {
        "id": "gX-cDIMVojAX"
      },
      "execution_count": 3,
      "outputs": []
    },
    {
      "cell_type": "code",
      "source": [
        "City.drop('Unnamed: 0', axis=1, inplace=True)"
      ],
      "metadata": {
        "id": "cNK661xE9kpB"
      },
      "execution_count": 4,
      "outputs": []
    },
    {
      "cell_type": "code",
      "source": [
        "City.isnull().sum().sum()"
      ],
      "metadata": {
        "id": "bz5rzjO1I55o",
        "colab": {
          "base_uri": "https://localhost:8080/"
        },
        "outputId": "95e75e60-c1f9-413c-b741-b43791a371aa"
      },
      "execution_count": 5,
      "outputs": [
        {
          "output_type": "execute_result",
          "data": {
            "text/plain": [
              "0"
            ]
          },
          "metadata": {},
          "execution_count": 5
        }
      ]
    },
    {
      "cell_type": "markdown",
      "source": [
        "# Paso 1 **Preprocesamiento**"
      ],
      "metadata": {
        "id": "rVJe1Flub1zW"
      }
    },
    {
      "cell_type": "markdown",
      "source": [
        "\n",
        "## **Columnas a evaluar:**\n",
        "\n",
        "Agregamos variables categoricas de las variables cuantitativas\n",
        "\n",
        "1.   host_response_rate\n",
        "2.   host_acceptance_rate\n",
        "3.  host_total_listings_count\n",
        "4.  accommodates\n",
        "5.  bathrooms\n",
        "6.  beds\n",
        "7.  price\n",
        "8.  'availability_60'\n",
        "9. 'availability_90'\n",
        "10. 'availability_365'\n",
        "11. 'number_of_reviews_ltm'\n",
        "12. 'reviews_per_month'\n"
      ],
      "metadata": {
        "id": "85DD4R1D7v01"
      }
    },
    {
      "cell_type": "markdown",
      "source": [
        "### **Strungens** host_response_rate"
      ],
      "metadata": {
        "id": "vpofGvUGeEqZ"
      }
    },
    {
      "cell_type": "code",
      "source": [
        "City['host_response_rate'].info()\n",
        "n_1=len(City)"
      ],
      "metadata": {
        "colab": {
          "base_uri": "https://localhost:8080/"
        },
        "id": "hldDIr0sdkdi",
        "outputId": "5c98c40b-1fdc-4e7e-97e1-6df7a000b550"
      },
      "execution_count": 6,
      "outputs": [
        {
          "output_type": "stream",
          "name": "stdout",
          "text": [
            "<class 'pandas.core.series.Series'>\n",
            "RangeIndex: 26536 entries, 0 to 26535\n",
            "Series name: host_response_rate\n",
            "Non-Null Count  Dtype  \n",
            "--------------  -----  \n",
            "26536 non-null  float64\n",
            "dtypes: float64(1)\n",
            "memory usage: 207.4 KB\n"
          ]
        }
      ]
    },
    {
      "cell_type": "code",
      "source": [
        "#Obtenemos el limite superior y el limite inferior de la colmna objetivo\n",
        "Max_1_1=City['host_response_rate'].max()\n",
        "Min_2_1=City['host_response_rate'].min()\n",
        "Limites= [Min_2_1, Max_1_1]\n",
        "Limites"
      ],
      "metadata": {
        "colab": {
          "base_uri": "https://localhost:8080/"
        },
        "id": "0-7T4ZbKdm0p",
        "outputId": "80b2dbf0-c0e9-4c2f-b58e-849ad61e3381"
      },
      "execution_count": 7,
      "outputs": [
        {
          "output_type": "execute_result",
          "data": {
            "text/plain": [
              "[0.75, 1.0]"
            ]
          },
          "metadata": {},
          "execution_count": 7
        }
      ]
    },
    {
      "cell_type": "code",
      "source": [
        "#Calculamos el Rango R\n",
        "R_2_2=Max_1_1-Min_2_1\n",
        "R_2_2"
      ],
      "metadata": {
        "colab": {
          "base_uri": "https://localhost:8080/"
        },
        "id": "r6D490MQdx_8",
        "outputId": "b8f99ff1-022c-4462-cd21-d3ac78d65e9d"
      },
      "execution_count": 8,
      "outputs": [
        {
          "output_type": "execute_result",
          "data": {
            "text/plain": [
              "0.25"
            ]
          },
          "metadata": {},
          "execution_count": 8
        }
      ]
    },
    {
      "cell_type": "code",
      "source": [
        "#Calculamos el numero de intervalos de clase \"ni\", aplicando la regla de Sturges\n",
        "ni_1= 1+3.32*np.log10(Max_1_1)\n",
        "ni_1"
      ],
      "metadata": {
        "colab": {
          "base_uri": "https://localhost:8080/"
        },
        "id": "q0MuIKnneTWH",
        "outputId": "bf7b1771-d666-47ab-9d01-f5c8c08ca80e"
      },
      "execution_count": 9,
      "outputs": [
        {
          "output_type": "execute_result",
          "data": {
            "text/plain": [
              "1.0"
            ]
          },
          "metadata": {},
          "execution_count": 9
        }
      ]
    },
    {
      "cell_type": "code",
      "source": [
        "#Categorización de variables\n",
        "intervalos=np.linspace(0,Max_1_1,round(ni_1+1))\n",
        "len(intervalos)"
      ],
      "metadata": {
        "colab": {
          "base_uri": "https://localhost:8080/"
        },
        "id": "2Sxnc4KveCMK",
        "outputId": "4ca140e4-8d17-4f02-ddc5-e4a8993eec96"
      },
      "execution_count": 10,
      "outputs": [
        {
          "output_type": "execute_result",
          "data": {
            "text/plain": [
              "2"
            ]
          },
          "metadata": {},
          "execution_count": 10
        }
      ]
    },
    {
      "cell_type": "code",
      "source": [
        "#Calculamos el Ancho del Intervalo \"i\"\n",
        "i=R_2_2/ni_1\n",
        "i"
      ],
      "metadata": {
        "colab": {
          "base_uri": "https://localhost:8080/"
        },
        "id": "UcwOlToieZNp",
        "outputId": "3d087fb0-9e5c-424c-f558-af52c7318602"
      },
      "execution_count": 11,
      "outputs": [
        {
          "output_type": "execute_result",
          "data": {
            "text/plain": [
              "0.25"
            ]
          },
          "metadata": {},
          "execution_count": 11
        }
      ]
    },
    {
      "cell_type": "code",
      "source": [
        "#Categorización de variables\n",
        "intervalos=np.linspace(-0.0000000001,Max_1_1,round(ni_1+2))\n",
        "intervalos"
      ],
      "metadata": {
        "colab": {
          "base_uri": "https://localhost:8080/"
        },
        "id": "JqvcPKf9ekQK",
        "outputId": "53b759fe-a227-4131-ae67-ee8be2178e8b"
      },
      "execution_count": 12,
      "outputs": [
        {
          "output_type": "execute_result",
          "data": {
            "text/plain": [
              "array([-1.e-10,  5.e-01,  1.e+00])"
            ]
          },
          "metadata": {},
          "execution_count": 12
        }
      ]
    },
    {
      "cell_type": "code",
      "source": [
        "#Creamos las categorias\n",
        "categorias = [\n",
        "    'Mala', 'Buena'\n",
        "]\n",
        "\n"
      ],
      "metadata": {
        "id": "XvNyDK3le7gh"
      },
      "execution_count": 13,
      "outputs": []
    },
    {
      "cell_type": "code",
      "source": [
        "#Finalmente creamos las categorias en la columna numerica\n",
        "City['host_response_rate']=pd.cut(x=City['host_response_rate'],bins=intervalos,labels=categorias)\n",
        "City['host_response_rate'].head()"
      ],
      "metadata": {
        "colab": {
          "base_uri": "https://localhost:8080/",
          "height": 241
        },
        "id": "DBRn9mDafGJ_",
        "outputId": "08e91d01-343d-420c-9c27-ad5163eecafa"
      },
      "execution_count": 14,
      "outputs": [
        {
          "output_type": "execute_result",
          "data": {
            "text/plain": [
              "0    Buena\n",
              "1    Buena\n",
              "2    Buena\n",
              "3    Buena\n",
              "4    Buena\n",
              "Name: host_response_rate, dtype: category\n",
              "Categories (2, object): ['Mala' < 'Buena']"
            ],
            "text/html": [
              "<div>\n",
              "<style scoped>\n",
              "    .dataframe tbody tr th:only-of-type {\n",
              "        vertical-align: middle;\n",
              "    }\n",
              "\n",
              "    .dataframe tbody tr th {\n",
              "        vertical-align: top;\n",
              "    }\n",
              "\n",
              "    .dataframe thead th {\n",
              "        text-align: right;\n",
              "    }\n",
              "</style>\n",
              "<table border=\"1\" class=\"dataframe\">\n",
              "  <thead>\n",
              "    <tr style=\"text-align: right;\">\n",
              "      <th></th>\n",
              "      <th>host_response_rate</th>\n",
              "    </tr>\n",
              "  </thead>\n",
              "  <tbody>\n",
              "    <tr>\n",
              "      <th>0</th>\n",
              "      <td>Buena</td>\n",
              "    </tr>\n",
              "    <tr>\n",
              "      <th>1</th>\n",
              "      <td>Buena</td>\n",
              "    </tr>\n",
              "    <tr>\n",
              "      <th>2</th>\n",
              "      <td>Buena</td>\n",
              "    </tr>\n",
              "    <tr>\n",
              "      <th>3</th>\n",
              "      <td>Buena</td>\n",
              "    </tr>\n",
              "    <tr>\n",
              "      <th>4</th>\n",
              "      <td>Buena</td>\n",
              "    </tr>\n",
              "  </tbody>\n",
              "</table>\n",
              "</div><br><label><b>dtype:</b> category</label>"
            ]
          },
          "metadata": {},
          "execution_count": 14
        }
      ]
    },
    {
      "cell_type": "code",
      "source": [
        "City['host_response_rate'].isnull().sum()"
      ],
      "metadata": {
        "colab": {
          "base_uri": "https://localhost:8080/"
        },
        "id": "c8BwNR-OfrFo",
        "outputId": "d2ba896a-5f8a-46f6-f8a9-0d19249c75bf"
      },
      "execution_count": 15,
      "outputs": [
        {
          "output_type": "execute_result",
          "data": {
            "text/plain": [
              "0"
            ]
          },
          "metadata": {},
          "execution_count": 15
        }
      ]
    },
    {
      "cell_type": "markdown",
      "source": [
        "### **Strungens** host_acceptance_rate"
      ],
      "metadata": {
        "id": "_Vk-bXQpd_rb"
      }
    },
    {
      "cell_type": "code",
      "source": [
        "x='host_acceptance_rate'\n",
        "#Calculamos el numero total de la poblacion \"n\"\n",
        "City[x].info()\n",
        "n_1=len(City)\n",
        "#Obtenemos el limite superior y el limite inferior de la colmna objetivo\n",
        "Max_1_1=City[x].max()\n",
        "Min_2_1=City[x].min()\n",
        "Limites= [Min_2_1, Max_1_1]\n",
        "#Calculamos el Rango R\n",
        "R_2_2=Max_1_1-Min_2_1\n",
        "#Calculamos el numero de intervalos de clase \"ni\", aplicando la regla de Sturges\n",
        "ni_1= 1+3.32*np.log10(Max_1_1)\n",
        "#Calculamos el Ancho del Intervalo \"i\"\n",
        "i=R_2_2/ni_1"
      ],
      "metadata": {
        "colab": {
          "base_uri": "https://localhost:8080/"
        },
        "id": "y4iJEy2WgF8U",
        "outputId": "1b49e5cf-dcd5-45d6-d2d9-d4c1281d3304"
      },
      "execution_count": 16,
      "outputs": [
        {
          "output_type": "stream",
          "name": "stdout",
          "text": [
            "<class 'pandas.core.series.Series'>\n",
            "RangeIndex: 26536 entries, 0 to 26535\n",
            "Series name: host_acceptance_rate\n",
            "Non-Null Count  Dtype  \n",
            "--------------  -----  \n",
            "26536 non-null  float64\n",
            "dtypes: float64(1)\n",
            "memory usage: 207.4 KB\n"
          ]
        }
      ]
    },
    {
      "cell_type": "code",
      "source": [
        "Limites"
      ],
      "metadata": {
        "colab": {
          "base_uri": "https://localhost:8080/"
        },
        "id": "bx_LbbKGhx-u",
        "outputId": "418f3090-bed4-4804-99e5-aff869387e94"
      },
      "execution_count": 17,
      "outputs": [
        {
          "output_type": "execute_result",
          "data": {
            "text/plain": [
              "[0.75, 1.0]"
            ]
          },
          "metadata": {},
          "execution_count": 17
        }
      ]
    },
    {
      "cell_type": "code",
      "source": [
        "#Categorización de variables\n",
        "intervalos=np.linspace(-0.0000000001,Max_1_1,round(ni_1+2))\n",
        "len(intervalos)"
      ],
      "metadata": {
        "colab": {
          "base_uri": "https://localhost:8080/"
        },
        "id": "o9UjqplwgySX",
        "outputId": "22baff35-f7a0-4b60-8245-052d0ce31270"
      },
      "execution_count": 18,
      "outputs": [
        {
          "output_type": "execute_result",
          "data": {
            "text/plain": [
              "3"
            ]
          },
          "metadata": {},
          "execution_count": 18
        }
      ]
    },
    {
      "cell_type": "code",
      "source": [
        "#Creamos las categorias\n",
        "categorias = [\n",
        "    'Buena', 'Mala'\n",
        "]\n"
      ],
      "metadata": {
        "id": "T7lCnyTbhGUr"
      },
      "execution_count": 19,
      "outputs": []
    },
    {
      "cell_type": "code",
      "source": [
        "City['host_acceptance_rate']=pd.cut(x=City['host_acceptance_rate'],bins=intervalos,labels=categorias)\n",
        "City['host_acceptance_rate'].head()"
      ],
      "metadata": {
        "colab": {
          "base_uri": "https://localhost:8080/",
          "height": 241
        },
        "id": "SR8bTIjUhMI1",
        "outputId": "fe357b09-18f2-4af2-8671-f70c4bf1bede"
      },
      "execution_count": 20,
      "outputs": [
        {
          "output_type": "execute_result",
          "data": {
            "text/plain": [
              "0    Mala\n",
              "1    Mala\n",
              "2    Mala\n",
              "3    Mala\n",
              "4    Mala\n",
              "Name: host_acceptance_rate, dtype: category\n",
              "Categories (2, object): ['Buena' < 'Mala']"
            ],
            "text/html": [
              "<div>\n",
              "<style scoped>\n",
              "    .dataframe tbody tr th:only-of-type {\n",
              "        vertical-align: middle;\n",
              "    }\n",
              "\n",
              "    .dataframe tbody tr th {\n",
              "        vertical-align: top;\n",
              "    }\n",
              "\n",
              "    .dataframe thead th {\n",
              "        text-align: right;\n",
              "    }\n",
              "</style>\n",
              "<table border=\"1\" class=\"dataframe\">\n",
              "  <thead>\n",
              "    <tr style=\"text-align: right;\">\n",
              "      <th></th>\n",
              "      <th>host_acceptance_rate</th>\n",
              "    </tr>\n",
              "  </thead>\n",
              "  <tbody>\n",
              "    <tr>\n",
              "      <th>0</th>\n",
              "      <td>Mala</td>\n",
              "    </tr>\n",
              "    <tr>\n",
              "      <th>1</th>\n",
              "      <td>Mala</td>\n",
              "    </tr>\n",
              "    <tr>\n",
              "      <th>2</th>\n",
              "      <td>Mala</td>\n",
              "    </tr>\n",
              "    <tr>\n",
              "      <th>3</th>\n",
              "      <td>Mala</td>\n",
              "    </tr>\n",
              "    <tr>\n",
              "      <th>4</th>\n",
              "      <td>Mala</td>\n",
              "    </tr>\n",
              "  </tbody>\n",
              "</table>\n",
              "</div><br><label><b>dtype:</b> category</label>"
            ]
          },
          "metadata": {},
          "execution_count": 20
        }
      ]
    },
    {
      "cell_type": "code",
      "source": [
        "City['host_acceptance_rate'].isnull().sum()"
      ],
      "metadata": {
        "colab": {
          "base_uri": "https://localhost:8080/"
        },
        "id": "pIgWcTzMhPP9",
        "outputId": "192a8946-5998-4f99-c7a1-a602cf45b47b"
      },
      "execution_count": 21,
      "outputs": [
        {
          "output_type": "execute_result",
          "data": {
            "text/plain": [
              "0"
            ]
          },
          "metadata": {},
          "execution_count": 21
        }
      ]
    },
    {
      "cell_type": "markdown",
      "source": [
        "### **Strungens** host_total_listings_count"
      ],
      "metadata": {
        "id": "MPn42pwwiNeC"
      }
    },
    {
      "cell_type": "code",
      "source": [
        "x='host_total_listings_count'\n",
        "#Calculamos el numero total de la poblacion \"n\"\n",
        "City[x].info()\n",
        "n_1=len(City)\n",
        "#Obtenemos el limite superior y el limite inferior de la colmna objetivo\n",
        "Max_1_1=City[x].max()\n",
        "Min_2_1=City[x].min()\n",
        "Limites= [Min_2_1, Max_1_1]\n",
        "#Calculamos el Rango R\n",
        "R_2_2=Max_1_1-Min_2_1\n",
        "#Calculamos el numero de intervalos de clase \"ni\", aplicando la regla de Sturges\n",
        "ni_1= 1+3.32*np.log10(Max_1_1)\n",
        "#Calculamos el Ancho del Intervalo \"i\"\n",
        "i=R_2_2/ni_1"
      ],
      "metadata": {
        "colab": {
          "base_uri": "https://localhost:8080/"
        },
        "id": "zeg955xIiiv4",
        "outputId": "702e66b5-9a95-4b62-8404-176fa5d6da49"
      },
      "execution_count": 22,
      "outputs": [
        {
          "output_type": "stream",
          "name": "stdout",
          "text": [
            "<class 'pandas.core.series.Series'>\n",
            "RangeIndex: 26536 entries, 0 to 26535\n",
            "Series name: host_total_listings_count\n",
            "Non-Null Count  Dtype  \n",
            "--------------  -----  \n",
            "26536 non-null  float64\n",
            "dtypes: float64(1)\n",
            "memory usage: 207.4 KB\n"
          ]
        }
      ]
    },
    {
      "cell_type": "code",
      "source": [
        "Limites"
      ],
      "metadata": {
        "colab": {
          "base_uri": "https://localhost:8080/"
        },
        "id": "t6uEqxVDi2hZ",
        "outputId": "0ffa4afe-ec52-441e-c328-57269fb111c2"
      },
      "execution_count": 23,
      "outputs": [
        {
          "output_type": "execute_result",
          "data": {
            "text/plain": [
              "[1.0, 39.0]"
            ]
          },
          "metadata": {},
          "execution_count": 23
        }
      ]
    },
    {
      "cell_type": "code",
      "source": [
        "#Categorización de variables\n",
        "intervalos=np.linspace(-0.0000000001,Max_1_1,round(ni_1+2))\n",
        "len(intervalos)"
      ],
      "metadata": {
        "colab": {
          "base_uri": "https://localhost:8080/"
        },
        "id": "tM8SVCNxi66K",
        "outputId": "a8217c5c-8b4e-4ad4-9728-da07f197721f"
      },
      "execution_count": 24,
      "outputs": [
        {
          "output_type": "execute_result",
          "data": {
            "text/plain": [
              "8"
            ]
          },
          "metadata": {},
          "execution_count": 24
        }
      ]
    },
    {
      "cell_type": "code",
      "source": [
        "#Creamos las categorias\n",
        "categorias = [\n",
        "    'Disponible', 'Poco disponible', 'Abundante', 'Escaso',\n",
        "    'Frecuente', 'Raro','Available'\n",
        "]"
      ],
      "metadata": {
        "id": "QqOhm6qsi8sL"
      },
      "execution_count": 25,
      "outputs": []
    },
    {
      "cell_type": "code",
      "source": [
        "City[x]=pd.cut(x=City[x],bins=intervalos,labels=categorias)\n",
        "City[x].isnull().sum()"
      ],
      "metadata": {
        "colab": {
          "base_uri": "https://localhost:8080/"
        },
        "id": "R74z59RYi-q8",
        "outputId": "b098a244-2902-42b6-a65d-1867922c5d85"
      },
      "execution_count": 26,
      "outputs": [
        {
          "output_type": "execute_result",
          "data": {
            "text/plain": [
              "0"
            ]
          },
          "metadata": {},
          "execution_count": 26
        }
      ]
    },
    {
      "cell_type": "markdown",
      "source": [
        "### **Strungens** accommodates"
      ],
      "metadata": {
        "id": "Bg4Nj5mSeJNM"
      }
    },
    {
      "cell_type": "code",
      "source": [
        "x='accommodates'\n",
        "#Calculamos el numero total de la poblacion \"n\"\n",
        "City[x].info()\n",
        "n_1=len(City)\n",
        "#Obtenemos el limite superior y el limite inferior de la colmna objetivo\n",
        "Max_1_1=City[x].max()\n",
        "Min_2_1=City[x].min()\n",
        "Limites= [Min_2_1, Max_1_1]\n",
        "#Calculamos el Rango R\n",
        "R_2_2=Max_1_1-Min_2_1\n",
        "#Calculamos el numero de intervalos de clase \"ni\", aplicando la regla de Sturges\n",
        "ni_1= 1+3.32*np.log10(Max_1_1)\n",
        "#Calculamos el Ancho del Intervalo \"i\"\n",
        "i=R_2_2/ni_1"
      ],
      "metadata": {
        "colab": {
          "base_uri": "https://localhost:8080/"
        },
        "id": "MqDq2B4Tja1W",
        "outputId": "68b77f6f-05d9-4121-9fca-0216b31f7da0"
      },
      "execution_count": 27,
      "outputs": [
        {
          "output_type": "stream",
          "name": "stdout",
          "text": [
            "<class 'pandas.core.series.Series'>\n",
            "RangeIndex: 26536 entries, 0 to 26535\n",
            "Series name: accommodates\n",
            "Non-Null Count  Dtype  \n",
            "--------------  -----  \n",
            "26536 non-null  float64\n",
            "dtypes: float64(1)\n",
            "memory usage: 207.4 KB\n"
          ]
        }
      ]
    },
    {
      "cell_type": "code",
      "source": [
        "Limites"
      ],
      "metadata": {
        "colab": {
          "base_uri": "https://localhost:8080/"
        },
        "id": "NnvsUKzxjd24",
        "outputId": "a7e870ff-4655-4691-eb8c-2dbb897d59bd"
      },
      "execution_count": 28,
      "outputs": [
        {
          "output_type": "execute_result",
          "data": {
            "text/plain": [
              "[1.0, 7.0]"
            ]
          },
          "metadata": {},
          "execution_count": 28
        }
      ]
    },
    {
      "cell_type": "code",
      "source": [
        "#Categorización de variables\n",
        "intervalos=np.linspace(-0.0000000001,Max_1_1,round(ni_1+2))\n",
        "len(intervalos)"
      ],
      "metadata": {
        "colab": {
          "base_uri": "https://localhost:8080/"
        },
        "id": "lDRVDbPKjfv-",
        "outputId": "effb8061-e387-4061-b686-ed4c3281d38c"
      },
      "execution_count": 29,
      "outputs": [
        {
          "output_type": "execute_result",
          "data": {
            "text/plain": [
              "6"
            ]
          },
          "metadata": {},
          "execution_count": 29
        }
      ]
    },
    {
      "cell_type": "code",
      "source": [
        "#Creamos las categorias\n",
        "categorias = [\n",
        "    'Disponible', 'Poco disponible', 'Abundante', 'Escaso',\n",
        "    'Frecuente'\n",
        "]"
      ],
      "metadata": {
        "id": "UX-UT3OojhTv"
      },
      "execution_count": 30,
      "outputs": []
    },
    {
      "cell_type": "code",
      "source": [
        "City[x]=pd.cut(x=City[x],bins=intervalos,labels=categorias)\n",
        "City[x].isnull().sum()"
      ],
      "metadata": {
        "colab": {
          "base_uri": "https://localhost:8080/"
        },
        "id": "dyrOYIfDjir9",
        "outputId": "d7ac074f-e84e-4de7-f3ef-af21993b3258"
      },
      "execution_count": 31,
      "outputs": [
        {
          "output_type": "execute_result",
          "data": {
            "text/plain": [
              "0"
            ]
          },
          "metadata": {},
          "execution_count": 31
        }
      ]
    },
    {
      "cell_type": "markdown",
      "source": [
        "### **Strungens** bathrooms"
      ],
      "metadata": {
        "id": "oP8QfahWeSZT"
      }
    },
    {
      "cell_type": "code",
      "source": [
        "x='bathrooms'\n",
        "#Calculamos el numero total de la poblacion \"n\"\n",
        "City[x].info()\n",
        "n_1=len(City)\n",
        "#Obtenemos el limite superior y el limite inferior de la colmna objetivo\n",
        "Max_1_1=City[x].max()\n",
        "Min_2_1=City[x].min()\n",
        "Limites= [Min_2_1, Max_1_1]\n",
        "#Calculamos el Rango R\n",
        "R_2_2=Max_1_1-Min_2_1\n",
        "#Calculamos el numero de intervalos de clase \"ni\", aplicando la regla de Sturges\n",
        "ni_1= 1+3.32*np.log10(Max_1_1)\n",
        "#Calculamos el Ancho del Intervalo \"i\"\n",
        "i=R_2_2/ni_1"
      ],
      "metadata": {
        "colab": {
          "base_uri": "https://localhost:8080/"
        },
        "id": "cSdW909jjsAr",
        "outputId": "ca27051c-cd58-46a9-e02a-259c01d1b17c"
      },
      "execution_count": 32,
      "outputs": [
        {
          "output_type": "stream",
          "name": "stdout",
          "text": [
            "<class 'pandas.core.series.Series'>\n",
            "RangeIndex: 26536 entries, 0 to 26535\n",
            "Series name: bathrooms\n",
            "Non-Null Count  Dtype  \n",
            "--------------  -----  \n",
            "26536 non-null  float64\n",
            "dtypes: float64(1)\n",
            "memory usage: 207.4 KB\n"
          ]
        }
      ]
    },
    {
      "cell_type": "code",
      "source": [
        "Limites"
      ],
      "metadata": {
        "colab": {
          "base_uri": "https://localhost:8080/"
        },
        "id": "UDnJn5zjkHPB",
        "outputId": "6a116b2d-cfa6-4721-b806-d05e59a6237f"
      },
      "execution_count": 33,
      "outputs": [
        {
          "output_type": "execute_result",
          "data": {
            "text/plain": [
              "[0.0, 3.5]"
            ]
          },
          "metadata": {},
          "execution_count": 33
        }
      ]
    },
    {
      "cell_type": "code",
      "source": [
        "#Categorización de variables\n",
        "intervalos=np.linspace(-0.0000000001,Max_1_1,round(ni_1+2))\n",
        "len(intervalos)"
      ],
      "metadata": {
        "colab": {
          "base_uri": "https://localhost:8080/"
        },
        "id": "vr4DqDgfkKfC",
        "outputId": "b6a66683-5e8e-487b-b797-e46282ac98d8"
      },
      "execution_count": 34,
      "outputs": [
        {
          "output_type": "execute_result",
          "data": {
            "text/plain": [
              "5"
            ]
          },
          "metadata": {},
          "execution_count": 34
        }
      ]
    },
    {
      "cell_type": "code",
      "source": [
        "#Creamos las categorias\n",
        "categorias = [\n",
        "    'Disponible', 'Poco disponible', 'Abundante', 'Escaso',\n",
        "]"
      ],
      "metadata": {
        "id": "giZgZCZUkLuM"
      },
      "execution_count": 35,
      "outputs": []
    },
    {
      "cell_type": "code",
      "source": [
        "City[x]=pd.cut(x=City[x],bins=intervalos,labels=categorias)\n",
        "City[x].isnull().sum()"
      ],
      "metadata": {
        "colab": {
          "base_uri": "https://localhost:8080/"
        },
        "id": "8QLBSqrwkNNJ",
        "outputId": "e8ea9ee4-9067-4326-c1eb-8fd55a735c3f"
      },
      "execution_count": 36,
      "outputs": [
        {
          "output_type": "execute_result",
          "data": {
            "text/plain": [
              "0"
            ]
          },
          "metadata": {},
          "execution_count": 36
        }
      ]
    },
    {
      "cell_type": "markdown",
      "source": [
        "### **Strungens** beds"
      ],
      "metadata": {
        "id": "QLGod65JeVB0"
      }
    },
    {
      "cell_type": "code",
      "source": [
        "x='beds'\n",
        "#Calculamos el numero total de la poblacion \"n\"\n",
        "City[x].info()\n",
        "n_1=len(City)\n",
        "#Obtenemos el limite superior y el limite inferior de la colmna objetivo\n",
        "Max_1_1=City[x].max()\n",
        "Min_2_1=City[x].min()\n",
        "Limites= [Min_2_1, Max_1_1]\n",
        "#Calculamos el Rango R\n",
        "R_2_2=Max_1_1-Min_2_1\n",
        "#Calculamos el numero de intervalos de clase \"ni\", aplicando la regla de Sturges\n",
        "ni_1= 1+3.32*np.log10(Max_1_1)\n",
        "#Calculamos el Ancho del Intervalo \"i\"\n",
        "i=R_2_2/ni_1"
      ],
      "metadata": {
        "colab": {
          "base_uri": "https://localhost:8080/"
        },
        "id": "3SsakwdLkaOk",
        "outputId": "76746a77-603f-49c7-bc7a-07c107752297"
      },
      "execution_count": 37,
      "outputs": [
        {
          "output_type": "stream",
          "name": "stdout",
          "text": [
            "<class 'pandas.core.series.Series'>\n",
            "RangeIndex: 26536 entries, 0 to 26535\n",
            "Series name: beds\n",
            "Non-Null Count  Dtype  \n",
            "--------------  -----  \n",
            "26536 non-null  float64\n",
            "dtypes: float64(1)\n",
            "memory usage: 207.4 KB\n"
          ]
        }
      ]
    },
    {
      "cell_type": "code",
      "source": [
        "Limites"
      ],
      "metadata": {
        "colab": {
          "base_uri": "https://localhost:8080/"
        },
        "id": "wusSboxmkaEh",
        "outputId": "59e498b9-f1fd-4192-c8ff-61b740471188"
      },
      "execution_count": 38,
      "outputs": [
        {
          "output_type": "execute_result",
          "data": {
            "text/plain": [
              "[0.0, 3.0]"
            ]
          },
          "metadata": {},
          "execution_count": 38
        }
      ]
    },
    {
      "cell_type": "code",
      "source": [
        "#Categorización de variables\n",
        "intervalos=np.linspace(-0.0000000001,Max_1_1,round(ni_1+2))\n",
        "len(intervalos)"
      ],
      "metadata": {
        "colab": {
          "base_uri": "https://localhost:8080/"
        },
        "id": "lYJd2ti-kZ2w",
        "outputId": "df8c3151-91c4-4f2e-d951-6205574076f8"
      },
      "execution_count": 39,
      "outputs": [
        {
          "output_type": "execute_result",
          "data": {
            "text/plain": [
              "5"
            ]
          },
          "metadata": {},
          "execution_count": 39
        }
      ]
    },
    {
      "cell_type": "code",
      "source": [
        "#Creamos las categorias\n",
        "categorias = [\n",
        "    'Disponible', 'Poco disponible', 'Abundante', 'Escaso'\n",
        "]"
      ],
      "metadata": {
        "id": "KKg1EQDqkZqY"
      },
      "execution_count": 42,
      "outputs": []
    },
    {
      "cell_type": "code",
      "source": [
        "City[x]=pd.cut(x=City[x],bins=intervalos,labels=categorias)\n",
        "City[x].isnull().sum()"
      ],
      "metadata": {
        "colab": {
          "base_uri": "https://localhost:8080/"
        },
        "id": "3OzDMLLekZhC",
        "outputId": "6295ebf5-5f08-4177-d51e-a2082796a349"
      },
      "execution_count": 43,
      "outputs": [
        {
          "output_type": "execute_result",
          "data": {
            "text/plain": [
              "0"
            ]
          },
          "metadata": {},
          "execution_count": 43
        }
      ]
    },
    {
      "cell_type": "markdown",
      "source": [
        "#Cambiar la variable de pesos mexicanos (mxn) a dolares USD"
      ],
      "metadata": {
        "id": "4BGmz4d21D7I"
      }
    },
    {
      "cell_type": "markdown",
      "source": [
        "### **Strungens** price"
      ],
      "metadata": {
        "id": "BmFnByYQeZHx"
      }
    },
    {
      "cell_type": "code",
      "source": [
        "#Modificar el valor de la moneda local para conversión a dls USA\n",
        "City['price']=City['price']*0.051"
      ],
      "metadata": {
        "id": "O5naH7FA2SN-"
      },
      "execution_count": 50,
      "outputs": []
    },
    {
      "cell_type": "code",
      "source": [
        "City['price'].head()"
      ],
      "metadata": {
        "colab": {
          "base_uri": "https://localhost:8080/",
          "height": 241
        },
        "id": "iABcyv-f2Lj9",
        "outputId": "dcda3663-2fa5-45d7-f731-fd0b8e83bc30"
      },
      "execution_count": 51,
      "outputs": [
        {
          "output_type": "execute_result",
          "data": {
            "text/plain": [
              "0    84.2520\n",
              "1    55.4268\n",
              "2    55.4268\n",
              "3    41.5140\n",
              "4    98.0730\n",
              "Name: price, dtype: float64"
            ],
            "text/html": [
              "<div>\n",
              "<style scoped>\n",
              "    .dataframe tbody tr th:only-of-type {\n",
              "        vertical-align: middle;\n",
              "    }\n",
              "\n",
              "    .dataframe tbody tr th {\n",
              "        vertical-align: top;\n",
              "    }\n",
              "\n",
              "    .dataframe thead th {\n",
              "        text-align: right;\n",
              "    }\n",
              "</style>\n",
              "<table border=\"1\" class=\"dataframe\">\n",
              "  <thead>\n",
              "    <tr style=\"text-align: right;\">\n",
              "      <th></th>\n",
              "      <th>price</th>\n",
              "    </tr>\n",
              "  </thead>\n",
              "  <tbody>\n",
              "    <tr>\n",
              "      <th>0</th>\n",
              "      <td>84.2520</td>\n",
              "    </tr>\n",
              "    <tr>\n",
              "      <th>1</th>\n",
              "      <td>55.4268</td>\n",
              "    </tr>\n",
              "    <tr>\n",
              "      <th>2</th>\n",
              "      <td>55.4268</td>\n",
              "    </tr>\n",
              "    <tr>\n",
              "      <th>3</th>\n",
              "      <td>41.5140</td>\n",
              "    </tr>\n",
              "    <tr>\n",
              "      <th>4</th>\n",
              "      <td>98.0730</td>\n",
              "    </tr>\n",
              "  </tbody>\n",
              "</table>\n",
              "</div><br><label><b>dtype:</b> float64</label>"
            ]
          },
          "metadata": {},
          "execution_count": 51
        }
      ]
    },
    {
      "cell_type": "code",
      "source": [
        "x='price'\n",
        "#Calculamos el numero total de la poblacion \"n\"\n",
        "City[x].info()\n",
        "n_1=len(City)\n",
        "#Obtenemos el limite superior y el limite inferior de la colmna objetivo\n",
        "Max_1_1=City[x].max()\n",
        "Min_2_1=City[x].min()\n",
        "Limites= [Min_2_1, Max_1_1]\n",
        "#Calculamos el Rango R\n",
        "R_2_2=Max_1_1-Min_2_1\n",
        "#Calculamos el numero de intervalos de clase \"ni\", aplicando la regla de Sturges\n",
        "ni_1= 1+3.32*np.log10(Max_1_1)\n",
        "#Calculamos el Ancho del Intervalo \"i\"\n",
        "i=R_2_2/ni_1"
      ],
      "metadata": {
        "colab": {
          "base_uri": "https://localhost:8080/"
        },
        "id": "WAHZoAVKmY6W",
        "outputId": "570fc8ee-c75c-4945-afb8-1ec8d9bf7493"
      },
      "execution_count": 52,
      "outputs": [
        {
          "output_type": "stream",
          "name": "stdout",
          "text": [
            "<class 'pandas.core.series.Series'>\n",
            "RangeIndex: 26536 entries, 0 to 26535\n",
            "Series name: price\n",
            "Non-Null Count  Dtype  \n",
            "--------------  -----  \n",
            "26536 non-null  float64\n",
            "dtypes: float64(1)\n",
            "memory usage: 207.4 KB\n"
          ]
        }
      ]
    },
    {
      "cell_type": "code",
      "source": [
        "Limites"
      ],
      "metadata": {
        "colab": {
          "base_uri": "https://localhost:8080/"
        },
        "id": "-tUplqf8mlLb",
        "outputId": "3029b7b5-3f63-4fbf-84eb-5a9df94a0d62"
      },
      "execution_count": 53,
      "outputs": [
        {
          "output_type": "execute_result",
          "data": {
            "text/plain": [
              "[5.3549999999999995, 138.363]"
            ]
          },
          "metadata": {},
          "execution_count": 53
        }
      ]
    },
    {
      "cell_type": "code",
      "source": [
        "#Categorización de variables\n",
        "intervalos=np.linspace(-1,Max_1_1,round(ni_1+2))\n",
        "print(len(intervalos))\n",
        "print(intervalos)"
      ],
      "metadata": {
        "colab": {
          "base_uri": "https://localhost:8080/"
        },
        "id": "1HrV1xmmmmwJ",
        "outputId": "beaf5d72-21d3-4045-c48b-04c416dfdeef"
      },
      "execution_count": 54,
      "outputs": [
        {
          "output_type": "stream",
          "name": "stdout",
          "text": [
            "10\n",
            "[ -1.          14.48477778  29.96955556  45.45433333  60.93911111\n",
            "  76.42388889  91.90866667 107.39344444 122.87822222 138.363     ]\n"
          ]
        }
      ]
    },
    {
      "cell_type": "code",
      "source": [
        "#Creamos las categorias\n",
        "categorias = [\n",
        "    '0-14', '14-29', '29-45', '45-60', '60-76','76-91','91-107','107-122','122-138'\n",
        "]"
      ],
      "metadata": {
        "id": "GQtG56m1mzSl"
      },
      "execution_count": 55,
      "outputs": []
    },
    {
      "cell_type": "code",
      "source": [
        "City[x]=pd.cut(x=City[x],bins=intervalos,labels=categorias)\n",
        "City[x].isnull().sum()"
      ],
      "metadata": {
        "colab": {
          "base_uri": "https://localhost:8080/"
        },
        "id": "7e849Z4nrjd6",
        "outputId": "73594816-b4d5-49b4-a8e2-353422ca36ed"
      },
      "execution_count": 56,
      "outputs": [
        {
          "output_type": "execute_result",
          "data": {
            "text/plain": [
              "0"
            ]
          },
          "metadata": {},
          "execution_count": 56
        }
      ]
    },
    {
      "cell_type": "markdown",
      "source": [
        "### **Strungens** Availability 60"
      ],
      "metadata": {
        "id": "Ql5ReVfK_JsN"
      }
    },
    {
      "cell_type": "code",
      "source": [
        "#Calculamos el numero total de la poblacion \"n\"\n",
        "City['availability_60'].astype(np.float64).info()\n",
        "n_1=len(City)"
      ],
      "metadata": {
        "colab": {
          "base_uri": "https://localhost:8080/"
        },
        "id": "qj20ygd--4cL",
        "outputId": "797d3bb3-2d4d-4813-dde3-d6af84695b34"
      },
      "execution_count": 57,
      "outputs": [
        {
          "output_type": "stream",
          "name": "stdout",
          "text": [
            "<class 'pandas.core.series.Series'>\n",
            "RangeIndex: 26536 entries, 0 to 26535\n",
            "Series name: availability_60\n",
            "Non-Null Count  Dtype  \n",
            "--------------  -----  \n",
            "26536 non-null  float64\n",
            "dtypes: float64(1)\n",
            "memory usage: 207.4 KB\n"
          ]
        }
      ]
    },
    {
      "cell_type": "code",
      "source": [
        "#Obtenemos el limite superior y el limite inferior de la colmna objetivo\n",
        "Max_1=City['availability_60'].max()\n",
        "Min_1=City['availability_60'].min()\n",
        "Limites= [Min_1, Max_1]\n",
        "Limites"
      ],
      "metadata": {
        "colab": {
          "base_uri": "https://localhost:8080/"
        },
        "id": "RSDh402H_ehL",
        "outputId": "7c6ae5ca-636b-4b26-8cf7-50015add9662"
      },
      "execution_count": 58,
      "outputs": [
        {
          "output_type": "execute_result",
          "data": {
            "text/plain": [
              "[0, 60]"
            ]
          },
          "metadata": {},
          "execution_count": 58
        }
      ]
    },
    {
      "cell_type": "code",
      "source": [
        "#Calculamos el Rango R\n",
        "R=Max_1-Min_1\n",
        "R"
      ],
      "metadata": {
        "colab": {
          "base_uri": "https://localhost:8080/"
        },
        "id": "b_NI7IDP_5Jq",
        "outputId": "76d83b57-528d-4bd3-e706-813212fa67ba"
      },
      "execution_count": 59,
      "outputs": [
        {
          "output_type": "execute_result",
          "data": {
            "text/plain": [
              "60"
            ]
          },
          "metadata": {},
          "execution_count": 59
        }
      ]
    },
    {
      "cell_type": "code",
      "source": [
        "#Calculamos el numero de intervalos de clase \"ni\", aplicando la regla de Sturges\n",
        "ni_1= 1+3.32*np.log10(Max_1)\n",
        "ni_1"
      ],
      "metadata": {
        "colab": {
          "base_uri": "https://localhost:8080/"
        },
        "id": "hqYZ8X-DABBD",
        "outputId": "da7e9bb0-27d8-41bc-854c-481717ab983e"
      },
      "execution_count": 60,
      "outputs": [
        {
          "output_type": "execute_result",
          "data": {
            "text/plain": [
              "6.903462151273697"
            ]
          },
          "metadata": {},
          "execution_count": 60
        }
      ]
    },
    {
      "cell_type": "code",
      "source": [
        "#Calculamos el Ancho del Intervalo \"i\"\n",
        "i=R/ni_1\n",
        "i"
      ],
      "metadata": {
        "colab": {
          "base_uri": "https://localhost:8080/"
        },
        "id": "JM4tsC0XAGEv",
        "outputId": "f0eeb1c7-98ff-4be3-d836-fd294b70c0a2"
      },
      "execution_count": 61,
      "outputs": [
        {
          "output_type": "execute_result",
          "data": {
            "text/plain": [
              "8.691291222467255"
            ]
          },
          "metadata": {},
          "execution_count": 61
        }
      ]
    },
    {
      "cell_type": "code",
      "source": [
        "#Categorización de variables\n",
        "intervalos=np.linspace(-0.0000000001,Max_1,round(ni_1+1))\n",
        "intervalos"
      ],
      "metadata": {
        "colab": {
          "base_uri": "https://localhost:8080/"
        },
        "id": "fH4xK7yIAQDC",
        "outputId": "68416e75-fa91-4e55-b081-9a92e5855fc8"
      },
      "execution_count": 62,
      "outputs": [
        {
          "output_type": "execute_result",
          "data": {
            "text/plain": [
              "array([-1.00000000e-10,  8.57142857e+00,  1.71428571e+01,  2.57142857e+01,\n",
              "        3.42857143e+01,  4.28571429e+01,  5.14285714e+01,  6.00000000e+01])"
            ]
          },
          "metadata": {},
          "execution_count": 62
        }
      ]
    },
    {
      "cell_type": "code",
      "source": [
        "#Creamos las categorias\n",
        "categorias = [\n",
        "    'Disponible', 'Poco disponible', 'Abundante', 'Escaso',\n",
        "    'Frecuente', 'Raro','Comun'\n",
        "]\n",
        "\n"
      ],
      "metadata": {
        "id": "VBOsPs-5AnM-"
      },
      "execution_count": 63,
      "outputs": []
    },
    {
      "cell_type": "code",
      "source": [
        "#Finalmente creamos las categorias en la columna numerica\n",
        "City['availability_60']=pd.cut(x=City['availability_60'],bins=intervalos,labels=categorias)\n",
        "City['availability_60'].head()"
      ],
      "metadata": {
        "colab": {
          "base_uri": "https://localhost:8080/",
          "height": 241
        },
        "collapsed": true,
        "id": "PKxfxLaeA0oa",
        "outputId": "c9b6c902-2f36-4bba-dbdc-247a01666112"
      },
      "execution_count": 64,
      "outputs": [
        {
          "output_type": "execute_result",
          "data": {
            "text/plain": [
              "0    Disponible\n",
              "1         Comun\n",
              "2         Comun\n",
              "3     Abundante\n",
              "4         Comun\n",
              "Name: availability_60, dtype: category\n",
              "Categories (7, object): ['Disponible' < 'Poco disponible' < 'Abundante' < 'Escaso' < 'Frecuente' < 'Raro' <\n",
              "                         'Comun']"
            ],
            "text/html": [
              "<div>\n",
              "<style scoped>\n",
              "    .dataframe tbody tr th:only-of-type {\n",
              "        vertical-align: middle;\n",
              "    }\n",
              "\n",
              "    .dataframe tbody tr th {\n",
              "        vertical-align: top;\n",
              "    }\n",
              "\n",
              "    .dataframe thead th {\n",
              "        text-align: right;\n",
              "    }\n",
              "</style>\n",
              "<table border=\"1\" class=\"dataframe\">\n",
              "  <thead>\n",
              "    <tr style=\"text-align: right;\">\n",
              "      <th></th>\n",
              "      <th>availability_60</th>\n",
              "    </tr>\n",
              "  </thead>\n",
              "  <tbody>\n",
              "    <tr>\n",
              "      <th>0</th>\n",
              "      <td>Disponible</td>\n",
              "    </tr>\n",
              "    <tr>\n",
              "      <th>1</th>\n",
              "      <td>Comun</td>\n",
              "    </tr>\n",
              "    <tr>\n",
              "      <th>2</th>\n",
              "      <td>Comun</td>\n",
              "    </tr>\n",
              "    <tr>\n",
              "      <th>3</th>\n",
              "      <td>Abundante</td>\n",
              "    </tr>\n",
              "    <tr>\n",
              "      <th>4</th>\n",
              "      <td>Comun</td>\n",
              "    </tr>\n",
              "  </tbody>\n",
              "</table>\n",
              "</div><br><label><b>dtype:</b> category</label>"
            ]
          },
          "metadata": {},
          "execution_count": 64
        }
      ]
    },
    {
      "cell_type": "code",
      "source": [
        "City['availability_60'].isnull().sum()"
      ],
      "metadata": {
        "colab": {
          "base_uri": "https://localhost:8080/"
        },
        "id": "zozUKxd6IqgH",
        "outputId": "129609d9-de3f-4248-f060-4555bb8226e7"
      },
      "execution_count": 65,
      "outputs": [
        {
          "output_type": "execute_result",
          "data": {
            "text/plain": [
              "0"
            ]
          },
          "metadata": {},
          "execution_count": 65
        }
      ]
    },
    {
      "cell_type": "markdown",
      "source": [
        "### **Strungens** Availability 90"
      ],
      "metadata": {
        "id": "t1jad--oD6tr"
      }
    },
    {
      "cell_type": "code",
      "source": [
        "#Calculamos el numero total de la poblacion \"n\"\n",
        "City['availability_90'].info()\n",
        "n_1=len(City)"
      ],
      "metadata": {
        "colab": {
          "base_uri": "https://localhost:8080/"
        },
        "id": "EviIr5GOEPPw",
        "outputId": "06f44eb9-ae85-4f16-da1c-1acb69192452"
      },
      "execution_count": 66,
      "outputs": [
        {
          "output_type": "stream",
          "name": "stdout",
          "text": [
            "<class 'pandas.core.series.Series'>\n",
            "RangeIndex: 26536 entries, 0 to 26535\n",
            "Series name: availability_90\n",
            "Non-Null Count  Dtype\n",
            "--------------  -----\n",
            "26536 non-null  int64\n",
            "dtypes: int64(1)\n",
            "memory usage: 207.4 KB\n"
          ]
        }
      ]
    },
    {
      "cell_type": "code",
      "source": [
        "#Obtenemos el limite superior y el limite inferior de la colmna objetivo\n",
        "Max_2=City['availability_90'].max()\n",
        "Min_2=City['availability_90'].min()\n",
        "Limites= [Min_2, Max_2]\n",
        "Limites"
      ],
      "metadata": {
        "colab": {
          "base_uri": "https://localhost:8080/"
        },
        "id": "aSxzARIsETL0",
        "outputId": "d375acb6-89a3-4756-c20e-48317c84094d"
      },
      "execution_count": 67,
      "outputs": [
        {
          "output_type": "execute_result",
          "data": {
            "text/plain": [
              "[0, 90]"
            ]
          },
          "metadata": {},
          "execution_count": 67
        }
      ]
    },
    {
      "cell_type": "code",
      "source": [
        "#Calculamos el Rango R\n",
        "R_2=Max_2-Min_2\n",
        "R_2"
      ],
      "metadata": {
        "colab": {
          "base_uri": "https://localhost:8080/"
        },
        "id": "vs6V1jeoEZPi",
        "outputId": "b8446e2a-3be0-4304-a81c-0c58ea0cc5b2"
      },
      "execution_count": 68,
      "outputs": [
        {
          "output_type": "execute_result",
          "data": {
            "text/plain": [
              "90"
            ]
          },
          "metadata": {},
          "execution_count": 68
        }
      ]
    },
    {
      "cell_type": "code",
      "source": [
        "#Categorización de variables\n",
        "intervalos=np.linspace(-0.01,Max_2,round(ni_1+1))\n",
        "len(intervalos)"
      ],
      "metadata": {
        "colab": {
          "base_uri": "https://localhost:8080/"
        },
        "id": "uv6q2Ka2EcLQ",
        "outputId": "4323070f-ee0a-48bf-b1d1-cd32ff9daec2"
      },
      "execution_count": 69,
      "outputs": [
        {
          "output_type": "execute_result",
          "data": {
            "text/plain": [
              "8"
            ]
          },
          "metadata": {},
          "execution_count": 69
        }
      ]
    },
    {
      "cell_type": "code",
      "source": [
        "#Creamos las categorias\n",
        "categorias = [\n",
        "    'Disponible', 'Poco disponible', 'Abundante', 'Escaso',\n",
        "    'Frecuente', 'Raro', 'Común'\n",
        "]\n"
      ],
      "metadata": {
        "id": "5fe1MxyDElQ4"
      },
      "execution_count": 70,
      "outputs": []
    },
    {
      "cell_type": "code",
      "source": [
        "#Finalmente creamos las categorias en la columna numerica\n",
        "City['availability_90']=pd.cut(x=City['availability_90'],bins=intervalos,labels=categorias)\n",
        "City['availability_90']"
      ],
      "metadata": {
        "colab": {
          "base_uri": "https://localhost:8080/",
          "height": 458
        },
        "id": "gcn2O9c6EowU",
        "outputId": "59e66d15-4e77-4fe6-a0b7-f580d0bf5222"
      },
      "execution_count": 71,
      "outputs": [
        {
          "output_type": "execute_result",
          "data": {
            "text/plain": [
              "0        Poco disponible\n",
              "1                  Común\n",
              "2                  Común\n",
              "3              Abundante\n",
              "4                  Común\n",
              "              ...       \n",
              "26531              Común\n",
              "26532              Común\n",
              "26533              Común\n",
              "26534               Raro\n",
              "26535               Raro\n",
              "Name: availability_90, Length: 26536, dtype: category\n",
              "Categories (7, object): ['Disponible' < 'Poco disponible' < 'Abundante' < 'Escaso' < 'Frecuente' < 'Raro' <\n",
              "                         'Común']"
            ],
            "text/html": [
              "<div>\n",
              "<style scoped>\n",
              "    .dataframe tbody tr th:only-of-type {\n",
              "        vertical-align: middle;\n",
              "    }\n",
              "\n",
              "    .dataframe tbody tr th {\n",
              "        vertical-align: top;\n",
              "    }\n",
              "\n",
              "    .dataframe thead th {\n",
              "        text-align: right;\n",
              "    }\n",
              "</style>\n",
              "<table border=\"1\" class=\"dataframe\">\n",
              "  <thead>\n",
              "    <tr style=\"text-align: right;\">\n",
              "      <th></th>\n",
              "      <th>availability_90</th>\n",
              "    </tr>\n",
              "  </thead>\n",
              "  <tbody>\n",
              "    <tr>\n",
              "      <th>0</th>\n",
              "      <td>Poco disponible</td>\n",
              "    </tr>\n",
              "    <tr>\n",
              "      <th>1</th>\n",
              "      <td>Común</td>\n",
              "    </tr>\n",
              "    <tr>\n",
              "      <th>2</th>\n",
              "      <td>Común</td>\n",
              "    </tr>\n",
              "    <tr>\n",
              "      <th>3</th>\n",
              "      <td>Abundante</td>\n",
              "    </tr>\n",
              "    <tr>\n",
              "      <th>4</th>\n",
              "      <td>Común</td>\n",
              "    </tr>\n",
              "    <tr>\n",
              "      <th>...</th>\n",
              "      <td>...</td>\n",
              "    </tr>\n",
              "    <tr>\n",
              "      <th>26531</th>\n",
              "      <td>Común</td>\n",
              "    </tr>\n",
              "    <tr>\n",
              "      <th>26532</th>\n",
              "      <td>Común</td>\n",
              "    </tr>\n",
              "    <tr>\n",
              "      <th>26533</th>\n",
              "      <td>Común</td>\n",
              "    </tr>\n",
              "    <tr>\n",
              "      <th>26534</th>\n",
              "      <td>Raro</td>\n",
              "    </tr>\n",
              "    <tr>\n",
              "      <th>26535</th>\n",
              "      <td>Raro</td>\n",
              "    </tr>\n",
              "  </tbody>\n",
              "</table>\n",
              "<p>26536 rows × 1 columns</p>\n",
              "</div><br><label><b>dtype:</b> category</label>"
            ]
          },
          "metadata": {},
          "execution_count": 71
        }
      ]
    },
    {
      "cell_type": "code",
      "source": [
        "City['availability_90'].isnull().sum()"
      ],
      "metadata": {
        "colab": {
          "base_uri": "https://localhost:8080/"
        },
        "id": "HyLMHZakLzmT",
        "outputId": "e1bbb36c-3ca0-4b97-b7e0-cd1c4fe74a12"
      },
      "execution_count": 72,
      "outputs": [
        {
          "output_type": "execute_result",
          "data": {
            "text/plain": [
              "0"
            ]
          },
          "metadata": {},
          "execution_count": 72
        }
      ]
    },
    {
      "cell_type": "markdown",
      "source": [
        "### **Strungens** Availability 365"
      ],
      "metadata": {
        "id": "mWinoT0xEvyX"
      }
    },
    {
      "cell_type": "code",
      "source": [
        "#Calculamos el numero total de la poblacion \"n\"\n",
        "City['availability_365'].info()\n",
        "n_1=len(City)"
      ],
      "metadata": {
        "colab": {
          "base_uri": "https://localhost:8080/"
        },
        "id": "bspnkae3Ezuq",
        "outputId": "72877f1c-b520-42a1-ea51-cf16b1f466bd"
      },
      "execution_count": 73,
      "outputs": [
        {
          "output_type": "stream",
          "name": "stdout",
          "text": [
            "<class 'pandas.core.series.Series'>\n",
            "RangeIndex: 26536 entries, 0 to 26535\n",
            "Series name: availability_365\n",
            "Non-Null Count  Dtype\n",
            "--------------  -----\n",
            "26536 non-null  int64\n",
            "dtypes: int64(1)\n",
            "memory usage: 207.4 KB\n"
          ]
        }
      ]
    },
    {
      "cell_type": "code",
      "source": [
        "#Obtenemos el limite superior y el limite inferior de la colmna objetivo\n",
        "Max_3=City['availability_365'].max()\n",
        "Min_3=City['availability_365'].min()\n",
        "Limites= [Min_3, Max_3]\n",
        "Limites"
      ],
      "metadata": {
        "colab": {
          "base_uri": "https://localhost:8080/"
        },
        "id": "_MdYWb_gFA3x",
        "outputId": "107da540-1758-4438-8fbd-778826d545a0"
      },
      "execution_count": 74,
      "outputs": [
        {
          "output_type": "execute_result",
          "data": {
            "text/plain": [
              "[0, 365]"
            ]
          },
          "metadata": {},
          "execution_count": 74
        }
      ]
    },
    {
      "cell_type": "code",
      "source": [
        "#Calculamos el Rango R\n",
        "R_3=Max_3-Min_3\n",
        "R_3"
      ],
      "metadata": {
        "colab": {
          "base_uri": "https://localhost:8080/"
        },
        "id": "0d-b4qMDFJk8",
        "outputId": "69a4efb8-b357-49e6-aa64-a73415fc99f2"
      },
      "execution_count": 75,
      "outputs": [
        {
          "output_type": "execute_result",
          "data": {
            "text/plain": [
              "365"
            ]
          },
          "metadata": {},
          "execution_count": 75
        }
      ]
    },
    {
      "cell_type": "code",
      "source": [
        "#Categorización de variables\n",
        "intervalos=np.linspace(-0.01,Max_3,round(ni_1+1))\n",
        "intervalos"
      ],
      "metadata": {
        "colab": {
          "base_uri": "https://localhost:8080/"
        },
        "id": "Yd-2bqphFOoi",
        "outputId": "8b30da66-57a2-4fac-939c-72479dedd5b9"
      },
      "execution_count": 76,
      "outputs": [
        {
          "output_type": "execute_result",
          "data": {
            "text/plain": [
              "array([-1.00000000e-02,  5.21342857e+01,  1.04278571e+02,  1.56422857e+02,\n",
              "        2.08567143e+02,  2.60711429e+02,  3.12855714e+02,  3.65000000e+02])"
            ]
          },
          "metadata": {},
          "execution_count": 76
        }
      ]
    },
    {
      "cell_type": "code",
      "source": [
        "#Creamos las categorias\n",
        "categorias = [\n",
        "    'Disponible', 'Poco disponible', 'Abundante', 'Escaso',\n",
        "    'Frecuente', 'Raro', 'Común'\n",
        "]\n"
      ],
      "metadata": {
        "id": "_8CI9GzUFb6C"
      },
      "execution_count": 77,
      "outputs": []
    },
    {
      "cell_type": "code",
      "source": [
        "#Finalmente creamos las categorias en la columna numerica\n",
        "City['availability_365']=pd.cut(x=City['availability_365'],bins=intervalos,labels=categorias)\n",
        "City['availability_365']"
      ],
      "metadata": {
        "colab": {
          "base_uri": "https://localhost:8080/",
          "height": 458
        },
        "id": "1TF3nU8nFq-n",
        "outputId": "01d5cde1-86ce-425e-9389-92e49c27dfda"
      },
      "execution_count": 78,
      "outputs": [
        {
          "output_type": "execute_result",
          "data": {
            "text/plain": [
              "0             Raro\n",
              "1            Común\n",
              "2            Común\n",
              "3        Frecuente\n",
              "4            Común\n",
              "           ...    \n",
              "26531        Común\n",
              "26532        Común\n",
              "26533        Común\n",
              "26534    Frecuente\n",
              "26535        Común\n",
              "Name: availability_365, Length: 26536, dtype: category\n",
              "Categories (7, object): ['Disponible' < 'Poco disponible' < 'Abundante' < 'Escaso' < 'Frecuente' < 'Raro' <\n",
              "                         'Común']"
            ],
            "text/html": [
              "<div>\n",
              "<style scoped>\n",
              "    .dataframe tbody tr th:only-of-type {\n",
              "        vertical-align: middle;\n",
              "    }\n",
              "\n",
              "    .dataframe tbody tr th {\n",
              "        vertical-align: top;\n",
              "    }\n",
              "\n",
              "    .dataframe thead th {\n",
              "        text-align: right;\n",
              "    }\n",
              "</style>\n",
              "<table border=\"1\" class=\"dataframe\">\n",
              "  <thead>\n",
              "    <tr style=\"text-align: right;\">\n",
              "      <th></th>\n",
              "      <th>availability_365</th>\n",
              "    </tr>\n",
              "  </thead>\n",
              "  <tbody>\n",
              "    <tr>\n",
              "      <th>0</th>\n",
              "      <td>Raro</td>\n",
              "    </tr>\n",
              "    <tr>\n",
              "      <th>1</th>\n",
              "      <td>Común</td>\n",
              "    </tr>\n",
              "    <tr>\n",
              "      <th>2</th>\n",
              "      <td>Común</td>\n",
              "    </tr>\n",
              "    <tr>\n",
              "      <th>3</th>\n",
              "      <td>Frecuente</td>\n",
              "    </tr>\n",
              "    <tr>\n",
              "      <th>4</th>\n",
              "      <td>Común</td>\n",
              "    </tr>\n",
              "    <tr>\n",
              "      <th>...</th>\n",
              "      <td>...</td>\n",
              "    </tr>\n",
              "    <tr>\n",
              "      <th>26531</th>\n",
              "      <td>Común</td>\n",
              "    </tr>\n",
              "    <tr>\n",
              "      <th>26532</th>\n",
              "      <td>Común</td>\n",
              "    </tr>\n",
              "    <tr>\n",
              "      <th>26533</th>\n",
              "      <td>Común</td>\n",
              "    </tr>\n",
              "    <tr>\n",
              "      <th>26534</th>\n",
              "      <td>Frecuente</td>\n",
              "    </tr>\n",
              "    <tr>\n",
              "      <th>26535</th>\n",
              "      <td>Común</td>\n",
              "    </tr>\n",
              "  </tbody>\n",
              "</table>\n",
              "<p>26536 rows × 1 columns</p>\n",
              "</div><br><label><b>dtype:</b> category</label>"
            ]
          },
          "metadata": {},
          "execution_count": 78
        }
      ]
    },
    {
      "cell_type": "code",
      "source": [
        "City['availability_365'].isnull().sum()"
      ],
      "metadata": {
        "colab": {
          "base_uri": "https://localhost:8080/"
        },
        "id": "KTKwlLHxVWai",
        "outputId": "b3274f37-c2ce-4b30-ed51-039eb008daf0"
      },
      "execution_count": 79,
      "outputs": [
        {
          "output_type": "execute_result",
          "data": {
            "text/plain": [
              "0"
            ]
          },
          "metadata": {},
          "execution_count": 79
        }
      ]
    },
    {
      "cell_type": "markdown",
      "source": [
        "### **Strungens** number_of_reviews_ltm"
      ],
      "metadata": {
        "id": "t4jkAtgIFzV_"
      }
    },
    {
      "cell_type": "code",
      "source": [
        "#Calculamos el numero total de la poblacion \"n\"\n",
        "City['number_of_reviews_ltm'].info()\n",
        "n_1=len(City)"
      ],
      "metadata": {
        "colab": {
          "base_uri": "https://localhost:8080/"
        },
        "id": "1KGtMiNWFy0u",
        "outputId": "bf77a286-ca39-4dbf-eabb-dff0406207c5"
      },
      "execution_count": 80,
      "outputs": [
        {
          "output_type": "stream",
          "name": "stdout",
          "text": [
            "<class 'pandas.core.series.Series'>\n",
            "RangeIndex: 26536 entries, 0 to 26535\n",
            "Series name: number_of_reviews_ltm\n",
            "Non-Null Count  Dtype  \n",
            "--------------  -----  \n",
            "26536 non-null  float64\n",
            "dtypes: float64(1)\n",
            "memory usage: 207.4 KB\n"
          ]
        }
      ]
    },
    {
      "cell_type": "code",
      "source": [
        "#Obtenemos el limite superior y el limite inferior de la colmna objetivo\n",
        "Max_4=City['number_of_reviews_ltm'].max()\n",
        "Min_4=City['number_of_reviews_ltm'].min()\n",
        "Limites= [Min_4, Max_4]\n",
        "Limites"
      ],
      "metadata": {
        "colab": {
          "base_uri": "https://localhost:8080/"
        },
        "id": "rwjTnyyPGGKL",
        "outputId": "8db30f72-e163-48a6-a3df-b9aa9b3db689"
      },
      "execution_count": 81,
      "outputs": [
        {
          "output_type": "execute_result",
          "data": {
            "text/plain": [
              "[0.0, 50.0]"
            ]
          },
          "metadata": {},
          "execution_count": 81
        }
      ]
    },
    {
      "cell_type": "code",
      "source": [
        "#Calculamos el Rango R\n",
        "R_4=Max_4-Min_4\n",
        "R_4"
      ],
      "metadata": {
        "colab": {
          "base_uri": "https://localhost:8080/"
        },
        "id": "S__BUnqDGNSs",
        "outputId": "7ab0585a-5fd6-45be-ee12-fba17a1e121e"
      },
      "execution_count": 82,
      "outputs": [
        {
          "output_type": "execute_result",
          "data": {
            "text/plain": [
              "50.0"
            ]
          },
          "metadata": {},
          "execution_count": 82
        }
      ]
    },
    {
      "cell_type": "code",
      "source": [
        "#Categorización de variables\n",
        "intervalos=np.linspace(-0.01,Max_4,round(ni_1))\n",
        "intervalos"
      ],
      "metadata": {
        "colab": {
          "base_uri": "https://localhost:8080/"
        },
        "id": "iaJpezceGSet",
        "outputId": "97c23ebb-e991-441e-849b-a0201f122f8b"
      },
      "execution_count": 83,
      "outputs": [
        {
          "output_type": "execute_result",
          "data": {
            "text/plain": [
              "array([-1.0000e-02,  8.3250e+00,  1.6660e+01,  2.4995e+01,  3.3330e+01,\n",
              "        4.1665e+01,  5.0000e+01])"
            ]
          },
          "metadata": {},
          "execution_count": 83
        }
      ]
    },
    {
      "cell_type": "code",
      "source": [
        "#Creamos las categorias\n",
        "categorias = [\n",
        "    'Disponible', 'Poco disponible', 'Abundante', 'Escaso',\n",
        "    'Frecuente', 'Raro'\n",
        "]\n",
        "\n",
        "#Finalmente creamos las categorias en la columna numerica\n",
        "City['number_of_reviews_ltm']=pd.cut(x=City['number_of_reviews_ltm'],bins=intervalos,labels=categorias)\n",
        "City['number_of_reviews_ltm']"
      ],
      "metadata": {
        "colab": {
          "base_uri": "https://localhost:8080/",
          "height": 458
        },
        "id": "grOlm8FxGWrl",
        "outputId": "c926166e-48a2-433c-d959-d35c5562b735"
      },
      "execution_count": 84,
      "outputs": [
        {
          "output_type": "execute_result",
          "data": {
            "text/plain": [
              "0        Disponible\n",
              "1        Disponible\n",
              "2        Disponible\n",
              "3        Disponible\n",
              "4        Disponible\n",
              "            ...    \n",
              "26531    Disponible\n",
              "26532    Disponible\n",
              "26533    Disponible\n",
              "26534    Disponible\n",
              "26535    Disponible\n",
              "Name: number_of_reviews_ltm, Length: 26536, dtype: category\n",
              "Categories (6, object): ['Disponible' < 'Poco disponible' < 'Abundante' < 'Escaso' < 'Frecuente' < 'Raro']"
            ],
            "text/html": [
              "<div>\n",
              "<style scoped>\n",
              "    .dataframe tbody tr th:only-of-type {\n",
              "        vertical-align: middle;\n",
              "    }\n",
              "\n",
              "    .dataframe tbody tr th {\n",
              "        vertical-align: top;\n",
              "    }\n",
              "\n",
              "    .dataframe thead th {\n",
              "        text-align: right;\n",
              "    }\n",
              "</style>\n",
              "<table border=\"1\" class=\"dataframe\">\n",
              "  <thead>\n",
              "    <tr style=\"text-align: right;\">\n",
              "      <th></th>\n",
              "      <th>number_of_reviews_ltm</th>\n",
              "    </tr>\n",
              "  </thead>\n",
              "  <tbody>\n",
              "    <tr>\n",
              "      <th>0</th>\n",
              "      <td>Disponible</td>\n",
              "    </tr>\n",
              "    <tr>\n",
              "      <th>1</th>\n",
              "      <td>Disponible</td>\n",
              "    </tr>\n",
              "    <tr>\n",
              "      <th>2</th>\n",
              "      <td>Disponible</td>\n",
              "    </tr>\n",
              "    <tr>\n",
              "      <th>3</th>\n",
              "      <td>Disponible</td>\n",
              "    </tr>\n",
              "    <tr>\n",
              "      <th>4</th>\n",
              "      <td>Disponible</td>\n",
              "    </tr>\n",
              "    <tr>\n",
              "      <th>...</th>\n",
              "      <td>...</td>\n",
              "    </tr>\n",
              "    <tr>\n",
              "      <th>26531</th>\n",
              "      <td>Disponible</td>\n",
              "    </tr>\n",
              "    <tr>\n",
              "      <th>26532</th>\n",
              "      <td>Disponible</td>\n",
              "    </tr>\n",
              "    <tr>\n",
              "      <th>26533</th>\n",
              "      <td>Disponible</td>\n",
              "    </tr>\n",
              "    <tr>\n",
              "      <th>26534</th>\n",
              "      <td>Disponible</td>\n",
              "    </tr>\n",
              "    <tr>\n",
              "      <th>26535</th>\n",
              "      <td>Disponible</td>\n",
              "    </tr>\n",
              "  </tbody>\n",
              "</table>\n",
              "<p>26536 rows × 1 columns</p>\n",
              "</div><br><label><b>dtype:</b> category</label>"
            ]
          },
          "metadata": {},
          "execution_count": 84
        }
      ]
    },
    {
      "cell_type": "markdown",
      "source": [
        "### **Strungens** 'reviews_per_month'"
      ],
      "metadata": {
        "id": "_2Z_Zyq7YzCg"
      }
    },
    {
      "cell_type": "code",
      "source": [
        "#Calculamos el numero total de la poblacion \"n\"\n",
        "City['reviews_per_month'].info()\n",
        "n_1=len(City)"
      ],
      "metadata": {
        "colab": {
          "base_uri": "https://localhost:8080/"
        },
        "id": "EqFReB11YxnN",
        "outputId": "32348662-5d0f-48d3-9862-5a3db8db84e6"
      },
      "execution_count": 85,
      "outputs": [
        {
          "output_type": "stream",
          "name": "stdout",
          "text": [
            "<class 'pandas.core.series.Series'>\n",
            "RangeIndex: 26536 entries, 0 to 26535\n",
            "Series name: reviews_per_month\n",
            "Non-Null Count  Dtype  \n",
            "--------------  -----  \n",
            "26536 non-null  float64\n",
            "dtypes: float64(1)\n",
            "memory usage: 207.4 KB\n"
          ]
        }
      ]
    },
    {
      "cell_type": "code",
      "source": [
        "#Obtenemos el limite superior y el limite inferior de la colmna objetivo\n",
        "Max_5=City['reviews_per_month'].max()\n",
        "Min_5=City['reviews_per_month'].min()\n",
        "Limites= [Min_5, Max_5]\n",
        "Limites"
      ],
      "metadata": {
        "colab": {
          "base_uri": "https://localhost:8080/"
        },
        "id": "hBEQVRGFZcfo",
        "outputId": "6d005d17-8669-4d6e-bf79-0e157a8c6c9c"
      },
      "execution_count": 86,
      "outputs": [
        {
          "output_type": "execute_result",
          "data": {
            "text/plain": [
              "[0.01, 4.57]"
            ]
          },
          "metadata": {},
          "execution_count": 86
        }
      ]
    },
    {
      "cell_type": "code",
      "source": [
        "#Calculamos el Rango R\n",
        "R_5=Max_5-Min_5\n",
        "R_5"
      ],
      "metadata": {
        "colab": {
          "base_uri": "https://localhost:8080/"
        },
        "id": "2FBCT2b6ZkNX",
        "outputId": "43a494c6-05c7-446d-af8c-588a1bc749a6"
      },
      "execution_count": 87,
      "outputs": [
        {
          "output_type": "execute_result",
          "data": {
            "text/plain": [
              "4.5600000000000005"
            ]
          },
          "metadata": {},
          "execution_count": 87
        }
      ]
    },
    {
      "cell_type": "code",
      "source": [
        "#Categorización de variables\n",
        "intervalos=np.linspace(-0.0000000000001,Max_5,round(ni_1))\n",
        "intervalos"
      ],
      "metadata": {
        "colab": {
          "base_uri": "https://localhost:8080/"
        },
        "id": "KyGR49lsZnxP",
        "outputId": "7ca9f8a0-4445-4359-aa59-28cc0206ff66"
      },
      "execution_count": 88,
      "outputs": [
        {
          "output_type": "execute_result",
          "data": {
            "text/plain": [
              "array([-1.00000000e-13,  7.61666667e-01,  1.52333333e+00,  2.28500000e+00,\n",
              "        3.04666667e+00,  3.80833333e+00,  4.57000000e+00])"
            ]
          },
          "metadata": {},
          "execution_count": 88
        }
      ]
    },
    {
      "cell_type": "code",
      "source": [
        "#Creamos las categorias\n",
        "categorias = [\n",
        "    'Disponible', 'Poco disponible', 'Abundante', 'Escaso',\n",
        "    'Frecuente', 'Raro'\n",
        "]\n",
        "\n",
        "#Finalmente creamos las categorias en la columna numerica\n",
        "City['reviews_per_month']=pd.cut(x=City['reviews_per_month'],bins=intervalos,labels=categorias)\n",
        "City['reviews_per_month']"
      ],
      "metadata": {
        "colab": {
          "base_uri": "https://localhost:8080/",
          "height": 458
        },
        "id": "zGjkx83YZpwn",
        "outputId": "980d67f9-14ed-46cb-ef99-e12d89b8f8a3"
      },
      "execution_count": 89,
      "outputs": [
        {
          "output_type": "execute_result",
          "data": {
            "text/plain": [
              "0             Disponible\n",
              "1              Abundante\n",
              "2             Disponible\n",
              "3        Poco disponible\n",
              "4             Disponible\n",
              "              ...       \n",
              "26531          Abundante\n",
              "26532          Abundante\n",
              "26533          Abundante\n",
              "26534          Abundante\n",
              "26535          Abundante\n",
              "Name: reviews_per_month, Length: 26536, dtype: category\n",
              "Categories (6, object): ['Disponible' < 'Poco disponible' < 'Abundante' < 'Escaso' < 'Frecuente' < 'Raro']"
            ],
            "text/html": [
              "<div>\n",
              "<style scoped>\n",
              "    .dataframe tbody tr th:only-of-type {\n",
              "        vertical-align: middle;\n",
              "    }\n",
              "\n",
              "    .dataframe tbody tr th {\n",
              "        vertical-align: top;\n",
              "    }\n",
              "\n",
              "    .dataframe thead th {\n",
              "        text-align: right;\n",
              "    }\n",
              "</style>\n",
              "<table border=\"1\" class=\"dataframe\">\n",
              "  <thead>\n",
              "    <tr style=\"text-align: right;\">\n",
              "      <th></th>\n",
              "      <th>reviews_per_month</th>\n",
              "    </tr>\n",
              "  </thead>\n",
              "  <tbody>\n",
              "    <tr>\n",
              "      <th>0</th>\n",
              "      <td>Disponible</td>\n",
              "    </tr>\n",
              "    <tr>\n",
              "      <th>1</th>\n",
              "      <td>Abundante</td>\n",
              "    </tr>\n",
              "    <tr>\n",
              "      <th>2</th>\n",
              "      <td>Disponible</td>\n",
              "    </tr>\n",
              "    <tr>\n",
              "      <th>3</th>\n",
              "      <td>Poco disponible</td>\n",
              "    </tr>\n",
              "    <tr>\n",
              "      <th>4</th>\n",
              "      <td>Disponible</td>\n",
              "    </tr>\n",
              "    <tr>\n",
              "      <th>...</th>\n",
              "      <td>...</td>\n",
              "    </tr>\n",
              "    <tr>\n",
              "      <th>26531</th>\n",
              "      <td>Abundante</td>\n",
              "    </tr>\n",
              "    <tr>\n",
              "      <th>26532</th>\n",
              "      <td>Abundante</td>\n",
              "    </tr>\n",
              "    <tr>\n",
              "      <th>26533</th>\n",
              "      <td>Abundante</td>\n",
              "    </tr>\n",
              "    <tr>\n",
              "      <th>26534</th>\n",
              "      <td>Abundante</td>\n",
              "    </tr>\n",
              "    <tr>\n",
              "      <th>26535</th>\n",
              "      <td>Abundante</td>\n",
              "    </tr>\n",
              "  </tbody>\n",
              "</table>\n",
              "<p>26536 rows × 1 columns</p>\n",
              "</div><br><label><b>dtype:</b> category</label>"
            ]
          },
          "metadata": {},
          "execution_count": 89
        }
      ]
    },
    {
      "cell_type": "code",
      "source": [
        "City['reviews_per_month'].isnull().sum()"
      ],
      "metadata": {
        "colab": {
          "base_uri": "https://localhost:8080/"
        },
        "id": "smEYSVFUZ38y",
        "outputId": "8b15eef1-79cd-4106-e340-211a5d7cf36a"
      },
      "execution_count": 90,
      "outputs": [
        {
          "output_type": "execute_result",
          "data": {
            "text/plain": [
              "0"
            ]
          },
          "metadata": {},
          "execution_count": 90
        }
      ]
    },
    {
      "cell_type": "markdown",
      "source": [],
      "metadata": {
        "id": "vq2caWv9br2M"
      }
    },
    {
      "cell_type": "markdown",
      "source": [
        "#**Modelo Explicativo de variables categoricas**"
      ],
      "metadata": {
        "id": "eYwR4CdrrTaR"
      }
    },
    {
      "cell_type": "code",
      "source": [
        "City.info()\n",
        "#categoricas = data.select_dtypes(include=[int, np.float64])\n"
      ],
      "metadata": {
        "colab": {
          "base_uri": "https://localhost:8080/"
        },
        "id": "WnSWtIRVXqgf",
        "outputId": "a49c7721-fa21-4c63-d6b7-e00e961f9eb4"
      },
      "execution_count": 91,
      "outputs": [
        {
          "output_type": "stream",
          "name": "stdout",
          "text": [
            "<class 'pandas.core.frame.DataFrame'>\n",
            "RangeIndex: 26536 entries, 0 to 26535\n",
            "Data columns (total 48 columns):\n",
            " #   Column                          Non-Null Count  Dtype   \n",
            "---  ------                          --------------  -----   \n",
            " 0   host_name                       26536 non-null  object  \n",
            " 1   host_since                      26536 non-null  object  \n",
            " 2   host_location                   26536 non-null  object  \n",
            " 3   host_response_time              26536 non-null  object  \n",
            " 4   host_is_superhost               26536 non-null  object  \n",
            " 5   host_neighbourhood              26536 non-null  object  \n",
            " 6   host_verifications              26536 non-null  object  \n",
            " 7   host_has_profile_pic            26536 non-null  object  \n",
            " 8   host_identity_verified          26536 non-null  object  \n",
            " 9   neighbourhood                   26536 non-null  object  \n",
            " 10  neighbourhood_cleansed          26536 non-null  object  \n",
            " 11  property_type                   26536 non-null  object  \n",
            " 12  room_type                       26536 non-null  object  \n",
            " 13  has_availability                26536 non-null  object  \n",
            " 14  instant_bookable                26536 non-null  object  \n",
            " 15  id                              26536 non-null  int64   \n",
            " 16  host_id                         26536 non-null  int64   \n",
            " 17  host_response_rate              26536 non-null  category\n",
            " 18  host_acceptance_rate            26536 non-null  category\n",
            " 19  host_listings_count             26536 non-null  float64 \n",
            " 20  host_total_listings_count       26536 non-null  category\n",
            " 21  latitude                        26536 non-null  float64 \n",
            " 22  longitude                       26536 non-null  float64 \n",
            " 23  accommodates                    26536 non-null  category\n",
            " 24  bathrooms                       26536 non-null  category\n",
            " 25  bedrooms                        26536 non-null  float64 \n",
            " 26  beds                            26536 non-null  category\n",
            " 27  price                           26536 non-null  category\n",
            " 28  minimum_nights                  26536 non-null  float64 \n",
            " 29  maximum_nights                  26536 non-null  int64   \n",
            " 30  maximum_maximum_nights          26536 non-null  float64 \n",
            " 31  minimum_nights_avg_ntm          26536 non-null  float64 \n",
            " 32  maximum_nights_avg_ntm          26536 non-null  float64 \n",
            " 33  availability_30                 26536 non-null  int64   \n",
            " 34  availability_60                 26536 non-null  category\n",
            " 35  availability_90                 26536 non-null  category\n",
            " 36  availability_365                26536 non-null  category\n",
            " 37  number_of_reviews               26536 non-null  float64 \n",
            " 38  number_of_reviews_ltm           26536 non-null  category\n",
            " 39  review_scores_rating            26536 non-null  float64 \n",
            " 40  review_scores_accuracy          26536 non-null  float64 \n",
            " 41  review_scores_cleanliness       26536 non-null  float64 \n",
            " 42  review_scores_checkin           26536 non-null  float64 \n",
            " 43  review_scores_communication     26536 non-null  float64 \n",
            " 44  review_scores_location          26536 non-null  float64 \n",
            " 45  review_scores_value             26536 non-null  float64 \n",
            " 46  calculated_host_listings_count  26536 non-null  float64 \n",
            " 47  reviews_per_month               26536 non-null  category\n",
            "dtypes: category(12), float64(17), int64(4), object(15)\n",
            "memory usage: 7.6+ MB\n"
          ]
        }
      ]
    },
    {
      "cell_type": "markdown",
      "source": [
        "Creamos un Df con una variable de puras variables categoricas"
      ],
      "metadata": {
        "id": "hUVdQAiHsR3m"
      }
    },
    {
      "cell_type": "code",
      "source": [
        "categoricas = City.select_dtypes(include='category')\n"
      ],
      "metadata": {
        "id": "RAqOJ4UxsaC3"
      },
      "execution_count": 92,
      "outputs": []
    },
    {
      "cell_type": "code",
      "source": [
        "categoricas.info()"
      ],
      "metadata": {
        "colab": {
          "base_uri": "https://localhost:8080/"
        },
        "id": "4Ig2wCAXslAS",
        "outputId": "bf6f00da-0ffe-4c6e-e8d6-30b7e82ae82c"
      },
      "execution_count": 93,
      "outputs": [
        {
          "output_type": "stream",
          "name": "stdout",
          "text": [
            "<class 'pandas.core.frame.DataFrame'>\n",
            "RangeIndex: 26536 entries, 0 to 26535\n",
            "Data columns (total 12 columns):\n",
            " #   Column                     Non-Null Count  Dtype   \n",
            "---  ------                     --------------  -----   \n",
            " 0   host_response_rate         26536 non-null  category\n",
            " 1   host_acceptance_rate       26536 non-null  category\n",
            " 2   host_total_listings_count  26536 non-null  category\n",
            " 3   accommodates               26536 non-null  category\n",
            " 4   bathrooms                  26536 non-null  category\n",
            " 5   beds                       26536 non-null  category\n",
            " 6   price                      26536 non-null  category\n",
            " 7   availability_60            26536 non-null  category\n",
            " 8   availability_90            26536 non-null  category\n",
            " 9   availability_365           26536 non-null  category\n",
            " 10  number_of_reviews_ltm      26536 non-null  category\n",
            " 11  reviews_per_month          26536 non-null  category\n",
            "dtypes: category(12)\n",
            "memory usage: 314.1 KB\n"
          ]
        }
      ]
    },
    {
      "cell_type": "code",
      "source": [
        "#Obtenemos un analisis univariado de las variables categoricas\n",
        "freq_tbl(categoricas)"
      ],
      "metadata": {
        "colab": {
          "base_uri": "https://localhost:8080/"
        },
        "id": "STmbNsi1rZON",
        "outputId": "8074b15b-9d19-4a1f-e35c-e501140862fd"
      },
      "execution_count": 94,
      "outputs": [
        {
          "output_type": "stream",
          "name": "stdout",
          "text": [
            "  host_response_rate  frequency  percentage  cumulative_perc\n",
            "0              Buena      26536         1.0              1.0\n",
            "1               Mala          0         0.0              1.0\n",
            "\n",
            "----------------------------------------------------------------\n",
            "\n",
            "  host_acceptance_rate  frequency  percentage  cumulative_perc\n",
            "0                 Mala      26536         1.0              1.0\n",
            "1                Buena          0         0.0              1.0\n",
            "\n",
            "----------------------------------------------------------------\n",
            "\n",
            "  host_total_listings_count  frequency  percentage  cumulative_perc\n",
            "0                Disponible      13803    0.520161         0.520161\n",
            "1           Poco disponible       8159    0.307469         0.827630\n",
            "2                 Abundante       1732    0.065270         0.892900\n",
            "3                    Escaso       1218    0.045900         0.938800\n",
            "4                 Frecuente        744    0.028037         0.966838\n",
            "5                      Raro        524    0.019747         0.986584\n",
            "6                 Available        356    0.013416         1.000000\n",
            "\n",
            "----------------------------------------------------------------\n",
            "\n",
            "      accommodates  frequency  percentage  cumulative_perc\n",
            "0  Poco disponible      10499    0.395651         0.395651\n",
            "1        Abundante       9511    0.358419         0.754070\n",
            "2       Disponible       3025    0.113996         0.868066\n",
            "3        Frecuente       2143    0.080758         0.948824\n",
            "4           Escaso       1358    0.051176         1.000000\n",
            "\n",
            "----------------------------------------------------------------\n",
            "\n",
            "         bathrooms  frequency  percentage  cumulative_perc\n",
            "0  Poco disponible      20215    0.761795         0.761795\n",
            "1        Abundante       5354    0.201764         0.963559\n",
            "2           Escaso        838    0.031580         0.995139\n",
            "3       Disponible        129    0.004861         1.000000\n",
            "\n",
            "----------------------------------------------------------------\n",
            "\n",
            "              beds  frequency  percentage  cumulative_perc\n",
            "0        Abundante      11735    0.442229         0.442229\n",
            "1  Poco disponible      10397    0.391807         0.834037\n",
            "2           Escaso       2752    0.103708         0.937745\n",
            "3       Disponible       1652    0.062255         1.000000\n",
            "\n",
            "----------------------------------------------------------------\n",
            "\n",
            "     price  frequency  percentage  cumulative_perc\n",
            "0    60-76       6051    0.228030         0.228030\n",
            "1    45-60       6034    0.227389         0.455419\n",
            "2    29-45       4767    0.179643         0.635062\n",
            "3    14-29       4551    0.171503         0.806565\n",
            "4    76-91       1878    0.070772         0.877336\n",
            "5   91-107       1171    0.044129         0.921465\n",
            "6     0-14        823    0.031014         0.952480\n",
            "7  107-122        730    0.027510         0.979989\n",
            "8  122-138        531    0.020011         1.000000\n",
            "\n",
            "----------------------------------------------------------------\n",
            "\n",
            "   availability_60  frequency  percentage  cumulative_perc\n",
            "0            Comun      10365    0.390601         0.390601\n",
            "1       Disponible       5207    0.196224         0.586825\n",
            "2             Raro       3609    0.136004         0.722829\n",
            "3           Escaso       2422    0.091272         0.814102\n",
            "4        Frecuente       2145    0.080834         0.894935\n",
            "5        Abundante       1667    0.062820         0.957756\n",
            "6  Poco disponible       1121    0.042244         1.000000\n",
            "\n",
            "----------------------------------------------------------------\n",
            "\n",
            "   availability_90  frequency  percentage  cumulative_perc\n",
            "0            Común      11452    0.431565         0.431565\n",
            "1       Disponible       4371    0.164720         0.596284\n",
            "2             Raro       3688    0.138981         0.735265\n",
            "3        Frecuente       3148    0.118631         0.853897\n",
            "4           Escaso       1666    0.062783         0.916679\n",
            "5        Abundante       1200    0.045222         0.961901\n",
            "6  Poco disponible       1011    0.038099         1.000000\n",
            "\n",
            "----------------------------------------------------------------\n",
            "\n",
            "  availability_365  frequency  percentage  cumulative_perc\n",
            "0            Común       9803    0.369423         0.369423\n",
            "1             Raro       3482    0.131218         0.500641\n",
            "2       Disponible       3441    0.129673         0.630314\n",
            "3           Escaso       3057    0.115202         0.745516\n",
            "4  Poco disponible       2918    0.109964         0.855479\n",
            "5        Frecuente       2101    0.079175         0.934655\n",
            "6        Abundante       1734    0.065345         1.000000\n",
            "\n",
            "----------------------------------------------------------------\n",
            "\n",
            "  number_of_reviews_ltm  frequency  percentage  cumulative_perc\n",
            "0            Disponible      15311    0.576990         0.576990\n",
            "1       Poco disponible       4902    0.184730         0.761720\n",
            "2             Abundante       2327    0.087692         0.849412\n",
            "3                Escaso       1948    0.073410         0.922822\n",
            "4             Frecuente       1155    0.043526         0.966348\n",
            "5                  Raro        893    0.033652         1.000000\n",
            "\n",
            "----------------------------------------------------------------\n",
            "\n",
            "  reviews_per_month  frequency  percentage  cumulative_perc\n",
            "0        Disponible       8694    0.327630         0.327630\n",
            "1         Abundante       7006    0.264019         0.591649\n",
            "2   Poco disponible       6159    0.232100         0.823749\n",
            "3            Escaso       2251    0.084828         0.908577\n",
            "4         Frecuente       1470    0.055396         0.963973\n",
            "5              Raro        956    0.036027         1.000000\n",
            "\n",
            "----------------------------------------------------------------\n",
            "\n"
          ]
        }
      ]
    },
    {
      "cell_type": "markdown",
      "source": [
        "# Tablas"
      ],
      "metadata": {
        "id": "PPeRF7Lc3HFR"
      }
    },
    {
      "cell_type": "markdown",
      "source": [
        "## Price"
      ],
      "metadata": {
        "id": "B7OoW_2Y3K84"
      }
    },
    {
      "cell_type": "code",
      "source": [
        "#Obtengo un analisis univariado de una variable categorica en especifico\n",
        "table1= freq_tbl(categoricas['price'])\n",
        "table1"
      ],
      "metadata": {
        "colab": {
          "base_uri": "https://localhost:8080/",
          "height": 332
        },
        "id": "pHQ3FpFos0Un",
        "outputId": "a18df932-03fd-47dd-99ef-b7085f3784a8"
      },
      "execution_count": 95,
      "outputs": [
        {
          "output_type": "execute_result",
          "data": {
            "text/plain": [
              "     price  frequency  percentage  cumulative_perc\n",
              "0    60-76       6051    0.228030         0.228030\n",
              "1    45-60       6034    0.227389         0.455419\n",
              "2    29-45       4767    0.179643         0.635062\n",
              "3    14-29       4551    0.171503         0.806565\n",
              "4    76-91       1878    0.070772         0.877336\n",
              "5   91-107       1171    0.044129         0.921465\n",
              "6     0-14        823    0.031014         0.952480\n",
              "7  107-122        730    0.027510         0.979989\n",
              "8  122-138        531    0.020011         1.000000"
            ],
            "text/html": [
              "\n",
              "  <div id=\"df-53c6ef10-1c8d-41ec-b017-a265bae6a3ab\" class=\"colab-df-container\">\n",
              "    <div>\n",
              "<style scoped>\n",
              "    .dataframe tbody tr th:only-of-type {\n",
              "        vertical-align: middle;\n",
              "    }\n",
              "\n",
              "    .dataframe tbody tr th {\n",
              "        vertical-align: top;\n",
              "    }\n",
              "\n",
              "    .dataframe thead th {\n",
              "        text-align: right;\n",
              "    }\n",
              "</style>\n",
              "<table border=\"1\" class=\"dataframe\">\n",
              "  <thead>\n",
              "    <tr style=\"text-align: right;\">\n",
              "      <th></th>\n",
              "      <th>price</th>\n",
              "      <th>frequency</th>\n",
              "      <th>percentage</th>\n",
              "      <th>cumulative_perc</th>\n",
              "    </tr>\n",
              "  </thead>\n",
              "  <tbody>\n",
              "    <tr>\n",
              "      <th>0</th>\n",
              "      <td>60-76</td>\n",
              "      <td>6051</td>\n",
              "      <td>0.228030</td>\n",
              "      <td>0.228030</td>\n",
              "    </tr>\n",
              "    <tr>\n",
              "      <th>1</th>\n",
              "      <td>45-60</td>\n",
              "      <td>6034</td>\n",
              "      <td>0.227389</td>\n",
              "      <td>0.455419</td>\n",
              "    </tr>\n",
              "    <tr>\n",
              "      <th>2</th>\n",
              "      <td>29-45</td>\n",
              "      <td>4767</td>\n",
              "      <td>0.179643</td>\n",
              "      <td>0.635062</td>\n",
              "    </tr>\n",
              "    <tr>\n",
              "      <th>3</th>\n",
              "      <td>14-29</td>\n",
              "      <td>4551</td>\n",
              "      <td>0.171503</td>\n",
              "      <td>0.806565</td>\n",
              "    </tr>\n",
              "    <tr>\n",
              "      <th>4</th>\n",
              "      <td>76-91</td>\n",
              "      <td>1878</td>\n",
              "      <td>0.070772</td>\n",
              "      <td>0.877336</td>\n",
              "    </tr>\n",
              "    <tr>\n",
              "      <th>5</th>\n",
              "      <td>91-107</td>\n",
              "      <td>1171</td>\n",
              "      <td>0.044129</td>\n",
              "      <td>0.921465</td>\n",
              "    </tr>\n",
              "    <tr>\n",
              "      <th>6</th>\n",
              "      <td>0-14</td>\n",
              "      <td>823</td>\n",
              "      <td>0.031014</td>\n",
              "      <td>0.952480</td>\n",
              "    </tr>\n",
              "    <tr>\n",
              "      <th>7</th>\n",
              "      <td>107-122</td>\n",
              "      <td>730</td>\n",
              "      <td>0.027510</td>\n",
              "      <td>0.979989</td>\n",
              "    </tr>\n",
              "    <tr>\n",
              "      <th>8</th>\n",
              "      <td>122-138</td>\n",
              "      <td>531</td>\n",
              "      <td>0.020011</td>\n",
              "      <td>1.000000</td>\n",
              "    </tr>\n",
              "  </tbody>\n",
              "</table>\n",
              "</div>\n",
              "    <div class=\"colab-df-buttons\">\n",
              "\n",
              "  <div class=\"colab-df-container\">\n",
              "    <button class=\"colab-df-convert\" onclick=\"convertToInteractive('df-53c6ef10-1c8d-41ec-b017-a265bae6a3ab')\"\n",
              "            title=\"Convert this dataframe to an interactive table.\"\n",
              "            style=\"display:none;\">\n",
              "\n",
              "  <svg xmlns=\"http://www.w3.org/2000/svg\" height=\"24px\" viewBox=\"0 -960 960 960\">\n",
              "    <path d=\"M120-120v-720h720v720H120Zm60-500h600v-160H180v160Zm220 220h160v-160H400v160Zm0 220h160v-160H400v160ZM180-400h160v-160H180v160Zm440 0h160v-160H620v160ZM180-180h160v-160H180v160Zm440 0h160v-160H620v160Z\"/>\n",
              "  </svg>\n",
              "    </button>\n",
              "\n",
              "  <style>\n",
              "    .colab-df-container {\n",
              "      display:flex;\n",
              "      gap: 12px;\n",
              "    }\n",
              "\n",
              "    .colab-df-convert {\n",
              "      background-color: #E8F0FE;\n",
              "      border: none;\n",
              "      border-radius: 50%;\n",
              "      cursor: pointer;\n",
              "      display: none;\n",
              "      fill: #1967D2;\n",
              "      height: 32px;\n",
              "      padding: 0 0 0 0;\n",
              "      width: 32px;\n",
              "    }\n",
              "\n",
              "    .colab-df-convert:hover {\n",
              "      background-color: #E2EBFA;\n",
              "      box-shadow: 0px 1px 2px rgba(60, 64, 67, 0.3), 0px 1px 3px 1px rgba(60, 64, 67, 0.15);\n",
              "      fill: #174EA6;\n",
              "    }\n",
              "\n",
              "    .colab-df-buttons div {\n",
              "      margin-bottom: 4px;\n",
              "    }\n",
              "\n",
              "    [theme=dark] .colab-df-convert {\n",
              "      background-color: #3B4455;\n",
              "      fill: #D2E3FC;\n",
              "    }\n",
              "\n",
              "    [theme=dark] .colab-df-convert:hover {\n",
              "      background-color: #434B5C;\n",
              "      box-shadow: 0px 1px 3px 1px rgba(0, 0, 0, 0.15);\n",
              "      filter: drop-shadow(0px 1px 2px rgba(0, 0, 0, 0.3));\n",
              "      fill: #FFFFFF;\n",
              "    }\n",
              "  </style>\n",
              "\n",
              "    <script>\n",
              "      const buttonEl =\n",
              "        document.querySelector('#df-53c6ef10-1c8d-41ec-b017-a265bae6a3ab button.colab-df-convert');\n",
              "      buttonEl.style.display =\n",
              "        google.colab.kernel.accessAllowed ? 'block' : 'none';\n",
              "\n",
              "      async function convertToInteractive(key) {\n",
              "        const element = document.querySelector('#df-53c6ef10-1c8d-41ec-b017-a265bae6a3ab');\n",
              "        const dataTable =\n",
              "          await google.colab.kernel.invokeFunction('convertToInteractive',\n",
              "                                                    [key], {});\n",
              "        if (!dataTable) return;\n",
              "\n",
              "        const docLinkHtml = 'Like what you see? Visit the ' +\n",
              "          '<a target=\"_blank\" href=https://colab.research.google.com/notebooks/data_table.ipynb>data table notebook</a>'\n",
              "          + ' to learn more about interactive tables.';\n",
              "        element.innerHTML = '';\n",
              "        dataTable['output_type'] = 'display_data';\n",
              "        await google.colab.output.renderOutput(dataTable, element);\n",
              "        const docLink = document.createElement('div');\n",
              "        docLink.innerHTML = docLinkHtml;\n",
              "        element.appendChild(docLink);\n",
              "      }\n",
              "    </script>\n",
              "  </div>\n",
              "\n",
              "\n",
              "<div id=\"df-a34cb68d-54c1-4642-928a-086a2a677f8d\">\n",
              "  <button class=\"colab-df-quickchart\" onclick=\"quickchart('df-a34cb68d-54c1-4642-928a-086a2a677f8d')\"\n",
              "            title=\"Suggest charts\"\n",
              "            style=\"display:none;\">\n",
              "\n",
              "<svg xmlns=\"http://www.w3.org/2000/svg\" height=\"24px\"viewBox=\"0 0 24 24\"\n",
              "     width=\"24px\">\n",
              "    <g>\n",
              "        <path d=\"M19 3H5c-1.1 0-2 .9-2 2v14c0 1.1.9 2 2 2h14c1.1 0 2-.9 2-2V5c0-1.1-.9-2-2-2zM9 17H7v-7h2v7zm4 0h-2V7h2v10zm4 0h-2v-4h2v4z\"/>\n",
              "    </g>\n",
              "</svg>\n",
              "  </button>\n",
              "\n",
              "<style>\n",
              "  .colab-df-quickchart {\n",
              "      --bg-color: #E8F0FE;\n",
              "      --fill-color: #1967D2;\n",
              "      --hover-bg-color: #E2EBFA;\n",
              "      --hover-fill-color: #174EA6;\n",
              "      --disabled-fill-color: #AAA;\n",
              "      --disabled-bg-color: #DDD;\n",
              "  }\n",
              "\n",
              "  [theme=dark] .colab-df-quickchart {\n",
              "      --bg-color: #3B4455;\n",
              "      --fill-color: #D2E3FC;\n",
              "      --hover-bg-color: #434B5C;\n",
              "      --hover-fill-color: #FFFFFF;\n",
              "      --disabled-bg-color: #3B4455;\n",
              "      --disabled-fill-color: #666;\n",
              "  }\n",
              "\n",
              "  .colab-df-quickchart {\n",
              "    background-color: var(--bg-color);\n",
              "    border: none;\n",
              "    border-radius: 50%;\n",
              "    cursor: pointer;\n",
              "    display: none;\n",
              "    fill: var(--fill-color);\n",
              "    height: 32px;\n",
              "    padding: 0;\n",
              "    width: 32px;\n",
              "  }\n",
              "\n",
              "  .colab-df-quickchart:hover {\n",
              "    background-color: var(--hover-bg-color);\n",
              "    box-shadow: 0 1px 2px rgba(60, 64, 67, 0.3), 0 1px 3px 1px rgba(60, 64, 67, 0.15);\n",
              "    fill: var(--button-hover-fill-color);\n",
              "  }\n",
              "\n",
              "  .colab-df-quickchart-complete:disabled,\n",
              "  .colab-df-quickchart-complete:disabled:hover {\n",
              "    background-color: var(--disabled-bg-color);\n",
              "    fill: var(--disabled-fill-color);\n",
              "    box-shadow: none;\n",
              "  }\n",
              "\n",
              "  .colab-df-spinner {\n",
              "    border: 2px solid var(--fill-color);\n",
              "    border-color: transparent;\n",
              "    border-bottom-color: var(--fill-color);\n",
              "    animation:\n",
              "      spin 1s steps(1) infinite;\n",
              "  }\n",
              "\n",
              "  @keyframes spin {\n",
              "    0% {\n",
              "      border-color: transparent;\n",
              "      border-bottom-color: var(--fill-color);\n",
              "      border-left-color: var(--fill-color);\n",
              "    }\n",
              "    20% {\n",
              "      border-color: transparent;\n",
              "      border-left-color: var(--fill-color);\n",
              "      border-top-color: var(--fill-color);\n",
              "    }\n",
              "    30% {\n",
              "      border-color: transparent;\n",
              "      border-left-color: var(--fill-color);\n",
              "      border-top-color: var(--fill-color);\n",
              "      border-right-color: var(--fill-color);\n",
              "    }\n",
              "    40% {\n",
              "      border-color: transparent;\n",
              "      border-right-color: var(--fill-color);\n",
              "      border-top-color: var(--fill-color);\n",
              "    }\n",
              "    60% {\n",
              "      border-color: transparent;\n",
              "      border-right-color: var(--fill-color);\n",
              "    }\n",
              "    80% {\n",
              "      border-color: transparent;\n",
              "      border-right-color: var(--fill-color);\n",
              "      border-bottom-color: var(--fill-color);\n",
              "    }\n",
              "    90% {\n",
              "      border-color: transparent;\n",
              "      border-bottom-color: var(--fill-color);\n",
              "    }\n",
              "  }\n",
              "</style>\n",
              "\n",
              "  <script>\n",
              "    async function quickchart(key) {\n",
              "      const quickchartButtonEl =\n",
              "        document.querySelector('#' + key + ' button');\n",
              "      quickchartButtonEl.disabled = true;  // To prevent multiple clicks.\n",
              "      quickchartButtonEl.classList.add('colab-df-spinner');\n",
              "      try {\n",
              "        const charts = await google.colab.kernel.invokeFunction(\n",
              "            'suggestCharts', [key], {});\n",
              "      } catch (error) {\n",
              "        console.error('Error during call to suggestCharts:', error);\n",
              "      }\n",
              "      quickchartButtonEl.classList.remove('colab-df-spinner');\n",
              "      quickchartButtonEl.classList.add('colab-df-quickchart-complete');\n",
              "    }\n",
              "    (() => {\n",
              "      let quickchartButtonEl =\n",
              "        document.querySelector('#df-a34cb68d-54c1-4642-928a-086a2a677f8d button');\n",
              "      quickchartButtonEl.style.display =\n",
              "        google.colab.kernel.accessAllowed ? 'block' : 'none';\n",
              "    })();\n",
              "  </script>\n",
              "</div>\n",
              "\n",
              "  <div id=\"id_8da31ffa-408d-466f-bb92-94377d0d8fc3\">\n",
              "    <style>\n",
              "      .colab-df-generate {\n",
              "        background-color: #E8F0FE;\n",
              "        border: none;\n",
              "        border-radius: 50%;\n",
              "        cursor: pointer;\n",
              "        display: none;\n",
              "        fill: #1967D2;\n",
              "        height: 32px;\n",
              "        padding: 0 0 0 0;\n",
              "        width: 32px;\n",
              "      }\n",
              "\n",
              "      .colab-df-generate:hover {\n",
              "        background-color: #E2EBFA;\n",
              "        box-shadow: 0px 1px 2px rgba(60, 64, 67, 0.3), 0px 1px 3px 1px rgba(60, 64, 67, 0.15);\n",
              "        fill: #174EA6;\n",
              "      }\n",
              "\n",
              "      [theme=dark] .colab-df-generate {\n",
              "        background-color: #3B4455;\n",
              "        fill: #D2E3FC;\n",
              "      }\n",
              "\n",
              "      [theme=dark] .colab-df-generate:hover {\n",
              "        background-color: #434B5C;\n",
              "        box-shadow: 0px 1px 3px 1px rgba(0, 0, 0, 0.15);\n",
              "        filter: drop-shadow(0px 1px 2px rgba(0, 0, 0, 0.3));\n",
              "        fill: #FFFFFF;\n",
              "      }\n",
              "    </style>\n",
              "    <button class=\"colab-df-generate\" onclick=\"generateWithVariable('table1')\"\n",
              "            title=\"Generate code using this dataframe.\"\n",
              "            style=\"display:none;\">\n",
              "\n",
              "  <svg xmlns=\"http://www.w3.org/2000/svg\" height=\"24px\"viewBox=\"0 0 24 24\"\n",
              "       width=\"24px\">\n",
              "    <path d=\"M7,19H8.4L18.45,9,17,7.55,7,17.6ZM5,21V16.75L18.45,3.32a2,2,0,0,1,2.83,0l1.4,1.43a1.91,1.91,0,0,1,.58,1.4,1.91,1.91,0,0,1-.58,1.4L9.25,21ZM18.45,9,17,7.55Zm-12,3A5.31,5.31,0,0,0,4.9,8.1,5.31,5.31,0,0,0,1,6.5,5.31,5.31,0,0,0,4.9,4.9,5.31,5.31,0,0,0,6.5,1,5.31,5.31,0,0,0,8.1,4.9,5.31,5.31,0,0,0,12,6.5,5.46,5.46,0,0,0,6.5,12Z\"/>\n",
              "  </svg>\n",
              "    </button>\n",
              "    <script>\n",
              "      (() => {\n",
              "      const buttonEl =\n",
              "        document.querySelector('#id_8da31ffa-408d-466f-bb92-94377d0d8fc3 button.colab-df-generate');\n",
              "      buttonEl.style.display =\n",
              "        google.colab.kernel.accessAllowed ? 'block' : 'none';\n",
              "\n",
              "      buttonEl.onclick = () => {\n",
              "        google.colab.notebook.generateWithVariable('table1');\n",
              "      }\n",
              "      })();\n",
              "    </script>\n",
              "  </div>\n",
              "\n",
              "    </div>\n",
              "  </div>\n"
            ],
            "application/vnd.google.colaboratory.intrinsic+json": {
              "type": "dataframe",
              "variable_name": "table1",
              "summary": "{\n  \"name\": \"table1\",\n  \"rows\": 9,\n  \"fields\": [\n    {\n      \"column\": \"price\",\n      \"properties\": {\n        \"dtype\": \"category\",\n        \"num_unique_values\": 9,\n        \"samples\": [\n          \"107-122\",\n          \"45-60\",\n          \"91-107\"\n        ],\n        \"semantic_type\": \"\",\n        \"description\": \"\"\n      }\n    },\n    {\n      \"column\": \"frequency\",\n      \"properties\": {\n        \"dtype\": \"number\",\n        \"std\": 2361,\n        \"min\": 531,\n        \"max\": 6051,\n        \"num_unique_values\": 9,\n        \"samples\": [\n          730,\n          6034,\n          1171\n        ],\n        \"semantic_type\": \"\",\n        \"description\": \"\"\n      }\n    },\n    {\n      \"column\": \"percentage\",\n      \"properties\": {\n        \"dtype\": \"number\",\n        \"std\": 0.08898890347369083,\n        \"min\": 0.020010551703346396,\n        \"max\": 0.22802984624660838,\n        \"num_unique_values\": 9,\n        \"samples\": [\n          0.027509798010250226,\n          0.22738920711486282,\n          0.04412873078082605\n        ],\n        \"semantic_type\": \"\",\n        \"description\": \"\"\n      }\n    },\n    {\n      \"column\": \"cumulative_perc\",\n      \"properties\": {\n        \"dtype\": \"number\",\n        \"std\": 0.26841957594228744,\n        \"min\": 0.2280298462466084,\n        \"max\": 1.0000000000000002,\n        \"num_unique_values\": 9,\n        \"samples\": [\n          0.9799894482966537,\n          0.45541905336147126,\n          0.921465179378957\n        ],\n        \"semantic_type\": \"\",\n        \"description\": \"\"\n      }\n    }\n  ]\n}"
            }
          },
          "metadata": {},
          "execution_count": 95
        }
      ]
    },
    {
      "cell_type": "code",
      "source": [
        "#elimino las columnas \"percentage\" y \"cumulative_perc\" para trabajar con las frecuencias\n",
        "table2=table1.drop(['percentage','cumulative_perc'],axis=1)\n",
        "table2"
      ],
      "metadata": {
        "colab": {
          "base_uri": "https://localhost:8080/",
          "height": 332
        },
        "id": "8V02A_zstZD1",
        "outputId": "7fd7f050-8cb2-47ff-8cf2-919a9931f8ad"
      },
      "execution_count": 96,
      "outputs": [
        {
          "output_type": "execute_result",
          "data": {
            "text/plain": [
              "     price  frequency\n",
              "0    60-76       6051\n",
              "1    45-60       6034\n",
              "2    29-45       4767\n",
              "3    14-29       4551\n",
              "4    76-91       1878\n",
              "5   91-107       1171\n",
              "6     0-14        823\n",
              "7  107-122        730\n",
              "8  122-138        531"
            ],
            "text/html": [
              "\n",
              "  <div id=\"df-da3b9466-1952-4151-b24f-0101810eb970\" class=\"colab-df-container\">\n",
              "    <div>\n",
              "<style scoped>\n",
              "    .dataframe tbody tr th:only-of-type {\n",
              "        vertical-align: middle;\n",
              "    }\n",
              "\n",
              "    .dataframe tbody tr th {\n",
              "        vertical-align: top;\n",
              "    }\n",
              "\n",
              "    .dataframe thead th {\n",
              "        text-align: right;\n",
              "    }\n",
              "</style>\n",
              "<table border=\"1\" class=\"dataframe\">\n",
              "  <thead>\n",
              "    <tr style=\"text-align: right;\">\n",
              "      <th></th>\n",
              "      <th>price</th>\n",
              "      <th>frequency</th>\n",
              "    </tr>\n",
              "  </thead>\n",
              "  <tbody>\n",
              "    <tr>\n",
              "      <th>0</th>\n",
              "      <td>60-76</td>\n",
              "      <td>6051</td>\n",
              "    </tr>\n",
              "    <tr>\n",
              "      <th>1</th>\n",
              "      <td>45-60</td>\n",
              "      <td>6034</td>\n",
              "    </tr>\n",
              "    <tr>\n",
              "      <th>2</th>\n",
              "      <td>29-45</td>\n",
              "      <td>4767</td>\n",
              "    </tr>\n",
              "    <tr>\n",
              "      <th>3</th>\n",
              "      <td>14-29</td>\n",
              "      <td>4551</td>\n",
              "    </tr>\n",
              "    <tr>\n",
              "      <th>4</th>\n",
              "      <td>76-91</td>\n",
              "      <td>1878</td>\n",
              "    </tr>\n",
              "    <tr>\n",
              "      <th>5</th>\n",
              "      <td>91-107</td>\n",
              "      <td>1171</td>\n",
              "    </tr>\n",
              "    <tr>\n",
              "      <th>6</th>\n",
              "      <td>0-14</td>\n",
              "      <td>823</td>\n",
              "    </tr>\n",
              "    <tr>\n",
              "      <th>7</th>\n",
              "      <td>107-122</td>\n",
              "      <td>730</td>\n",
              "    </tr>\n",
              "    <tr>\n",
              "      <th>8</th>\n",
              "      <td>122-138</td>\n",
              "      <td>531</td>\n",
              "    </tr>\n",
              "  </tbody>\n",
              "</table>\n",
              "</div>\n",
              "    <div class=\"colab-df-buttons\">\n",
              "\n",
              "  <div class=\"colab-df-container\">\n",
              "    <button class=\"colab-df-convert\" onclick=\"convertToInteractive('df-da3b9466-1952-4151-b24f-0101810eb970')\"\n",
              "            title=\"Convert this dataframe to an interactive table.\"\n",
              "            style=\"display:none;\">\n",
              "\n",
              "  <svg xmlns=\"http://www.w3.org/2000/svg\" height=\"24px\" viewBox=\"0 -960 960 960\">\n",
              "    <path d=\"M120-120v-720h720v720H120Zm60-500h600v-160H180v160Zm220 220h160v-160H400v160Zm0 220h160v-160H400v160ZM180-400h160v-160H180v160Zm440 0h160v-160H620v160ZM180-180h160v-160H180v160Zm440 0h160v-160H620v160Z\"/>\n",
              "  </svg>\n",
              "    </button>\n",
              "\n",
              "  <style>\n",
              "    .colab-df-container {\n",
              "      display:flex;\n",
              "      gap: 12px;\n",
              "    }\n",
              "\n",
              "    .colab-df-convert {\n",
              "      background-color: #E8F0FE;\n",
              "      border: none;\n",
              "      border-radius: 50%;\n",
              "      cursor: pointer;\n",
              "      display: none;\n",
              "      fill: #1967D2;\n",
              "      height: 32px;\n",
              "      padding: 0 0 0 0;\n",
              "      width: 32px;\n",
              "    }\n",
              "\n",
              "    .colab-df-convert:hover {\n",
              "      background-color: #E2EBFA;\n",
              "      box-shadow: 0px 1px 2px rgba(60, 64, 67, 0.3), 0px 1px 3px 1px rgba(60, 64, 67, 0.15);\n",
              "      fill: #174EA6;\n",
              "    }\n",
              "\n",
              "    .colab-df-buttons div {\n",
              "      margin-bottom: 4px;\n",
              "    }\n",
              "\n",
              "    [theme=dark] .colab-df-convert {\n",
              "      background-color: #3B4455;\n",
              "      fill: #D2E3FC;\n",
              "    }\n",
              "\n",
              "    [theme=dark] .colab-df-convert:hover {\n",
              "      background-color: #434B5C;\n",
              "      box-shadow: 0px 1px 3px 1px rgba(0, 0, 0, 0.15);\n",
              "      filter: drop-shadow(0px 1px 2px rgba(0, 0, 0, 0.3));\n",
              "      fill: #FFFFFF;\n",
              "    }\n",
              "  </style>\n",
              "\n",
              "    <script>\n",
              "      const buttonEl =\n",
              "        document.querySelector('#df-da3b9466-1952-4151-b24f-0101810eb970 button.colab-df-convert');\n",
              "      buttonEl.style.display =\n",
              "        google.colab.kernel.accessAllowed ? 'block' : 'none';\n",
              "\n",
              "      async function convertToInteractive(key) {\n",
              "        const element = document.querySelector('#df-da3b9466-1952-4151-b24f-0101810eb970');\n",
              "        const dataTable =\n",
              "          await google.colab.kernel.invokeFunction('convertToInteractive',\n",
              "                                                    [key], {});\n",
              "        if (!dataTable) return;\n",
              "\n",
              "        const docLinkHtml = 'Like what you see? Visit the ' +\n",
              "          '<a target=\"_blank\" href=https://colab.research.google.com/notebooks/data_table.ipynb>data table notebook</a>'\n",
              "          + ' to learn more about interactive tables.';\n",
              "        element.innerHTML = '';\n",
              "        dataTable['output_type'] = 'display_data';\n",
              "        await google.colab.output.renderOutput(dataTable, element);\n",
              "        const docLink = document.createElement('div');\n",
              "        docLink.innerHTML = docLinkHtml;\n",
              "        element.appendChild(docLink);\n",
              "      }\n",
              "    </script>\n",
              "  </div>\n",
              "\n",
              "\n",
              "<div id=\"df-3c050e01-1951-43fa-b733-8c5c0136a4bd\">\n",
              "  <button class=\"colab-df-quickchart\" onclick=\"quickchart('df-3c050e01-1951-43fa-b733-8c5c0136a4bd')\"\n",
              "            title=\"Suggest charts\"\n",
              "            style=\"display:none;\">\n",
              "\n",
              "<svg xmlns=\"http://www.w3.org/2000/svg\" height=\"24px\"viewBox=\"0 0 24 24\"\n",
              "     width=\"24px\">\n",
              "    <g>\n",
              "        <path d=\"M19 3H5c-1.1 0-2 .9-2 2v14c0 1.1.9 2 2 2h14c1.1 0 2-.9 2-2V5c0-1.1-.9-2-2-2zM9 17H7v-7h2v7zm4 0h-2V7h2v10zm4 0h-2v-4h2v4z\"/>\n",
              "    </g>\n",
              "</svg>\n",
              "  </button>\n",
              "\n",
              "<style>\n",
              "  .colab-df-quickchart {\n",
              "      --bg-color: #E8F0FE;\n",
              "      --fill-color: #1967D2;\n",
              "      --hover-bg-color: #E2EBFA;\n",
              "      --hover-fill-color: #174EA6;\n",
              "      --disabled-fill-color: #AAA;\n",
              "      --disabled-bg-color: #DDD;\n",
              "  }\n",
              "\n",
              "  [theme=dark] .colab-df-quickchart {\n",
              "      --bg-color: #3B4455;\n",
              "      --fill-color: #D2E3FC;\n",
              "      --hover-bg-color: #434B5C;\n",
              "      --hover-fill-color: #FFFFFF;\n",
              "      --disabled-bg-color: #3B4455;\n",
              "      --disabled-fill-color: #666;\n",
              "  }\n",
              "\n",
              "  .colab-df-quickchart {\n",
              "    background-color: var(--bg-color);\n",
              "    border: none;\n",
              "    border-radius: 50%;\n",
              "    cursor: pointer;\n",
              "    display: none;\n",
              "    fill: var(--fill-color);\n",
              "    height: 32px;\n",
              "    padding: 0;\n",
              "    width: 32px;\n",
              "  }\n",
              "\n",
              "  .colab-df-quickchart:hover {\n",
              "    background-color: var(--hover-bg-color);\n",
              "    box-shadow: 0 1px 2px rgba(60, 64, 67, 0.3), 0 1px 3px 1px rgba(60, 64, 67, 0.15);\n",
              "    fill: var(--button-hover-fill-color);\n",
              "  }\n",
              "\n",
              "  .colab-df-quickchart-complete:disabled,\n",
              "  .colab-df-quickchart-complete:disabled:hover {\n",
              "    background-color: var(--disabled-bg-color);\n",
              "    fill: var(--disabled-fill-color);\n",
              "    box-shadow: none;\n",
              "  }\n",
              "\n",
              "  .colab-df-spinner {\n",
              "    border: 2px solid var(--fill-color);\n",
              "    border-color: transparent;\n",
              "    border-bottom-color: var(--fill-color);\n",
              "    animation:\n",
              "      spin 1s steps(1) infinite;\n",
              "  }\n",
              "\n",
              "  @keyframes spin {\n",
              "    0% {\n",
              "      border-color: transparent;\n",
              "      border-bottom-color: var(--fill-color);\n",
              "      border-left-color: var(--fill-color);\n",
              "    }\n",
              "    20% {\n",
              "      border-color: transparent;\n",
              "      border-left-color: var(--fill-color);\n",
              "      border-top-color: var(--fill-color);\n",
              "    }\n",
              "    30% {\n",
              "      border-color: transparent;\n",
              "      border-left-color: var(--fill-color);\n",
              "      border-top-color: var(--fill-color);\n",
              "      border-right-color: var(--fill-color);\n",
              "    }\n",
              "    40% {\n",
              "      border-color: transparent;\n",
              "      border-right-color: var(--fill-color);\n",
              "      border-top-color: var(--fill-color);\n",
              "    }\n",
              "    60% {\n",
              "      border-color: transparent;\n",
              "      border-right-color: var(--fill-color);\n",
              "    }\n",
              "    80% {\n",
              "      border-color: transparent;\n",
              "      border-right-color: var(--fill-color);\n",
              "      border-bottom-color: var(--fill-color);\n",
              "    }\n",
              "    90% {\n",
              "      border-color: transparent;\n",
              "      border-bottom-color: var(--fill-color);\n",
              "    }\n",
              "  }\n",
              "</style>\n",
              "\n",
              "  <script>\n",
              "    async function quickchart(key) {\n",
              "      const quickchartButtonEl =\n",
              "        document.querySelector('#' + key + ' button');\n",
              "      quickchartButtonEl.disabled = true;  // To prevent multiple clicks.\n",
              "      quickchartButtonEl.classList.add('colab-df-spinner');\n",
              "      try {\n",
              "        const charts = await google.colab.kernel.invokeFunction(\n",
              "            'suggestCharts', [key], {});\n",
              "      } catch (error) {\n",
              "        console.error('Error during call to suggestCharts:', error);\n",
              "      }\n",
              "      quickchartButtonEl.classList.remove('colab-df-spinner');\n",
              "      quickchartButtonEl.classList.add('colab-df-quickchart-complete');\n",
              "    }\n",
              "    (() => {\n",
              "      let quickchartButtonEl =\n",
              "        document.querySelector('#df-3c050e01-1951-43fa-b733-8c5c0136a4bd button');\n",
              "      quickchartButtonEl.style.display =\n",
              "        google.colab.kernel.accessAllowed ? 'block' : 'none';\n",
              "    })();\n",
              "  </script>\n",
              "</div>\n",
              "\n",
              "  <div id=\"id_d7d48762-df34-4bbe-af8f-11e051da4afd\">\n",
              "    <style>\n",
              "      .colab-df-generate {\n",
              "        background-color: #E8F0FE;\n",
              "        border: none;\n",
              "        border-radius: 50%;\n",
              "        cursor: pointer;\n",
              "        display: none;\n",
              "        fill: #1967D2;\n",
              "        height: 32px;\n",
              "        padding: 0 0 0 0;\n",
              "        width: 32px;\n",
              "      }\n",
              "\n",
              "      .colab-df-generate:hover {\n",
              "        background-color: #E2EBFA;\n",
              "        box-shadow: 0px 1px 2px rgba(60, 64, 67, 0.3), 0px 1px 3px 1px rgba(60, 64, 67, 0.15);\n",
              "        fill: #174EA6;\n",
              "      }\n",
              "\n",
              "      [theme=dark] .colab-df-generate {\n",
              "        background-color: #3B4455;\n",
              "        fill: #D2E3FC;\n",
              "      }\n",
              "\n",
              "      [theme=dark] .colab-df-generate:hover {\n",
              "        background-color: #434B5C;\n",
              "        box-shadow: 0px 1px 3px 1px rgba(0, 0, 0, 0.15);\n",
              "        filter: drop-shadow(0px 1px 2px rgba(0, 0, 0, 0.3));\n",
              "        fill: #FFFFFF;\n",
              "      }\n",
              "    </style>\n",
              "    <button class=\"colab-df-generate\" onclick=\"generateWithVariable('table2')\"\n",
              "            title=\"Generate code using this dataframe.\"\n",
              "            style=\"display:none;\">\n",
              "\n",
              "  <svg xmlns=\"http://www.w3.org/2000/svg\" height=\"24px\"viewBox=\"0 0 24 24\"\n",
              "       width=\"24px\">\n",
              "    <path d=\"M7,19H8.4L18.45,9,17,7.55,7,17.6ZM5,21V16.75L18.45,3.32a2,2,0,0,1,2.83,0l1.4,1.43a1.91,1.91,0,0,1,.58,1.4,1.91,1.91,0,0,1-.58,1.4L9.25,21ZM18.45,9,17,7.55Zm-12,3A5.31,5.31,0,0,0,4.9,8.1,5.31,5.31,0,0,0,1,6.5,5.31,5.31,0,0,0,4.9,4.9,5.31,5.31,0,0,0,6.5,1,5.31,5.31,0,0,0,8.1,4.9,5.31,5.31,0,0,0,12,6.5,5.46,5.46,0,0,0,6.5,12Z\"/>\n",
              "  </svg>\n",
              "    </button>\n",
              "    <script>\n",
              "      (() => {\n",
              "      const buttonEl =\n",
              "        document.querySelector('#id_d7d48762-df34-4bbe-af8f-11e051da4afd button.colab-df-generate');\n",
              "      buttonEl.style.display =\n",
              "        google.colab.kernel.accessAllowed ? 'block' : 'none';\n",
              "\n",
              "      buttonEl.onclick = () => {\n",
              "        google.colab.notebook.generateWithVariable('table2');\n",
              "      }\n",
              "      })();\n",
              "    </script>\n",
              "  </div>\n",
              "\n",
              "    </div>\n",
              "  </div>\n"
            ],
            "application/vnd.google.colaboratory.intrinsic+json": {
              "type": "dataframe",
              "variable_name": "table2",
              "summary": "{\n  \"name\": \"table2\",\n  \"rows\": 9,\n  \"fields\": [\n    {\n      \"column\": \"price\",\n      \"properties\": {\n        \"dtype\": \"category\",\n        \"num_unique_values\": 9,\n        \"samples\": [\n          \"107-122\",\n          \"45-60\",\n          \"91-107\"\n        ],\n        \"semantic_type\": \"\",\n        \"description\": \"\"\n      }\n    },\n    {\n      \"column\": \"frequency\",\n      \"properties\": {\n        \"dtype\": \"number\",\n        \"std\": 2361,\n        \"min\": 531,\n        \"max\": 6051,\n        \"num_unique_values\": 9,\n        \"samples\": [\n          730,\n          6034,\n          1171\n        ],\n        \"semantic_type\": \"\",\n        \"description\": \"\"\n      }\n    }\n  ]\n}"
            }
          },
          "metadata": {},
          "execution_count": 96
        }
      ]
    },
    {
      "cell_type": "code",
      "source": [
        "#Obtengo un filtro de los valores mas relevantes de la variable categorica seleccionada\n",
        "Filtro=table2[table2['frequency']>1]\n",
        "Filtro"
      ],
      "metadata": {
        "colab": {
          "base_uri": "https://localhost:8080/",
          "height": 332
        },
        "id": "fSbXG8GvuJUB",
        "outputId": "e857929a-11af-47b5-fe27-1ec2606edb97"
      },
      "execution_count": 97,
      "outputs": [
        {
          "output_type": "execute_result",
          "data": {
            "text/plain": [
              "     price  frequency\n",
              "0    60-76       6051\n",
              "1    45-60       6034\n",
              "2    29-45       4767\n",
              "3    14-29       4551\n",
              "4    76-91       1878\n",
              "5   91-107       1171\n",
              "6     0-14        823\n",
              "7  107-122        730\n",
              "8  122-138        531"
            ],
            "text/html": [
              "\n",
              "  <div id=\"df-0ea0fe34-8ee0-4e50-80ec-23ef969b2174\" class=\"colab-df-container\">\n",
              "    <div>\n",
              "<style scoped>\n",
              "    .dataframe tbody tr th:only-of-type {\n",
              "        vertical-align: middle;\n",
              "    }\n",
              "\n",
              "    .dataframe tbody tr th {\n",
              "        vertical-align: top;\n",
              "    }\n",
              "\n",
              "    .dataframe thead th {\n",
              "        text-align: right;\n",
              "    }\n",
              "</style>\n",
              "<table border=\"1\" class=\"dataframe\">\n",
              "  <thead>\n",
              "    <tr style=\"text-align: right;\">\n",
              "      <th></th>\n",
              "      <th>price</th>\n",
              "      <th>frequency</th>\n",
              "    </tr>\n",
              "  </thead>\n",
              "  <tbody>\n",
              "    <tr>\n",
              "      <th>0</th>\n",
              "      <td>60-76</td>\n",
              "      <td>6051</td>\n",
              "    </tr>\n",
              "    <tr>\n",
              "      <th>1</th>\n",
              "      <td>45-60</td>\n",
              "      <td>6034</td>\n",
              "    </tr>\n",
              "    <tr>\n",
              "      <th>2</th>\n",
              "      <td>29-45</td>\n",
              "      <td>4767</td>\n",
              "    </tr>\n",
              "    <tr>\n",
              "      <th>3</th>\n",
              "      <td>14-29</td>\n",
              "      <td>4551</td>\n",
              "    </tr>\n",
              "    <tr>\n",
              "      <th>4</th>\n",
              "      <td>76-91</td>\n",
              "      <td>1878</td>\n",
              "    </tr>\n",
              "    <tr>\n",
              "      <th>5</th>\n",
              "      <td>91-107</td>\n",
              "      <td>1171</td>\n",
              "    </tr>\n",
              "    <tr>\n",
              "      <th>6</th>\n",
              "      <td>0-14</td>\n",
              "      <td>823</td>\n",
              "    </tr>\n",
              "    <tr>\n",
              "      <th>7</th>\n",
              "      <td>107-122</td>\n",
              "      <td>730</td>\n",
              "    </tr>\n",
              "    <tr>\n",
              "      <th>8</th>\n",
              "      <td>122-138</td>\n",
              "      <td>531</td>\n",
              "    </tr>\n",
              "  </tbody>\n",
              "</table>\n",
              "</div>\n",
              "    <div class=\"colab-df-buttons\">\n",
              "\n",
              "  <div class=\"colab-df-container\">\n",
              "    <button class=\"colab-df-convert\" onclick=\"convertToInteractive('df-0ea0fe34-8ee0-4e50-80ec-23ef969b2174')\"\n",
              "            title=\"Convert this dataframe to an interactive table.\"\n",
              "            style=\"display:none;\">\n",
              "\n",
              "  <svg xmlns=\"http://www.w3.org/2000/svg\" height=\"24px\" viewBox=\"0 -960 960 960\">\n",
              "    <path d=\"M120-120v-720h720v720H120Zm60-500h600v-160H180v160Zm220 220h160v-160H400v160Zm0 220h160v-160H400v160ZM180-400h160v-160H180v160Zm440 0h160v-160H620v160ZM180-180h160v-160H180v160Zm440 0h160v-160H620v160Z\"/>\n",
              "  </svg>\n",
              "    </button>\n",
              "\n",
              "  <style>\n",
              "    .colab-df-container {\n",
              "      display:flex;\n",
              "      gap: 12px;\n",
              "    }\n",
              "\n",
              "    .colab-df-convert {\n",
              "      background-color: #E8F0FE;\n",
              "      border: none;\n",
              "      border-radius: 50%;\n",
              "      cursor: pointer;\n",
              "      display: none;\n",
              "      fill: #1967D2;\n",
              "      height: 32px;\n",
              "      padding: 0 0 0 0;\n",
              "      width: 32px;\n",
              "    }\n",
              "\n",
              "    .colab-df-convert:hover {\n",
              "      background-color: #E2EBFA;\n",
              "      box-shadow: 0px 1px 2px rgba(60, 64, 67, 0.3), 0px 1px 3px 1px rgba(60, 64, 67, 0.15);\n",
              "      fill: #174EA6;\n",
              "    }\n",
              "\n",
              "    .colab-df-buttons div {\n",
              "      margin-bottom: 4px;\n",
              "    }\n",
              "\n",
              "    [theme=dark] .colab-df-convert {\n",
              "      background-color: #3B4455;\n",
              "      fill: #D2E3FC;\n",
              "    }\n",
              "\n",
              "    [theme=dark] .colab-df-convert:hover {\n",
              "      background-color: #434B5C;\n",
              "      box-shadow: 0px 1px 3px 1px rgba(0, 0, 0, 0.15);\n",
              "      filter: drop-shadow(0px 1px 2px rgba(0, 0, 0, 0.3));\n",
              "      fill: #FFFFFF;\n",
              "    }\n",
              "  </style>\n",
              "\n",
              "    <script>\n",
              "      const buttonEl =\n",
              "        document.querySelector('#df-0ea0fe34-8ee0-4e50-80ec-23ef969b2174 button.colab-df-convert');\n",
              "      buttonEl.style.display =\n",
              "        google.colab.kernel.accessAllowed ? 'block' : 'none';\n",
              "\n",
              "      async function convertToInteractive(key) {\n",
              "        const element = document.querySelector('#df-0ea0fe34-8ee0-4e50-80ec-23ef969b2174');\n",
              "        const dataTable =\n",
              "          await google.colab.kernel.invokeFunction('convertToInteractive',\n",
              "                                                    [key], {});\n",
              "        if (!dataTable) return;\n",
              "\n",
              "        const docLinkHtml = 'Like what you see? Visit the ' +\n",
              "          '<a target=\"_blank\" href=https://colab.research.google.com/notebooks/data_table.ipynb>data table notebook</a>'\n",
              "          + ' to learn more about interactive tables.';\n",
              "        element.innerHTML = '';\n",
              "        dataTable['output_type'] = 'display_data';\n",
              "        await google.colab.output.renderOutput(dataTable, element);\n",
              "        const docLink = document.createElement('div');\n",
              "        docLink.innerHTML = docLinkHtml;\n",
              "        element.appendChild(docLink);\n",
              "      }\n",
              "    </script>\n",
              "  </div>\n",
              "\n",
              "\n",
              "<div id=\"df-705ef346-f93f-489f-8c82-dbe8bc500cc0\">\n",
              "  <button class=\"colab-df-quickchart\" onclick=\"quickchart('df-705ef346-f93f-489f-8c82-dbe8bc500cc0')\"\n",
              "            title=\"Suggest charts\"\n",
              "            style=\"display:none;\">\n",
              "\n",
              "<svg xmlns=\"http://www.w3.org/2000/svg\" height=\"24px\"viewBox=\"0 0 24 24\"\n",
              "     width=\"24px\">\n",
              "    <g>\n",
              "        <path d=\"M19 3H5c-1.1 0-2 .9-2 2v14c0 1.1.9 2 2 2h14c1.1 0 2-.9 2-2V5c0-1.1-.9-2-2-2zM9 17H7v-7h2v7zm4 0h-2V7h2v10zm4 0h-2v-4h2v4z\"/>\n",
              "    </g>\n",
              "</svg>\n",
              "  </button>\n",
              "\n",
              "<style>\n",
              "  .colab-df-quickchart {\n",
              "      --bg-color: #E8F0FE;\n",
              "      --fill-color: #1967D2;\n",
              "      --hover-bg-color: #E2EBFA;\n",
              "      --hover-fill-color: #174EA6;\n",
              "      --disabled-fill-color: #AAA;\n",
              "      --disabled-bg-color: #DDD;\n",
              "  }\n",
              "\n",
              "  [theme=dark] .colab-df-quickchart {\n",
              "      --bg-color: #3B4455;\n",
              "      --fill-color: #D2E3FC;\n",
              "      --hover-bg-color: #434B5C;\n",
              "      --hover-fill-color: #FFFFFF;\n",
              "      --disabled-bg-color: #3B4455;\n",
              "      --disabled-fill-color: #666;\n",
              "  }\n",
              "\n",
              "  .colab-df-quickchart {\n",
              "    background-color: var(--bg-color);\n",
              "    border: none;\n",
              "    border-radius: 50%;\n",
              "    cursor: pointer;\n",
              "    display: none;\n",
              "    fill: var(--fill-color);\n",
              "    height: 32px;\n",
              "    padding: 0;\n",
              "    width: 32px;\n",
              "  }\n",
              "\n",
              "  .colab-df-quickchart:hover {\n",
              "    background-color: var(--hover-bg-color);\n",
              "    box-shadow: 0 1px 2px rgba(60, 64, 67, 0.3), 0 1px 3px 1px rgba(60, 64, 67, 0.15);\n",
              "    fill: var(--button-hover-fill-color);\n",
              "  }\n",
              "\n",
              "  .colab-df-quickchart-complete:disabled,\n",
              "  .colab-df-quickchart-complete:disabled:hover {\n",
              "    background-color: var(--disabled-bg-color);\n",
              "    fill: var(--disabled-fill-color);\n",
              "    box-shadow: none;\n",
              "  }\n",
              "\n",
              "  .colab-df-spinner {\n",
              "    border: 2px solid var(--fill-color);\n",
              "    border-color: transparent;\n",
              "    border-bottom-color: var(--fill-color);\n",
              "    animation:\n",
              "      spin 1s steps(1) infinite;\n",
              "  }\n",
              "\n",
              "  @keyframes spin {\n",
              "    0% {\n",
              "      border-color: transparent;\n",
              "      border-bottom-color: var(--fill-color);\n",
              "      border-left-color: var(--fill-color);\n",
              "    }\n",
              "    20% {\n",
              "      border-color: transparent;\n",
              "      border-left-color: var(--fill-color);\n",
              "      border-top-color: var(--fill-color);\n",
              "    }\n",
              "    30% {\n",
              "      border-color: transparent;\n",
              "      border-left-color: var(--fill-color);\n",
              "      border-top-color: var(--fill-color);\n",
              "      border-right-color: var(--fill-color);\n",
              "    }\n",
              "    40% {\n",
              "      border-color: transparent;\n",
              "      border-right-color: var(--fill-color);\n",
              "      border-top-color: var(--fill-color);\n",
              "    }\n",
              "    60% {\n",
              "      border-color: transparent;\n",
              "      border-right-color: var(--fill-color);\n",
              "    }\n",
              "    80% {\n",
              "      border-color: transparent;\n",
              "      border-right-color: var(--fill-color);\n",
              "      border-bottom-color: var(--fill-color);\n",
              "    }\n",
              "    90% {\n",
              "      border-color: transparent;\n",
              "      border-bottom-color: var(--fill-color);\n",
              "    }\n",
              "  }\n",
              "</style>\n",
              "\n",
              "  <script>\n",
              "    async function quickchart(key) {\n",
              "      const quickchartButtonEl =\n",
              "        document.querySelector('#' + key + ' button');\n",
              "      quickchartButtonEl.disabled = true;  // To prevent multiple clicks.\n",
              "      quickchartButtonEl.classList.add('colab-df-spinner');\n",
              "      try {\n",
              "        const charts = await google.colab.kernel.invokeFunction(\n",
              "            'suggestCharts', [key], {});\n",
              "      } catch (error) {\n",
              "        console.error('Error during call to suggestCharts:', error);\n",
              "      }\n",
              "      quickchartButtonEl.classList.remove('colab-df-spinner');\n",
              "      quickchartButtonEl.classList.add('colab-df-quickchart-complete');\n",
              "    }\n",
              "    (() => {\n",
              "      let quickchartButtonEl =\n",
              "        document.querySelector('#df-705ef346-f93f-489f-8c82-dbe8bc500cc0 button');\n",
              "      quickchartButtonEl.style.display =\n",
              "        google.colab.kernel.accessAllowed ? 'block' : 'none';\n",
              "    })();\n",
              "  </script>\n",
              "</div>\n",
              "\n",
              "  <div id=\"id_2dd710a3-0e65-48d5-8951-394474884ebf\">\n",
              "    <style>\n",
              "      .colab-df-generate {\n",
              "        background-color: #E8F0FE;\n",
              "        border: none;\n",
              "        border-radius: 50%;\n",
              "        cursor: pointer;\n",
              "        display: none;\n",
              "        fill: #1967D2;\n",
              "        height: 32px;\n",
              "        padding: 0 0 0 0;\n",
              "        width: 32px;\n",
              "      }\n",
              "\n",
              "      .colab-df-generate:hover {\n",
              "        background-color: #E2EBFA;\n",
              "        box-shadow: 0px 1px 2px rgba(60, 64, 67, 0.3), 0px 1px 3px 1px rgba(60, 64, 67, 0.15);\n",
              "        fill: #174EA6;\n",
              "      }\n",
              "\n",
              "      [theme=dark] .colab-df-generate {\n",
              "        background-color: #3B4455;\n",
              "        fill: #D2E3FC;\n",
              "      }\n",
              "\n",
              "      [theme=dark] .colab-df-generate:hover {\n",
              "        background-color: #434B5C;\n",
              "        box-shadow: 0px 1px 3px 1px rgba(0, 0, 0, 0.15);\n",
              "        filter: drop-shadow(0px 1px 2px rgba(0, 0, 0, 0.3));\n",
              "        fill: #FFFFFF;\n",
              "      }\n",
              "    </style>\n",
              "    <button class=\"colab-df-generate\" onclick=\"generateWithVariable('Filtro')\"\n",
              "            title=\"Generate code using this dataframe.\"\n",
              "            style=\"display:none;\">\n",
              "\n",
              "  <svg xmlns=\"http://www.w3.org/2000/svg\" height=\"24px\"viewBox=\"0 0 24 24\"\n",
              "       width=\"24px\">\n",
              "    <path d=\"M7,19H8.4L18.45,9,17,7.55,7,17.6ZM5,21V16.75L18.45,3.32a2,2,0,0,1,2.83,0l1.4,1.43a1.91,1.91,0,0,1,.58,1.4,1.91,1.91,0,0,1-.58,1.4L9.25,21ZM18.45,9,17,7.55Zm-12,3A5.31,5.31,0,0,0,4.9,8.1,5.31,5.31,0,0,0,1,6.5,5.31,5.31,0,0,0,4.9,4.9,5.31,5.31,0,0,0,6.5,1,5.31,5.31,0,0,0,8.1,4.9,5.31,5.31,0,0,0,12,6.5,5.46,5.46,0,0,0,6.5,12Z\"/>\n",
              "  </svg>\n",
              "    </button>\n",
              "    <script>\n",
              "      (() => {\n",
              "      const buttonEl =\n",
              "        document.querySelector('#id_2dd710a3-0e65-48d5-8951-394474884ebf button.colab-df-generate');\n",
              "      buttonEl.style.display =\n",
              "        google.colab.kernel.accessAllowed ? 'block' : 'none';\n",
              "\n",
              "      buttonEl.onclick = () => {\n",
              "        google.colab.notebook.generateWithVariable('Filtro');\n",
              "      }\n",
              "      })();\n",
              "    </script>\n",
              "  </div>\n",
              "\n",
              "    </div>\n",
              "  </div>\n"
            ],
            "application/vnd.google.colaboratory.intrinsic+json": {
              "type": "dataframe",
              "variable_name": "Filtro",
              "summary": "{\n  \"name\": \"Filtro\",\n  \"rows\": 9,\n  \"fields\": [\n    {\n      \"column\": \"price\",\n      \"properties\": {\n        \"dtype\": \"category\",\n        \"num_unique_values\": 9,\n        \"samples\": [\n          \"107-122\",\n          \"45-60\",\n          \"91-107\"\n        ],\n        \"semantic_type\": \"\",\n        \"description\": \"\"\n      }\n    },\n    {\n      \"column\": \"frequency\",\n      \"properties\": {\n        \"dtype\": \"number\",\n        \"std\": 2361,\n        \"min\": 531,\n        \"max\": 6051,\n        \"num_unique_values\": 9,\n        \"samples\": [\n          730,\n          6034,\n          1171\n        ],\n        \"semantic_type\": \"\",\n        \"description\": \"\"\n      }\n    }\n  ]\n}"
            }
          },
          "metadata": {},
          "execution_count": 97
        }
      ]
    },
    {
      "cell_type": "code",
      "source": [
        "#Ajusto el indice de mi DF\n",
        "Filtro_index=Filtro.set_index('price')\n",
        "Filtro_index"
      ],
      "metadata": {
        "colab": {
          "base_uri": "https://localhost:8080/",
          "height": 363
        },
        "id": "VptmfOsyuaLy",
        "outputId": "62e98ece-0113-402f-9122-1fb69d62c834"
      },
      "execution_count": 98,
      "outputs": [
        {
          "output_type": "execute_result",
          "data": {
            "text/plain": [
              "         frequency\n",
              "price             \n",
              "60-76         6051\n",
              "45-60         6034\n",
              "29-45         4767\n",
              "14-29         4551\n",
              "76-91         1878\n",
              "91-107        1171\n",
              "0-14           823\n",
              "107-122        730\n",
              "122-138        531"
            ],
            "text/html": [
              "\n",
              "  <div id=\"df-c5fa01b3-6c44-4866-8e4f-7a7d2c16658a\" class=\"colab-df-container\">\n",
              "    <div>\n",
              "<style scoped>\n",
              "    .dataframe tbody tr th:only-of-type {\n",
              "        vertical-align: middle;\n",
              "    }\n",
              "\n",
              "    .dataframe tbody tr th {\n",
              "        vertical-align: top;\n",
              "    }\n",
              "\n",
              "    .dataframe thead th {\n",
              "        text-align: right;\n",
              "    }\n",
              "</style>\n",
              "<table border=\"1\" class=\"dataframe\">\n",
              "  <thead>\n",
              "    <tr style=\"text-align: right;\">\n",
              "      <th></th>\n",
              "      <th>frequency</th>\n",
              "    </tr>\n",
              "    <tr>\n",
              "      <th>price</th>\n",
              "      <th></th>\n",
              "    </tr>\n",
              "  </thead>\n",
              "  <tbody>\n",
              "    <tr>\n",
              "      <th>60-76</th>\n",
              "      <td>6051</td>\n",
              "    </tr>\n",
              "    <tr>\n",
              "      <th>45-60</th>\n",
              "      <td>6034</td>\n",
              "    </tr>\n",
              "    <tr>\n",
              "      <th>29-45</th>\n",
              "      <td>4767</td>\n",
              "    </tr>\n",
              "    <tr>\n",
              "      <th>14-29</th>\n",
              "      <td>4551</td>\n",
              "    </tr>\n",
              "    <tr>\n",
              "      <th>76-91</th>\n",
              "      <td>1878</td>\n",
              "    </tr>\n",
              "    <tr>\n",
              "      <th>91-107</th>\n",
              "      <td>1171</td>\n",
              "    </tr>\n",
              "    <tr>\n",
              "      <th>0-14</th>\n",
              "      <td>823</td>\n",
              "    </tr>\n",
              "    <tr>\n",
              "      <th>107-122</th>\n",
              "      <td>730</td>\n",
              "    </tr>\n",
              "    <tr>\n",
              "      <th>122-138</th>\n",
              "      <td>531</td>\n",
              "    </tr>\n",
              "  </tbody>\n",
              "</table>\n",
              "</div>\n",
              "    <div class=\"colab-df-buttons\">\n",
              "\n",
              "  <div class=\"colab-df-container\">\n",
              "    <button class=\"colab-df-convert\" onclick=\"convertToInteractive('df-c5fa01b3-6c44-4866-8e4f-7a7d2c16658a')\"\n",
              "            title=\"Convert this dataframe to an interactive table.\"\n",
              "            style=\"display:none;\">\n",
              "\n",
              "  <svg xmlns=\"http://www.w3.org/2000/svg\" height=\"24px\" viewBox=\"0 -960 960 960\">\n",
              "    <path d=\"M120-120v-720h720v720H120Zm60-500h600v-160H180v160Zm220 220h160v-160H400v160Zm0 220h160v-160H400v160ZM180-400h160v-160H180v160Zm440 0h160v-160H620v160ZM180-180h160v-160H180v160Zm440 0h160v-160H620v160Z\"/>\n",
              "  </svg>\n",
              "    </button>\n",
              "\n",
              "  <style>\n",
              "    .colab-df-container {\n",
              "      display:flex;\n",
              "      gap: 12px;\n",
              "    }\n",
              "\n",
              "    .colab-df-convert {\n",
              "      background-color: #E8F0FE;\n",
              "      border: none;\n",
              "      border-radius: 50%;\n",
              "      cursor: pointer;\n",
              "      display: none;\n",
              "      fill: #1967D2;\n",
              "      height: 32px;\n",
              "      padding: 0 0 0 0;\n",
              "      width: 32px;\n",
              "    }\n",
              "\n",
              "    .colab-df-convert:hover {\n",
              "      background-color: #E2EBFA;\n",
              "      box-shadow: 0px 1px 2px rgba(60, 64, 67, 0.3), 0px 1px 3px 1px rgba(60, 64, 67, 0.15);\n",
              "      fill: #174EA6;\n",
              "    }\n",
              "\n",
              "    .colab-df-buttons div {\n",
              "      margin-bottom: 4px;\n",
              "    }\n",
              "\n",
              "    [theme=dark] .colab-df-convert {\n",
              "      background-color: #3B4455;\n",
              "      fill: #D2E3FC;\n",
              "    }\n",
              "\n",
              "    [theme=dark] .colab-df-convert:hover {\n",
              "      background-color: #434B5C;\n",
              "      box-shadow: 0px 1px 3px 1px rgba(0, 0, 0, 0.15);\n",
              "      filter: drop-shadow(0px 1px 2px rgba(0, 0, 0, 0.3));\n",
              "      fill: #FFFFFF;\n",
              "    }\n",
              "  </style>\n",
              "\n",
              "    <script>\n",
              "      const buttonEl =\n",
              "        document.querySelector('#df-c5fa01b3-6c44-4866-8e4f-7a7d2c16658a button.colab-df-convert');\n",
              "      buttonEl.style.display =\n",
              "        google.colab.kernel.accessAllowed ? 'block' : 'none';\n",
              "\n",
              "      async function convertToInteractive(key) {\n",
              "        const element = document.querySelector('#df-c5fa01b3-6c44-4866-8e4f-7a7d2c16658a');\n",
              "        const dataTable =\n",
              "          await google.colab.kernel.invokeFunction('convertToInteractive',\n",
              "                                                    [key], {});\n",
              "        if (!dataTable) return;\n",
              "\n",
              "        const docLinkHtml = 'Like what you see? Visit the ' +\n",
              "          '<a target=\"_blank\" href=https://colab.research.google.com/notebooks/data_table.ipynb>data table notebook</a>'\n",
              "          + ' to learn more about interactive tables.';\n",
              "        element.innerHTML = '';\n",
              "        dataTable['output_type'] = 'display_data';\n",
              "        await google.colab.output.renderOutput(dataTable, element);\n",
              "        const docLink = document.createElement('div');\n",
              "        docLink.innerHTML = docLinkHtml;\n",
              "        element.appendChild(docLink);\n",
              "      }\n",
              "    </script>\n",
              "  </div>\n",
              "\n",
              "\n",
              "<div id=\"df-b46d39de-3119-478c-b195-f2b0113f3cff\">\n",
              "  <button class=\"colab-df-quickchart\" onclick=\"quickchart('df-b46d39de-3119-478c-b195-f2b0113f3cff')\"\n",
              "            title=\"Suggest charts\"\n",
              "            style=\"display:none;\">\n",
              "\n",
              "<svg xmlns=\"http://www.w3.org/2000/svg\" height=\"24px\"viewBox=\"0 0 24 24\"\n",
              "     width=\"24px\">\n",
              "    <g>\n",
              "        <path d=\"M19 3H5c-1.1 0-2 .9-2 2v14c0 1.1.9 2 2 2h14c1.1 0 2-.9 2-2V5c0-1.1-.9-2-2-2zM9 17H7v-7h2v7zm4 0h-2V7h2v10zm4 0h-2v-4h2v4z\"/>\n",
              "    </g>\n",
              "</svg>\n",
              "  </button>\n",
              "\n",
              "<style>\n",
              "  .colab-df-quickchart {\n",
              "      --bg-color: #E8F0FE;\n",
              "      --fill-color: #1967D2;\n",
              "      --hover-bg-color: #E2EBFA;\n",
              "      --hover-fill-color: #174EA6;\n",
              "      --disabled-fill-color: #AAA;\n",
              "      --disabled-bg-color: #DDD;\n",
              "  }\n",
              "\n",
              "  [theme=dark] .colab-df-quickchart {\n",
              "      --bg-color: #3B4455;\n",
              "      --fill-color: #D2E3FC;\n",
              "      --hover-bg-color: #434B5C;\n",
              "      --hover-fill-color: #FFFFFF;\n",
              "      --disabled-bg-color: #3B4455;\n",
              "      --disabled-fill-color: #666;\n",
              "  }\n",
              "\n",
              "  .colab-df-quickchart {\n",
              "    background-color: var(--bg-color);\n",
              "    border: none;\n",
              "    border-radius: 50%;\n",
              "    cursor: pointer;\n",
              "    display: none;\n",
              "    fill: var(--fill-color);\n",
              "    height: 32px;\n",
              "    padding: 0;\n",
              "    width: 32px;\n",
              "  }\n",
              "\n",
              "  .colab-df-quickchart:hover {\n",
              "    background-color: var(--hover-bg-color);\n",
              "    box-shadow: 0 1px 2px rgba(60, 64, 67, 0.3), 0 1px 3px 1px rgba(60, 64, 67, 0.15);\n",
              "    fill: var(--button-hover-fill-color);\n",
              "  }\n",
              "\n",
              "  .colab-df-quickchart-complete:disabled,\n",
              "  .colab-df-quickchart-complete:disabled:hover {\n",
              "    background-color: var(--disabled-bg-color);\n",
              "    fill: var(--disabled-fill-color);\n",
              "    box-shadow: none;\n",
              "  }\n",
              "\n",
              "  .colab-df-spinner {\n",
              "    border: 2px solid var(--fill-color);\n",
              "    border-color: transparent;\n",
              "    border-bottom-color: var(--fill-color);\n",
              "    animation:\n",
              "      spin 1s steps(1) infinite;\n",
              "  }\n",
              "\n",
              "  @keyframes spin {\n",
              "    0% {\n",
              "      border-color: transparent;\n",
              "      border-bottom-color: var(--fill-color);\n",
              "      border-left-color: var(--fill-color);\n",
              "    }\n",
              "    20% {\n",
              "      border-color: transparent;\n",
              "      border-left-color: var(--fill-color);\n",
              "      border-top-color: var(--fill-color);\n",
              "    }\n",
              "    30% {\n",
              "      border-color: transparent;\n",
              "      border-left-color: var(--fill-color);\n",
              "      border-top-color: var(--fill-color);\n",
              "      border-right-color: var(--fill-color);\n",
              "    }\n",
              "    40% {\n",
              "      border-color: transparent;\n",
              "      border-right-color: var(--fill-color);\n",
              "      border-top-color: var(--fill-color);\n",
              "    }\n",
              "    60% {\n",
              "      border-color: transparent;\n",
              "      border-right-color: var(--fill-color);\n",
              "    }\n",
              "    80% {\n",
              "      border-color: transparent;\n",
              "      border-right-color: var(--fill-color);\n",
              "      border-bottom-color: var(--fill-color);\n",
              "    }\n",
              "    90% {\n",
              "      border-color: transparent;\n",
              "      border-bottom-color: var(--fill-color);\n",
              "    }\n",
              "  }\n",
              "</style>\n",
              "\n",
              "  <script>\n",
              "    async function quickchart(key) {\n",
              "      const quickchartButtonEl =\n",
              "        document.querySelector('#' + key + ' button');\n",
              "      quickchartButtonEl.disabled = true;  // To prevent multiple clicks.\n",
              "      quickchartButtonEl.classList.add('colab-df-spinner');\n",
              "      try {\n",
              "        const charts = await google.colab.kernel.invokeFunction(\n",
              "            'suggestCharts', [key], {});\n",
              "      } catch (error) {\n",
              "        console.error('Error during call to suggestCharts:', error);\n",
              "      }\n",
              "      quickchartButtonEl.classList.remove('colab-df-spinner');\n",
              "      quickchartButtonEl.classList.add('colab-df-quickchart-complete');\n",
              "    }\n",
              "    (() => {\n",
              "      let quickchartButtonEl =\n",
              "        document.querySelector('#df-b46d39de-3119-478c-b195-f2b0113f3cff button');\n",
              "      quickchartButtonEl.style.display =\n",
              "        google.colab.kernel.accessAllowed ? 'block' : 'none';\n",
              "    })();\n",
              "  </script>\n",
              "</div>\n",
              "\n",
              "  <div id=\"id_af459c5b-23a8-4afa-845a-41fd016f9096\">\n",
              "    <style>\n",
              "      .colab-df-generate {\n",
              "        background-color: #E8F0FE;\n",
              "        border: none;\n",
              "        border-radius: 50%;\n",
              "        cursor: pointer;\n",
              "        display: none;\n",
              "        fill: #1967D2;\n",
              "        height: 32px;\n",
              "        padding: 0 0 0 0;\n",
              "        width: 32px;\n",
              "      }\n",
              "\n",
              "      .colab-df-generate:hover {\n",
              "        background-color: #E2EBFA;\n",
              "        box-shadow: 0px 1px 2px rgba(60, 64, 67, 0.3), 0px 1px 3px 1px rgba(60, 64, 67, 0.15);\n",
              "        fill: #174EA6;\n",
              "      }\n",
              "\n",
              "      [theme=dark] .colab-df-generate {\n",
              "        background-color: #3B4455;\n",
              "        fill: #D2E3FC;\n",
              "      }\n",
              "\n",
              "      [theme=dark] .colab-df-generate:hover {\n",
              "        background-color: #434B5C;\n",
              "        box-shadow: 0px 1px 3px 1px rgba(0, 0, 0, 0.15);\n",
              "        filter: drop-shadow(0px 1px 2px rgba(0, 0, 0, 0.3));\n",
              "        fill: #FFFFFF;\n",
              "      }\n",
              "    </style>\n",
              "    <button class=\"colab-df-generate\" onclick=\"generateWithVariable('Filtro_index')\"\n",
              "            title=\"Generate code using this dataframe.\"\n",
              "            style=\"display:none;\">\n",
              "\n",
              "  <svg xmlns=\"http://www.w3.org/2000/svg\" height=\"24px\"viewBox=\"0 0 24 24\"\n",
              "       width=\"24px\">\n",
              "    <path d=\"M7,19H8.4L18.45,9,17,7.55,7,17.6ZM5,21V16.75L18.45,3.32a2,2,0,0,1,2.83,0l1.4,1.43a1.91,1.91,0,0,1,.58,1.4,1.91,1.91,0,0,1-.58,1.4L9.25,21ZM18.45,9,17,7.55Zm-12,3A5.31,5.31,0,0,0,4.9,8.1,5.31,5.31,0,0,0,1,6.5,5.31,5.31,0,0,0,4.9,4.9,5.31,5.31,0,0,0,6.5,1,5.31,5.31,0,0,0,8.1,4.9,5.31,5.31,0,0,0,12,6.5,5.46,5.46,0,0,0,6.5,12Z\"/>\n",
              "  </svg>\n",
              "    </button>\n",
              "    <script>\n",
              "      (() => {\n",
              "      const buttonEl =\n",
              "        document.querySelector('#id_af459c5b-23a8-4afa-845a-41fd016f9096 button.colab-df-generate');\n",
              "      buttonEl.style.display =\n",
              "        google.colab.kernel.accessAllowed ? 'block' : 'none';\n",
              "\n",
              "      buttonEl.onclick = () => {\n",
              "        google.colab.notebook.generateWithVariable('Filtro_index');\n",
              "      }\n",
              "      })();\n",
              "    </script>\n",
              "  </div>\n",
              "\n",
              "    </div>\n",
              "  </div>\n"
            ],
            "application/vnd.google.colaboratory.intrinsic+json": {
              "type": "dataframe",
              "variable_name": "Filtro_index",
              "summary": "{\n  \"name\": \"Filtro_index\",\n  \"rows\": 9,\n  \"fields\": [\n    {\n      \"column\": \"price\",\n      \"properties\": {\n        \"dtype\": \"category\",\n        \"num_unique_values\": 9,\n        \"samples\": [\n          \"107-122\",\n          \"45-60\",\n          \"91-107\"\n        ],\n        \"semantic_type\": \"\",\n        \"description\": \"\"\n      }\n    },\n    {\n      \"column\": \"frequency\",\n      \"properties\": {\n        \"dtype\": \"number\",\n        \"std\": 2361,\n        \"min\": 531,\n        \"max\": 6051,\n        \"num_unique_values\": 9,\n        \"samples\": [\n          730,\n          6034,\n          1171\n        ],\n        \"semantic_type\": \"\",\n        \"description\": \"\"\n      }\n    }\n  ]\n}"
            }
          },
          "metadata": {},
          "execution_count": 98
        }
      ]
    },
    {
      "cell_type": "code",
      "source": [
        "#Realizamos grafico de barras del DF filtrado\n",
        "Filtro_index.plot(kind='bar',width=0.8,figsize=(10,4))\n",
        "plt.title('Precio en USD vs frecuencias')\n",
        "plt.xlabel('Rango de precios')\n",
        "plt.ylabel('Frecuencia')"
      ],
      "metadata": {
        "colab": {
          "base_uri": "https://localhost:8080/",
          "height": 472
        },
        "id": "PklueThIuyNz",
        "outputId": "21408c6f-aa3e-4208-b127-077fbe1e407f"
      },
      "execution_count": 99,
      "outputs": [
        {
          "output_type": "execute_result",
          "data": {
            "text/plain": [
              "Text(0, 0.5, 'Frecuencia')"
            ]
          },
          "metadata": {},
          "execution_count": 99
        },
        {
          "output_type": "display_data",
          "data": {
            "text/plain": [
              "<Figure size 1000x400 with 1 Axes>"
            ],
            "image/png": "[encoded data removed]"
          },
          "metadata": {}
        }
      ]
    },
    {
      "cell_type": "code",
      "source": [
        "#Realizamos grafico de dispercion del DF filtrado\n",
        "table1.plot('frequency','cumulative_perc',kind='scatter')"
      ],
      "metadata": {
        "colab": {
          "base_uri": "https://localhost:8080/",
          "height": 467
        },
        "id": "f9KJyH79wXKV",
        "outputId": "5fbd5bdc-2f3a-4112-cff6-a2486c5bd682"
      },
      "execution_count": 100,
      "outputs": [
        {
          "output_type": "execute_result",
          "data": {
            "text/plain": [
              "<Axes: xlabel='frequency', ylabel='cumulative_perc'>"
            ]
          },
          "metadata": {},
          "execution_count": 100
        },
        {
          "output_type": "display_data",
          "data": {
            "text/plain": [
              "<Figure size 640x480 with 1 Axes>"
            ],
            "image/png": "[encoded data removed]"
          },
          "metadata": {}
        }
      ]
    },
    {
      "cell_type": "code",
      "source": [
        "#Realoizamos grafico de area del DF filtrado\n",
        "Filtro_index.plot(kind='area',figsize=(10,4),alpha=0.5)"
      ],
      "metadata": {
        "colab": {
          "base_uri": "https://localhost:8080/",
          "height": 406
        },
        "id": "4Ua7Im5bwxNj",
        "outputId": "ec9c4b51-5394-4918-a1f9-7641007d2286"
      },
      "execution_count": 101,
      "outputs": [
        {
          "output_type": "execute_result",
          "data": {
            "text/plain": [
              "<Axes: xlabel='price'>"
            ]
          },
          "metadata": {},
          "execution_count": 101
        },
        {
          "output_type": "display_data",
          "data": {
            "text/plain": [
              "<Figure size 1000x400 with 1 Axes>"
            ],
            "image/png": "[encoded data removed]"
          },
          "metadata": {}
        }
      ]
    },
    {
      "cell_type": "code",
      "source": [
        "#Realizamos grafico de pastel del DF filtrado\n",
        "Filtro_index['frequency'].plot(kind='pie',figsize=(10,5),shadow=True,autopct=\"%0.1f %%\")\n",
        "plt.title('Precio en USD vs frecuencias')\n",
        "plt.xlabel('Rango de precios')\n",
        "plt.ylabel('Frecuencia')"
      ],
      "metadata": {
        "colab": {
          "base_uri": "https://localhost:8080/",
          "height": 481
        },
        "id": "yV9rhVw9xoRz",
        "outputId": "4b0700ac-f713-4e7b-bc8b-0af7a1375639"
      },
      "execution_count": 102,
      "outputs": [
        {
          "output_type": "execute_result",
          "data": {
            "text/plain": [
              "Text(0, 0.5, 'Frecuencia')"
            ]
          },
          "metadata": {},
          "execution_count": 102
        },
        {
          "output_type": "display_data",
          "data": {
            "text/plain": [
              "<Figure size 1000x500 with 1 Axes>"
            ],
            "image/png": "[encoded data removed]"
          },
          "metadata": {}
        }
      ]
    },
    {
      "cell_type": "code",
      "source": [
        "#Realizamos grafico hexagonal del DF filtrado, alternativo al scatter plot\n",
        "table1.plot.hexbin('frequency','cumulative_perc',figsize=(10,5))"
      ],
      "metadata": {
        "colab": {
          "base_uri": "https://localhost:8080/",
          "height": 488
        },
        "id": "ZHnu0qBXyKpc",
        "outputId": "e2bf49c3-0377-4589-b059-ecb6bf627a82"
      },
      "execution_count": 103,
      "outputs": [
        {
          "output_type": "execute_result",
          "data": {
            "text/plain": [
              "<Axes: xlabel='frequency', ylabel='cumulative_perc'>"
            ]
          },
          "metadata": {},
          "execution_count": 103
        },
        {
          "output_type": "display_data",
          "data": {
            "text/plain": [
              "<Figure size 1000x500 with 2 Axes>"
            ],
            "image/png": "[encoded data removed]"
          },
          "metadata": {}
        }
      ]
    },
    {
      "cell_type": "markdown",
      "source": [
        "#**Modelo Explicativo de variables numericas**"
      ],
      "metadata": {
        "id": "CeHXF0F2yqZT"
      }
    },
    {
      "cell_type": "code",
      "source": [
        "#Ajustar maximo de filas\n",
        "pd.options.display.max_rows=None"
      ],
      "metadata": {
        "id": "Er8gHg3dy0ns"
      },
      "execution_count": 104,
      "outputs": []
    },
    {
      "cell_type": "code",
      "source": [
        "#Corroboramos valores nulos\n",
        "valores_nulos=categoricas.isnull().sum()\n",
        "valores_nulos"
      ],
      "metadata": {
        "colab": {
          "base_uri": "https://localhost:8080/",
          "height": 460
        },
        "id": "krxXTrxcy7Nz",
        "outputId": "7749acb7-fb5b-426b-86d7-c2b4fd9d9f00"
      },
      "execution_count": 105,
      "outputs": [
        {
          "output_type": "execute_result",
          "data": {
            "text/plain": [
              "host_response_rate           0\n",
              "host_acceptance_rate         0\n",
              "host_total_listings_count    0\n",
              "accommodates                 0\n",
              "bathrooms                    0\n",
              "beds                         0\n",
              "price                        0\n",
              "availability_60              0\n",
              "availability_90              0\n",
              "availability_365             0\n",
              "number_of_reviews_ltm        0\n",
              "reviews_per_month            0\n",
              "dtype: int64"
            ],
            "text/html": [
              "<div>\n",
              "<style scoped>\n",
              "    .dataframe tbody tr th:only-of-type {\n",
              "        vertical-align: middle;\n",
              "    }\n",
              "\n",
              "    .dataframe tbody tr th {\n",
              "        vertical-align: top;\n",
              "    }\n",
              "\n",
              "    .dataframe thead th {\n",
              "        text-align: right;\n",
              "    }\n",
              "</style>\n",
              "<table border=\"1\" class=\"dataframe\">\n",
              "  <thead>\n",
              "    <tr style=\"text-align: right;\">\n",
              "      <th></th>\n",
              "      <th>0</th>\n",
              "    </tr>\n",
              "  </thead>\n",
              "  <tbody>\n",
              "    <tr>\n",
              "      <th>host_response_rate</th>\n",
              "      <td>0</td>\n",
              "    </tr>\n",
              "    <tr>\n",
              "      <th>host_acceptance_rate</th>\n",
              "      <td>0</td>\n",
              "    </tr>\n",
              "    <tr>\n",
              "      <th>host_total_listings_count</th>\n",
              "      <td>0</td>\n",
              "    </tr>\n",
              "    <tr>\n",
              "      <th>accommodates</th>\n",
              "      <td>0</td>\n",
              "    </tr>\n",
              "    <tr>\n",
              "      <th>bathrooms</th>\n",
              "      <td>0</td>\n",
              "    </tr>\n",
              "    <tr>\n",
              "      <th>beds</th>\n",
              "      <td>0</td>\n",
              "    </tr>\n",
              "    <tr>\n",
              "      <th>price</th>\n",
              "      <td>0</td>\n",
              "    </tr>\n",
              "    <tr>\n",
              "      <th>availability_60</th>\n",
              "      <td>0</td>\n",
              "    </tr>\n",
              "    <tr>\n",
              "      <th>availability_90</th>\n",
              "      <td>0</td>\n",
              "    </tr>\n",
              "    <tr>\n",
              "      <th>availability_365</th>\n",
              "      <td>0</td>\n",
              "    </tr>\n",
              "    <tr>\n",
              "      <th>number_of_reviews_ltm</th>\n",
              "      <td>0</td>\n",
              "    </tr>\n",
              "    <tr>\n",
              "      <th>reviews_per_month</th>\n",
              "      <td>0</td>\n",
              "    </tr>\n",
              "  </tbody>\n",
              "</table>\n",
              "</div><br><label><b>dtype:</b> int64</label>"
            ]
          },
          "metadata": {},
          "execution_count": 105
        }
      ]
    }
  ]
}